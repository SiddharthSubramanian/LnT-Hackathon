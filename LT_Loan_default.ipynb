{
 "cells": [
  {
   "cell_type": "code",
   "execution_count": 84,
   "metadata": {},
   "outputs": [],
   "source": [
    "import pandas as pd\n",
    "import numpy as np"
   ]
  },
  {
   "cell_type": "code",
   "execution_count": 4,
   "metadata": {},
   "outputs": [],
   "source": [
    "train = pd.read_csv(\"C:\\\\Users\\\\swati\\\\Downloads\\\\LT\\\\LT\\\\train_aox2Jxw\\\\train.csv\")"
   ]
  },
  {
   "cell_type": "code",
   "execution_count": 5,
   "metadata": {
    "scrolled": true
   },
   "outputs": [
    {
     "name": "stdout",
     "output_type": "stream",
     "text": [
      "<class 'pandas.core.frame.DataFrame'>\n",
      "RangeIndex: 233154 entries, 0 to 233153\n",
      "Data columns (total 41 columns):\n",
      "UniqueID                               233154 non-null int64\n",
      "disbursed_amount                       233154 non-null int64\n",
      "asset_cost                             233154 non-null int64\n",
      "ltv                                    233154 non-null float64\n",
      "branch_id                              233154 non-null int64\n",
      "supplier_id                            233154 non-null int64\n",
      "manufacturer_id                        233154 non-null int64\n",
      "Current_pincode_ID                     233154 non-null int64\n",
      "Date.of.Birth                          233154 non-null object\n",
      "Employment.Type                        225493 non-null object\n",
      "DisbursalDate                          233154 non-null object\n",
      "State_ID                               233154 non-null int64\n",
      "Employee_code_ID                       233154 non-null int64\n",
      "MobileNo_Avl_Flag                      233154 non-null int64\n",
      "Aadhar_flag                            233154 non-null int64\n",
      "PAN_flag                               233154 non-null int64\n",
      "VoterID_flag                           233154 non-null int64\n",
      "Driving_flag                           233154 non-null int64\n",
      "Passport_flag                          233154 non-null int64\n",
      "PERFORM_CNS.SCORE                      233154 non-null int64\n",
      "PERFORM_CNS.SCORE.DESCRIPTION          233154 non-null object\n",
      "PRI.NO.OF.ACCTS                        233154 non-null int64\n",
      "PRI.ACTIVE.ACCTS                       233154 non-null int64\n",
      "PRI.OVERDUE.ACCTS                      233154 non-null int64\n",
      "PRI.CURRENT.BALANCE                    233154 non-null int64\n",
      "PRI.SANCTIONED.AMOUNT                  233154 non-null int64\n",
      "PRI.DISBURSED.AMOUNT                   233154 non-null int64\n",
      "SEC.NO.OF.ACCTS                        233154 non-null int64\n",
      "SEC.ACTIVE.ACCTS                       233154 non-null int64\n",
      "SEC.OVERDUE.ACCTS                      233154 non-null int64\n",
      "SEC.CURRENT.BALANCE                    233154 non-null int64\n",
      "SEC.SANCTIONED.AMOUNT                  233154 non-null int64\n",
      "SEC.DISBURSED.AMOUNT                   233154 non-null int64\n",
      "PRIMARY.INSTAL.AMT                     233154 non-null int64\n",
      "SEC.INSTAL.AMT                         233154 non-null int64\n",
      "NEW.ACCTS.IN.LAST.SIX.MONTHS           233154 non-null int64\n",
      "DELINQUENT.ACCTS.IN.LAST.SIX.MONTHS    233154 non-null int64\n",
      "AVERAGE.ACCT.AGE                       233154 non-null object\n",
      "CREDIT.HISTORY.LENGTH                  233154 non-null object\n",
      "NO.OF_INQUIRIES                        233154 non-null int64\n",
      "loan_default                           233154 non-null int64\n",
      "dtypes: float64(1), int64(34), object(6)\n",
      "memory usage: 72.9+ MB\n"
     ]
    }
   ],
   "source": [
    "train.info()"
   ]
  },
  {
   "cell_type": "code",
   "execution_count": 6,
   "metadata": {},
   "outputs": [],
   "source": [
    "train[\"Disbusrsal_year\"] = train[\"DisbursalDate\"].str[6:]\n",
    "train[\"Birth_year\"]= train[\"Date.of.Birth\"].str[6:]"
   ]
  },
  {
   "cell_type": "code",
   "execution_count": 7,
   "metadata": {},
   "outputs": [],
   "source": [
    "train[\"Age\"] = 100+ (train[\"Disbusrsal_year\"].astype(str).astype(int)  - train[\"Birth_year\"].astype(str).astype(int))"
   ]
  },
  {
   "cell_type": "code",
   "execution_count": 8,
   "metadata": {},
   "outputs": [
    {
     "data": {
      "text/plain": [
       "0    34\n",
       "1    33\n",
       "2    33\n",
       "3    25\n",
       "4    41\n",
       "Name: Age, dtype: int32"
      ]
     },
     "execution_count": 8,
     "metadata": {},
     "output_type": "execute_result"
    }
   ],
   "source": [
    "train[\"Age\"].head(5)"
   ]
  },
  {
   "cell_type": "code",
   "execution_count": 9,
   "metadata": {},
   "outputs": [],
   "source": [
    "import matplotlib as plt"
   ]
  },
  {
   "cell_type": "code",
   "execution_count": 58,
   "metadata": {},
   "outputs": [
    {
     "data": {
      "text/plain": [
       "No Bureau History Available                                0.501600\n",
       "C-Very Low Risk                                            0.068817\n",
       "A-Very Low Risk                                            0.060578\n",
       "D-Very Low Risk                                            0.048715\n",
       "B-Very Low Risk                                            0.039463\n",
       "M-Very High Risk                                           0.037640\n",
       "F-Low Risk                                                 0.036392\n",
       "K-High Risk                                                0.035500\n",
       "H-Medium Risk                                              0.029401\n",
       "E-Low Risk                                                 0.024966\n",
       "I-Medium Risk                                              0.023834\n",
       "G-Low Risk                                                 0.017105\n",
       "Not Scored: Sufficient History Not Available               0.016148\n",
       "J-High Risk                                                0.016075\n",
       "Not Scored: Not Enough Info available on the customer      0.015749\n",
       "Not Scored: No Activity seen on the customer (Inactive)    0.012374\n",
       "Not Scored: No Updates available in last 36 months         0.006579\n",
       "L-Very High Risk                                           0.004864\n",
       "Not Scored: Only a Guarantor                               0.004186\n",
       "Not Scored: More than 50 active Accounts found             0.000013\n",
       "Name: PERFORM_CNS.SCORE.DESCRIPTION, dtype: float64"
      ]
     },
     "execution_count": 58,
     "metadata": {},
     "output_type": "execute_result"
    }
   ],
   "source": [
    "train[\"PERFORM_CNS.SCORE.DESCRIPTION\"].value_counts(normalize = True)"
   ]
  },
  {
   "cell_type": "code",
   "execution_count": 10,
   "metadata": {},
   "outputs": [],
   "source": [
    "train_thin = train[train[\"PERFORM_CNS.SCORE.DESCRIPTION\"].isin(['No Bureau History Available','Not Scored: Sufficient History Not Available','Not Scored: Not Enough Info available on the customer','Not Scored: No Activity seen on the customer (Inactive)','Not Scored: Only a Guarantor','Not Scored: More than 50 active Accounts found' ])].reset_index()"
   ]
  },
  {
   "cell_type": "code",
   "execution_count": 11,
   "metadata": {},
   "outputs": [],
   "source": [
    "train_thin.shape\n",
    "train_thin=train_thin.drop(['index'],axis = 1)"
   ]
  },
  {
   "cell_type": "code",
   "execution_count": 12,
   "metadata": {},
   "outputs": [],
   "source": [
    "train_thick =train[~train[\"PERFORM_CNS.SCORE.DESCRIPTION\"].isin(['No Bureau History Available','Not Scored: Sufficient History Not Available','Not Scored: Not Enough Info available on the customer','Not Scored: No Activity seen on the customer (Inactive)','Not Scored: Only a Guarantor','Not Scored: More than 50 active Accounts found' ])].reset_index()"
   ]
  },
  {
   "cell_type": "code",
   "execution_count": 13,
   "metadata": {},
   "outputs": [
    {
     "data": {
      "text/plain": [
       "(104903, 45)"
      ]
     },
     "execution_count": 13,
     "metadata": {},
     "output_type": "execute_result"
    }
   ],
   "source": [
    "train_thick.shape"
   ]
  },
  {
   "cell_type": "code",
   "execution_count": 14,
   "metadata": {},
   "outputs": [
    {
     "data": {
      "text/html": [
       "<div>\n",
       "<style scoped>\n",
       "    .dataframe tbody tr th:only-of-type {\n",
       "        vertical-align: middle;\n",
       "    }\n",
       "\n",
       "    .dataframe tbody tr th {\n",
       "        vertical-align: top;\n",
       "    }\n",
       "\n",
       "    .dataframe thead th {\n",
       "        text-align: right;\n",
       "    }\n",
       "</style>\n",
       "<table border=\"1\" class=\"dataframe\">\n",
       "  <thead>\n",
       "    <tr style=\"text-align: right;\">\n",
       "      <th></th>\n",
       "      <th>index</th>\n",
       "      <th>UniqueID</th>\n",
       "      <th>disbursed_amount</th>\n",
       "      <th>asset_cost</th>\n",
       "      <th>ltv</th>\n",
       "      <th>branch_id</th>\n",
       "      <th>supplier_id</th>\n",
       "      <th>manufacturer_id</th>\n",
       "      <th>Current_pincode_ID</th>\n",
       "      <th>Date.of.Birth</th>\n",
       "      <th>...</th>\n",
       "      <th>SEC.INSTAL.AMT</th>\n",
       "      <th>NEW.ACCTS.IN.LAST.SIX.MONTHS</th>\n",
       "      <th>DELINQUENT.ACCTS.IN.LAST.SIX.MONTHS</th>\n",
       "      <th>AVERAGE.ACCT.AGE</th>\n",
       "      <th>CREDIT.HISTORY.LENGTH</th>\n",
       "      <th>NO.OF_INQUIRIES</th>\n",
       "      <th>loan_default</th>\n",
       "      <th>Disbusrsal_year</th>\n",
       "      <th>Birth_year</th>\n",
       "      <th>Age</th>\n",
       "    </tr>\n",
       "  </thead>\n",
       "  <tbody>\n",
       "    <tr>\n",
       "      <th>0</th>\n",
       "      <td>1</td>\n",
       "      <td>537409</td>\n",
       "      <td>47145</td>\n",
       "      <td>65550</td>\n",
       "      <td>73.23</td>\n",
       "      <td>67</td>\n",
       "      <td>22807</td>\n",
       "      <td>45</td>\n",
       "      <td>1502</td>\n",
       "      <td>31-07-85</td>\n",
       "      <td>...</td>\n",
       "      <td>0</td>\n",
       "      <td>0</td>\n",
       "      <td>1</td>\n",
       "      <td>1yrs 11mon</td>\n",
       "      <td>1yrs 11mon</td>\n",
       "      <td>0</td>\n",
       "      <td>1</td>\n",
       "      <td>18</td>\n",
       "      <td>85</td>\n",
       "      <td>33</td>\n",
       "    </tr>\n",
       "    <tr>\n",
       "      <th>1</th>\n",
       "      <td>3</td>\n",
       "      <td>624493</td>\n",
       "      <td>57513</td>\n",
       "      <td>66113</td>\n",
       "      <td>88.48</td>\n",
       "      <td>67</td>\n",
       "      <td>22807</td>\n",
       "      <td>45</td>\n",
       "      <td>1501</td>\n",
       "      <td>30-12-93</td>\n",
       "      <td>...</td>\n",
       "      <td>0</td>\n",
       "      <td>0</td>\n",
       "      <td>0</td>\n",
       "      <td>0yrs 8mon</td>\n",
       "      <td>1yrs 3mon</td>\n",
       "      <td>1</td>\n",
       "      <td>1</td>\n",
       "      <td>18</td>\n",
       "      <td>93</td>\n",
       "      <td>25</td>\n",
       "    </tr>\n",
       "    <tr>\n",
       "      <th>2</th>\n",
       "      <td>5</td>\n",
       "      <td>518279</td>\n",
       "      <td>54513</td>\n",
       "      <td>61900</td>\n",
       "      <td>89.66</td>\n",
       "      <td>67</td>\n",
       "      <td>22807</td>\n",
       "      <td>45</td>\n",
       "      <td>1501</td>\n",
       "      <td>08-09-90</td>\n",
       "      <td>...</td>\n",
       "      <td>0</td>\n",
       "      <td>0</td>\n",
       "      <td>0</td>\n",
       "      <td>1yrs 9mon</td>\n",
       "      <td>2yrs 0mon</td>\n",
       "      <td>0</td>\n",
       "      <td>0</td>\n",
       "      <td>18</td>\n",
       "      <td>90</td>\n",
       "      <td>28</td>\n",
       "    </tr>\n",
       "    <tr>\n",
       "      <th>3</th>\n",
       "      <td>8</td>\n",
       "      <td>490213</td>\n",
       "      <td>53713</td>\n",
       "      <td>61973</td>\n",
       "      <td>89.56</td>\n",
       "      <td>67</td>\n",
       "      <td>22807</td>\n",
       "      <td>45</td>\n",
       "      <td>1497</td>\n",
       "      <td>15-11-91</td>\n",
       "      <td>...</td>\n",
       "      <td>0</td>\n",
       "      <td>0</td>\n",
       "      <td>0</td>\n",
       "      <td>4yrs 8mon</td>\n",
       "      <td>4yrs 8mon</td>\n",
       "      <td>1</td>\n",
       "      <td>0</td>\n",
       "      <td>18</td>\n",
       "      <td>91</td>\n",
       "      <td>27</td>\n",
       "    </tr>\n",
       "    <tr>\n",
       "      <th>4</th>\n",
       "      <td>9</td>\n",
       "      <td>510980</td>\n",
       "      <td>52603</td>\n",
       "      <td>61300</td>\n",
       "      <td>86.95</td>\n",
       "      <td>67</td>\n",
       "      <td>22807</td>\n",
       "      <td>45</td>\n",
       "      <td>1492</td>\n",
       "      <td>01-06-68</td>\n",
       "      <td>...</td>\n",
       "      <td>0</td>\n",
       "      <td>0</td>\n",
       "      <td>0</td>\n",
       "      <td>1yrs 7mon</td>\n",
       "      <td>1yrs 7mon</td>\n",
       "      <td>0</td>\n",
       "      <td>0</td>\n",
       "      <td>18</td>\n",
       "      <td>68</td>\n",
       "      <td>50</td>\n",
       "    </tr>\n",
       "  </tbody>\n",
       "</table>\n",
       "<p>5 rows × 45 columns</p>\n",
       "</div>"
      ],
      "text/plain": [
       "   index  UniqueID  disbursed_amount  asset_cost    ltv  branch_id  \\\n",
       "0      1    537409             47145       65550  73.23         67   \n",
       "1      3    624493             57513       66113  88.48         67   \n",
       "2      5    518279             54513       61900  89.66         67   \n",
       "3      8    490213             53713       61973  89.56         67   \n",
       "4      9    510980             52603       61300  86.95         67   \n",
       "\n",
       "   supplier_id  manufacturer_id  Current_pincode_ID Date.of.Birth ...   \\\n",
       "0        22807               45                1502      31-07-85 ...    \n",
       "1        22807               45                1501      30-12-93 ...    \n",
       "2        22807               45                1501      08-09-90 ...    \n",
       "3        22807               45                1497      15-11-91 ...    \n",
       "4        22807               45                1492      01-06-68 ...    \n",
       "\n",
       "  SEC.INSTAL.AMT NEW.ACCTS.IN.LAST.SIX.MONTHS  \\\n",
       "0              0                            0   \n",
       "1              0                            0   \n",
       "2              0                            0   \n",
       "3              0                            0   \n",
       "4              0                            0   \n",
       "\n",
       "   DELINQUENT.ACCTS.IN.LAST.SIX.MONTHS  AVERAGE.ACCT.AGE  \\\n",
       "0                                    1        1yrs 11mon   \n",
       "1                                    0         0yrs 8mon   \n",
       "2                                    0         1yrs 9mon   \n",
       "3                                    0         4yrs 8mon   \n",
       "4                                    0         1yrs 7mon   \n",
       "\n",
       "   CREDIT.HISTORY.LENGTH  NO.OF_INQUIRIES  loan_default  Disbusrsal_year  \\\n",
       "0             1yrs 11mon                0             1               18   \n",
       "1              1yrs 3mon                1             1               18   \n",
       "2              2yrs 0mon                0             0               18   \n",
       "3              4yrs 8mon                1             0               18   \n",
       "4              1yrs 7mon                0             0               18   \n",
       "\n",
       "   Birth_year  Age  \n",
       "0          85   33  \n",
       "1          93   25  \n",
       "2          90   28  \n",
       "3          91   27  \n",
       "4          68   50  \n",
       "\n",
       "[5 rows x 45 columns]"
      ]
     },
     "execution_count": 14,
     "metadata": {},
     "output_type": "execute_result"
    }
   ],
   "source": [
    "train_thick.head(5)"
   ]
  },
  {
   "cell_type": "code",
   "execution_count": 15,
   "metadata": {},
   "outputs": [],
   "source": [
    "train_thick=train_thick.drop(['index'],axis = 1)"
   ]
  },
  {
   "cell_type": "code",
   "execution_count": 16,
   "metadata": {},
   "outputs": [],
   "source": [
    "train_thick.sort_values(by = [\"Age\"],inplace = True)\n",
    "train_thin.sort_values(by = [\"Age\"],inplace = True)\n"
   ]
  },
  {
   "cell_type": "code",
   "execution_count": 17,
   "metadata": {},
   "outputs": [],
   "source": [
    "train_thick[\"Age_band\"]= pd.qcut(train_thick[\"Age\"],10)\n",
    "train_thin[\"Age_band\"]= pd.qcut(train_thick[\"Age\"],10)\n"
   ]
  },
  {
   "cell_type": "code",
   "execution_count": 18,
   "metadata": {},
   "outputs": [
    {
     "data": {
      "text/plain": [
       "(18.999, 25.0]    0.127422\n",
       "(27.0, 30.0]      0.121541\n",
       "(32.0, 35.0]      0.112180\n",
       "(41.0, 45.0]      0.106260\n",
       "(35.0, 38.0]      0.103305\n",
       "(45.0, 50.0]      0.097309\n",
       "(50.0, 118.0]     0.090874\n",
       "(38.0, 41.0]      0.088997\n",
       "(30.0, 32.0]      0.079235\n",
       "(25.0, 27.0]      0.072877\n",
       "Name: Age_band, dtype: float64"
      ]
     },
     "execution_count": 18,
     "metadata": {},
     "output_type": "execute_result"
    }
   ],
   "source": [
    "train_thick[\"Age_band\"].value_counts(normalize = True)\n",
    "\n",
    "train_thin[\"Age_band\"].value_counts(normalize = True)\n",
    "\n",
    "pd.crosstab(train_thick[\"Age_band\"],train_thick[\"loan_default\"]).apply(lambda r:r/r.sum(),axis = 1)\n",
    "\n",
    "pd.crosstab(train_thin[\"Age_band\"],train_thin[\"loan_default\"]).apply(lambda r:r/r.sum(),axis = 1)\n",
    "\n",
    "train_thick.info()\n",
    "\n",
    "train_thick[\"DELINQUENT.ACCTS.IN.LAST.SIX.MONTHS\"].value_counts()\n",
    "\n",
    "train_thin[\"DELINQUENT.ACCTS.IN.LAST.SIX.MONTHS\"].value_counts(normalize = True)\n",
    "\n",
    "train_thin[\"Employment.Type\"].value_counts(normalize = True)\n",
    "\n",
    "pd.crosstab(train_thin[\"Employment.Type\"],train_thin[\"loan_default\"]).apply(lambda r:r/r.sum(),axis = 1)\n",
    "\n",
    "train_thick[\"Employment.Type\"].value_counts(normalize = True)\n",
    "\n",
    "pd.crosstab(train_thick[\"Employment.Type\"],train_thick[\"loan_default\"]).apply(lambda r:r/r.sum(),axis = 1)\n",
    "\n",
    "pd.crosstab(train_thick[\"MobileNo_Avl_Flag\"],train_thick[\"loan_default\"]).apply(lambda r:r/r.sum(),axis = 1)\n",
    "\n",
    "pd.crosstab(train_thin[\"MobileNo_Avl_Flag\"],train_thin[\"loan_default\"]).apply(lambda r:r/r.sum(),axis = 1)\n",
    "\n",
    "pd.crosstab(train_thick[\"Aadhar_flag\"],train_thick[\"loan_default\"]).apply(lambda r:r/r.sum(),axis = 1)\n",
    "\n",
    "train_thick[\"Aadhar_flag\"].value_counts(normalize = True)\n",
    "\n",
    "train_thin[\"Aadhar_flag\"].value_counts(normalize = True)\n",
    "\n",
    "pd.crosstab(train_thin[\"Aadhar_flag\"],train_thin[\"loan_default\"]).apply(lambda r:r/r.sum(),axis = 1)"
   ]
  },
  {
   "cell_type": "code",
   "execution_count": 20,
   "metadata": {},
   "outputs": [],
   "source": [
    "train_thick[\"Curr_Utilization\"] = train_thick[\"PRI.CURRENT.BALANCE\"]/train_thick[\"PRI.DISBURSED.AMOUNT\"]\n",
    "\n",
    "train_thick[\"Curr_Utilization\"].value_counts(normalize = True)\n",
    "\n",
    "train_thick[train_thick[\"PRI.CURRENT.BALANCE\"]>0]\n",
    "\n",
    "train_thick[\"Curr_util_rev\"] = np.where(train_thick[\"Curr_Utilization\"] <= 0, 0 , train_thick[\"Curr_Utilization\"])\n",
    "train_thick[\"Curr_util_rev1\"] = np.where(train_thick[\"PRI.DISBURSED.AMOUNT\"]== 0 ,0,train_thick[\"Curr_util_rev\"] )"
   ]
  },
  {
   "cell_type": "code",
   "execution_count": 122,
   "metadata": {},
   "outputs": [
    {
     "data": {
      "text/plain": [
       "0.000000    0.214083\n",
       "1.000000    0.025042\n",
       "0.500000    0.002431\n",
       "0.400000    0.001335\n",
       "0.100000    0.001239\n",
       "0.200000    0.001230\n",
       "0.333333    0.001163\n",
       "0.300000    0.001144\n",
       "0.600000    0.001049\n",
       "0.166667    0.000829\n",
       "0.700000    0.000715\n",
       "0.250000    0.000715\n",
       "0.800000    0.000648\n",
       "0.666667    0.000620\n",
       "0.416667    0.000562\n",
       "0.083333    0.000448\n",
       "0.833333    0.000229\n",
       "0.285714    0.000229\n",
       "0.428571    0.000210\n",
       "0.750000    0.000191\n",
       "0.583333    0.000181\n",
       "0.499937    0.000172\n",
       "0.142857    0.000162\n",
       "0.571429    0.000162\n",
       "0.375000    0.000143\n",
       "0.900000    0.000133\n",
       "0.533333    0.000133\n",
       "0.444444    0.000114\n",
       "0.374700    0.000114\n",
       "0.499749    0.000114\n",
       "              ...   \n",
       "0.998410    0.000010\n",
       "0.587339    0.000010\n",
       "0.677796    0.000010\n",
       "0.857218    0.000010\n",
       "0.794697    0.000010\n",
       "0.902907    0.000010\n",
       "0.882583    0.000010\n",
       "0.865090    0.000010\n",
       "0.664377    0.000010\n",
       "0.312740    0.000010\n",
       "0.542255    0.000010\n",
       "1.048421    0.000010\n",
       "0.366895    0.000010\n",
       "0.836010    0.000010\n",
       "0.626691    0.000010\n",
       "0.990929    0.000010\n",
       "0.989768    0.000010\n",
       "0.892167    0.000010\n",
       "0.963531    0.000010\n",
       "0.854525    0.000010\n",
       "0.662883    0.000010\n",
       "0.992238    0.000010\n",
       "0.137301    0.000010\n",
       "0.849875    0.000010\n",
       "1.806605    0.000010\n",
       "0.149745    0.000010\n",
       "0.153167    0.000010\n",
       "0.149591    0.000010\n",
       "0.361898    0.000010\n",
       "0.678678    0.000010\n",
       "Name: Curr_util_rev1, Length: 76158, dtype: float64"
      ]
     },
     "execution_count": 122,
     "metadata": {},
     "output_type": "execute_result"
    }
   ],
   "source": [
    "train_thick[\"Curr_util_rev1\"].value_counts(normalize = True)"
   ]
  },
  {
   "cell_type": "code",
   "execution_count": 21,
   "metadata": {},
   "outputs": [
    {
     "data": {
      "text/html": [
       "<div>\n",
       "<style scoped>\n",
       "    .dataframe tbody tr th:only-of-type {\n",
       "        vertical-align: middle;\n",
       "    }\n",
       "\n",
       "    .dataframe tbody tr th {\n",
       "        vertical-align: top;\n",
       "    }\n",
       "\n",
       "    .dataframe thead th {\n",
       "        text-align: right;\n",
       "    }\n",
       "</style>\n",
       "<table border=\"1\" class=\"dataframe\">\n",
       "  <thead>\n",
       "    <tr style=\"text-align: right;\">\n",
       "      <th>loan_default</th>\n",
       "      <th>0</th>\n",
       "      <th>1</th>\n",
       "    </tr>\n",
       "    <tr>\n",
       "      <th>Curr_util_rev1</th>\n",
       "      <th></th>\n",
       "      <th></th>\n",
       "    </tr>\n",
       "  </thead>\n",
       "  <tbody>\n",
       "    <tr>\n",
       "      <th>0.000000</th>\n",
       "      <td>0.797578</td>\n",
       "      <td>0.202422</td>\n",
       "    </tr>\n",
       "    <tr>\n",
       "      <th>0.000003</th>\n",
       "      <td>1.000000</td>\n",
       "      <td>0.000000</td>\n",
       "    </tr>\n",
       "    <tr>\n",
       "      <th>0.000004</th>\n",
       "      <td>1.000000</td>\n",
       "      <td>0.000000</td>\n",
       "    </tr>\n",
       "    <tr>\n",
       "      <th>0.000014</th>\n",
       "      <td>0.000000</td>\n",
       "      <td>1.000000</td>\n",
       "    </tr>\n",
       "    <tr>\n",
       "      <th>0.000018</th>\n",
       "      <td>0.000000</td>\n",
       "      <td>1.000000</td>\n",
       "    </tr>\n",
       "    <tr>\n",
       "      <th>0.000019</th>\n",
       "      <td>1.000000</td>\n",
       "      <td>0.000000</td>\n",
       "    </tr>\n",
       "    <tr>\n",
       "      <th>0.000020</th>\n",
       "      <td>1.000000</td>\n",
       "      <td>0.000000</td>\n",
       "    </tr>\n",
       "    <tr>\n",
       "      <th>0.000023</th>\n",
       "      <td>1.000000</td>\n",
       "      <td>0.000000</td>\n",
       "    </tr>\n",
       "    <tr>\n",
       "      <th>0.000024</th>\n",
       "      <td>1.000000</td>\n",
       "      <td>0.000000</td>\n",
       "    </tr>\n",
       "    <tr>\n",
       "      <th>0.000024</th>\n",
       "      <td>1.000000</td>\n",
       "      <td>0.000000</td>\n",
       "    </tr>\n",
       "    <tr>\n",
       "      <th>0.000025</th>\n",
       "      <td>1.000000</td>\n",
       "      <td>0.000000</td>\n",
       "    </tr>\n",
       "    <tr>\n",
       "      <th>0.000027</th>\n",
       "      <td>1.000000</td>\n",
       "      <td>0.000000</td>\n",
       "    </tr>\n",
       "    <tr>\n",
       "      <th>0.000031</th>\n",
       "      <td>1.000000</td>\n",
       "      <td>0.000000</td>\n",
       "    </tr>\n",
       "    <tr>\n",
       "      <th>0.000036</th>\n",
       "      <td>0.000000</td>\n",
       "      <td>1.000000</td>\n",
       "    </tr>\n",
       "    <tr>\n",
       "      <th>0.000036</th>\n",
       "      <td>1.000000</td>\n",
       "      <td>0.000000</td>\n",
       "    </tr>\n",
       "    <tr>\n",
       "      <th>0.000040</th>\n",
       "      <td>0.000000</td>\n",
       "      <td>1.000000</td>\n",
       "    </tr>\n",
       "    <tr>\n",
       "      <th>0.000050</th>\n",
       "      <td>1.000000</td>\n",
       "      <td>0.000000</td>\n",
       "    </tr>\n",
       "    <tr>\n",
       "      <th>0.000051</th>\n",
       "      <td>1.000000</td>\n",
       "      <td>0.000000</td>\n",
       "    </tr>\n",
       "    <tr>\n",
       "      <th>0.000053</th>\n",
       "      <td>1.000000</td>\n",
       "      <td>0.000000</td>\n",
       "    </tr>\n",
       "    <tr>\n",
       "      <th>0.000056</th>\n",
       "      <td>1.000000</td>\n",
       "      <td>0.000000</td>\n",
       "    </tr>\n",
       "    <tr>\n",
       "      <th>0.000069</th>\n",
       "      <td>0.000000</td>\n",
       "      <td>1.000000</td>\n",
       "    </tr>\n",
       "    <tr>\n",
       "      <th>0.000071</th>\n",
       "      <td>1.000000</td>\n",
       "      <td>0.000000</td>\n",
       "    </tr>\n",
       "    <tr>\n",
       "      <th>0.000090</th>\n",
       "      <td>1.000000</td>\n",
       "      <td>0.000000</td>\n",
       "    </tr>\n",
       "    <tr>\n",
       "      <th>0.000090</th>\n",
       "      <td>1.000000</td>\n",
       "      <td>0.000000</td>\n",
       "    </tr>\n",
       "    <tr>\n",
       "      <th>0.000099</th>\n",
       "      <td>0.000000</td>\n",
       "      <td>1.000000</td>\n",
       "    </tr>\n",
       "    <tr>\n",
       "      <th>0.000100</th>\n",
       "      <td>0.000000</td>\n",
       "      <td>1.000000</td>\n",
       "    </tr>\n",
       "    <tr>\n",
       "      <th>0.000104</th>\n",
       "      <td>1.000000</td>\n",
       "      <td>0.000000</td>\n",
       "    </tr>\n",
       "    <tr>\n",
       "      <th>0.000105</th>\n",
       "      <td>0.000000</td>\n",
       "      <td>1.000000</td>\n",
       "    </tr>\n",
       "    <tr>\n",
       "      <th>0.000107</th>\n",
       "      <td>1.000000</td>\n",
       "      <td>0.000000</td>\n",
       "    </tr>\n",
       "    <tr>\n",
       "      <th>0.000109</th>\n",
       "      <td>1.000000</td>\n",
       "      <td>0.000000</td>\n",
       "    </tr>\n",
       "    <tr>\n",
       "      <th>...</th>\n",
       "      <td>...</td>\n",
       "      <td>...</td>\n",
       "    </tr>\n",
       "    <tr>\n",
       "      <th>45.141891</th>\n",
       "      <td>0.000000</td>\n",
       "      <td>1.000000</td>\n",
       "    </tr>\n",
       "    <tr>\n",
       "      <th>80.000000</th>\n",
       "      <td>1.000000</td>\n",
       "      <td>0.000000</td>\n",
       "    </tr>\n",
       "    <tr>\n",
       "      <th>104.048400</th>\n",
       "      <td>0.000000</td>\n",
       "      <td>1.000000</td>\n",
       "    </tr>\n",
       "    <tr>\n",
       "      <th>108.046589</th>\n",
       "      <td>0.000000</td>\n",
       "      <td>1.000000</td>\n",
       "    </tr>\n",
       "    <tr>\n",
       "      <th>109.996143</th>\n",
       "      <td>1.000000</td>\n",
       "      <td>0.000000</td>\n",
       "    </tr>\n",
       "    <tr>\n",
       "      <th>123.000000</th>\n",
       "      <td>1.000000</td>\n",
       "      <td>0.000000</td>\n",
       "    </tr>\n",
       "    <tr>\n",
       "      <th>128.000000</th>\n",
       "      <td>1.000000</td>\n",
       "      <td>0.000000</td>\n",
       "    </tr>\n",
       "    <tr>\n",
       "      <th>130.000000</th>\n",
       "      <td>1.000000</td>\n",
       "      <td>0.000000</td>\n",
       "    </tr>\n",
       "    <tr>\n",
       "      <th>137.254902</th>\n",
       "      <td>1.000000</td>\n",
       "      <td>0.000000</td>\n",
       "    </tr>\n",
       "    <tr>\n",
       "      <th>146.875000</th>\n",
       "      <td>0.000000</td>\n",
       "      <td>1.000000</td>\n",
       "    </tr>\n",
       "    <tr>\n",
       "      <th>192.000000</th>\n",
       "      <td>0.000000</td>\n",
       "      <td>1.000000</td>\n",
       "    </tr>\n",
       "    <tr>\n",
       "      <th>196.420000</th>\n",
       "      <td>1.000000</td>\n",
       "      <td>0.000000</td>\n",
       "    </tr>\n",
       "    <tr>\n",
       "      <th>624.681440</th>\n",
       "      <td>1.000000</td>\n",
       "      <td>0.000000</td>\n",
       "    </tr>\n",
       "    <tr>\n",
       "      <th>634.355828</th>\n",
       "      <td>1.000000</td>\n",
       "      <td>0.000000</td>\n",
       "    </tr>\n",
       "    <tr>\n",
       "      <th>640.000000</th>\n",
       "      <td>1.000000</td>\n",
       "      <td>0.000000</td>\n",
       "    </tr>\n",
       "    <tr>\n",
       "      <th>718.400000</th>\n",
       "      <td>1.000000</td>\n",
       "      <td>0.000000</td>\n",
       "    </tr>\n",
       "    <tr>\n",
       "      <th>773.333333</th>\n",
       "      <td>1.000000</td>\n",
       "      <td>0.000000</td>\n",
       "    </tr>\n",
       "    <tr>\n",
       "      <th>820.000000</th>\n",
       "      <td>1.000000</td>\n",
       "      <td>0.000000</td>\n",
       "    </tr>\n",
       "    <tr>\n",
       "      <th>840.675676</th>\n",
       "      <td>1.000000</td>\n",
       "      <td>0.000000</td>\n",
       "    </tr>\n",
       "    <tr>\n",
       "      <th>959.580886</th>\n",
       "      <td>1.000000</td>\n",
       "      <td>0.000000</td>\n",
       "    </tr>\n",
       "    <tr>\n",
       "      <th>1630.916667</th>\n",
       "      <td>0.000000</td>\n",
       "      <td>1.000000</td>\n",
       "    </tr>\n",
       "    <tr>\n",
       "      <th>1970.821429</th>\n",
       "      <td>1.000000</td>\n",
       "      <td>0.000000</td>\n",
       "    </tr>\n",
       "    <tr>\n",
       "      <th>2305.000000</th>\n",
       "      <td>1.000000</td>\n",
       "      <td>0.000000</td>\n",
       "    </tr>\n",
       "    <tr>\n",
       "      <th>3092.857143</th>\n",
       "      <td>1.000000</td>\n",
       "      <td>0.000000</td>\n",
       "    </tr>\n",
       "    <tr>\n",
       "      <th>5328.000000</th>\n",
       "      <td>1.000000</td>\n",
       "      <td>0.000000</td>\n",
       "    </tr>\n",
       "    <tr>\n",
       "      <th>5368.292683</th>\n",
       "      <td>1.000000</td>\n",
       "      <td>0.000000</td>\n",
       "    </tr>\n",
       "    <tr>\n",
       "      <th>6251.000000</th>\n",
       "      <td>1.000000</td>\n",
       "      <td>0.000000</td>\n",
       "    </tr>\n",
       "    <tr>\n",
       "      <th>7000.000000</th>\n",
       "      <td>0.000000</td>\n",
       "      <td>1.000000</td>\n",
       "    </tr>\n",
       "    <tr>\n",
       "      <th>30066.000000</th>\n",
       "      <td>1.000000</td>\n",
       "      <td>0.000000</td>\n",
       "    </tr>\n",
       "    <tr>\n",
       "      <th>57582.000000</th>\n",
       "      <td>1.000000</td>\n",
       "      <td>0.000000</td>\n",
       "    </tr>\n",
       "  </tbody>\n",
       "</table>\n",
       "<p>76158 rows × 2 columns</p>\n",
       "</div>"
      ],
      "text/plain": [
       "loan_default           0         1\n",
       "Curr_util_rev1                    \n",
       "0.000000        0.797578  0.202422\n",
       "0.000003        1.000000  0.000000\n",
       "0.000004        1.000000  0.000000\n",
       "0.000014        0.000000  1.000000\n",
       "0.000018        0.000000  1.000000\n",
       "0.000019        1.000000  0.000000\n",
       "0.000020        1.000000  0.000000\n",
       "0.000023        1.000000  0.000000\n",
       "0.000024        1.000000  0.000000\n",
       "0.000024        1.000000  0.000000\n",
       "0.000025        1.000000  0.000000\n",
       "0.000027        1.000000  0.000000\n",
       "0.000031        1.000000  0.000000\n",
       "0.000036        0.000000  1.000000\n",
       "0.000036        1.000000  0.000000\n",
       "0.000040        0.000000  1.000000\n",
       "0.000050        1.000000  0.000000\n",
       "0.000051        1.000000  0.000000\n",
       "0.000053        1.000000  0.000000\n",
       "0.000056        1.000000  0.000000\n",
       "0.000069        0.000000  1.000000\n",
       "0.000071        1.000000  0.000000\n",
       "0.000090        1.000000  0.000000\n",
       "0.000090        1.000000  0.000000\n",
       "0.000099        0.000000  1.000000\n",
       "0.000100        0.000000  1.000000\n",
       "0.000104        1.000000  0.000000\n",
       "0.000105        0.000000  1.000000\n",
       "0.000107        1.000000  0.000000\n",
       "0.000109        1.000000  0.000000\n",
       "...                  ...       ...\n",
       "45.141891       0.000000  1.000000\n",
       "80.000000       1.000000  0.000000\n",
       "104.048400      0.000000  1.000000\n",
       "108.046589      0.000000  1.000000\n",
       "109.996143      1.000000  0.000000\n",
       "123.000000      1.000000  0.000000\n",
       "128.000000      1.000000  0.000000\n",
       "130.000000      1.000000  0.000000\n",
       "137.254902      1.000000  0.000000\n",
       "146.875000      0.000000  1.000000\n",
       "192.000000      0.000000  1.000000\n",
       "196.420000      1.000000  0.000000\n",
       "624.681440      1.000000  0.000000\n",
       "634.355828      1.000000  0.000000\n",
       "640.000000      1.000000  0.000000\n",
       "718.400000      1.000000  0.000000\n",
       "773.333333      1.000000  0.000000\n",
       "820.000000      1.000000  0.000000\n",
       "840.675676      1.000000  0.000000\n",
       "959.580886      1.000000  0.000000\n",
       "1630.916667     0.000000  1.000000\n",
       "1970.821429     1.000000  0.000000\n",
       "2305.000000     1.000000  0.000000\n",
       "3092.857143     1.000000  0.000000\n",
       "5328.000000     1.000000  0.000000\n",
       "5368.292683     1.000000  0.000000\n",
       "6251.000000     1.000000  0.000000\n",
       "7000.000000     0.000000  1.000000\n",
       "30066.000000    1.000000  0.000000\n",
       "57582.000000    1.000000  0.000000\n",
       "\n",
       "[76158 rows x 2 columns]"
      ]
     },
     "execution_count": 21,
     "metadata": {},
     "output_type": "execute_result"
    }
   ],
   "source": [
    "train_thick.sort_values(by = [\"Curr_util_rev1\"],inplace = True)\n",
    "\n",
    "pd.crosstab(train_thick[\"Curr_util_rev1\"],train_thick[\"loan_default\"]).apply(lambda r:r/r.sum(),axis = 1)"
   ]
  },
  {
   "cell_type": "code",
   "execution_count": 22,
   "metadata": {},
   "outputs": [],
   "source": [
    "train_thick[\"Sec_Curr_Utilization\"] = train_thick[\"SEC.CURRENT.BALANCE\"]/train_thick[\"SEC.DISBURSED.AMOUNT\"]\n",
    "\n",
    "train_thick[\"Sec_Curr_Utilization\"].value_counts(normalize = True)\n",
    "\n",
    "train_thick[train_thick[\"SEC.CURRENT.BALANCE\"]>0]\n",
    "\n",
    "train_thick[\"Sec_Curr_util_rev\"] = np.where(train_thick[\"Sec_Curr_Utilization\"] <= 0, 0 , train_thick[\"Sec_Curr_Utilization\"])\n",
    "train_thick[\"Sec_Curr_util_rev1\"] = np.where(train_thick[\"SEC.DISBURSED.AMOUNT\"]== 0 ,0,train_thick[\"Sec_Curr_util_rev\"] )"
   ]
  },
  {
   "cell_type": "code",
   "execution_count": 23,
   "metadata": {},
   "outputs": [],
   "source": [
    "train_thick.loc[(train_thick[\"PRI.DISBURSED.AMOUNT\"] < train_thick[\"PRI.CURRENT.BALANCE\"]), \"dis_gt_bl\"]= 1\n",
    "train_thick.loc[~(train_thick[\"PRI.DISBURSED.AMOUNT\"] < train_thick[\"PRI.CURRENT.BALANCE\"]), \"dis_gt_bl\"]= 0"
   ]
  },
  {
   "cell_type": "code",
   "execution_count": 24,
   "metadata": {},
   "outputs": [],
   "source": [
    "train_thick_1 = train_thick"
   ]
  },
  {
   "cell_type": "code",
   "execution_count": 25,
   "metadata": {},
   "outputs": [],
   "source": [
    "train_thick_1[\"dis_sanc_amt\"]= train_thick[\"PRI.SANCTIONED.AMOUNT\"] - train_thick[\"PRI.DISBURSED.AMOUNT\"] "
   ]
  },
  {
   "cell_type": "code",
   "execution_count": 570,
   "metadata": {
    "scrolled": true
   },
   "outputs": [
    {
     "data": {
      "text/plain": [
       "1      0.251099\n",
       "2      0.173303\n",
       "3      0.119701\n",
       "4      0.086728\n",
       "5      0.067710\n",
       "6      0.052353\n",
       "7      0.041667\n",
       "8      0.033736\n",
       "9      0.027301\n",
       "10     0.022402\n",
       "11     0.018141\n",
       "12     0.014804\n",
       "13     0.013231\n",
       "14     0.010677\n",
       "15     0.008903\n",
       "16     0.007578\n",
       "17     0.006139\n",
       "18     0.005405\n",
       "19     0.004776\n",
       "20     0.004137\n",
       "21     0.003298\n",
       "22     0.003060\n",
       "24     0.002726\n",
       "23     0.002364\n",
       "25     0.001773\n",
       "26     0.001621\n",
       "27     0.001458\n",
       "28     0.001344\n",
       "29     0.001239\n",
       "30     0.001173\n",
       "         ...   \n",
       "87     0.000029\n",
       "76     0.000029\n",
       "82     0.000019\n",
       "108    0.000019\n",
       "70     0.000019\n",
       "73     0.000019\n",
       "94     0.000019\n",
       "90     0.000019\n",
       "81     0.000019\n",
       "148    0.000019\n",
       "84     0.000019\n",
       "132    0.000010\n",
       "124    0.000010\n",
       "120    0.000010\n",
       "114    0.000010\n",
       "113    0.000010\n",
       "147    0.000010\n",
       "131    0.000010\n",
       "104    0.000010\n",
       "102    0.000010\n",
       "86     0.000010\n",
       "271    0.000010\n",
       "453    0.000010\n",
       "100    0.000010\n",
       "99     0.000010\n",
       "85     0.000010\n",
       "354    0.000010\n",
       "83     0.000010\n",
       "136    0.000010\n",
       "88     0.000010\n",
       "Name: PRI.NO.OF.ACCTS, Length: 106, dtype: float64"
      ]
     },
     "execution_count": 570,
     "metadata": {},
     "output_type": "execute_result"
    }
   ],
   "source": [
    "train_thick_1[\"PRI.NO.OF.ACCTS\"].value_counts(normalize = True)\n",
    "\n",
    "train_thick_1.sort_values(by = [\"PRI.ACTIVE.ACCTS\"],inplace = True)\n",
    "\n",
    "pd.crosstab(train_thick_1[\"PRI.ACTIVE.ACCTS\"],train_thick_1[\"loan_default\"]).apply(lambda r:r/r.sum(),axis = 1)"
   ]
  },
  {
   "cell_type": "code",
   "execution_count": 27,
   "metadata": {},
   "outputs": [],
   "source": [
    "train_thick_1.loc[(train_thick_1[\"PRI.ACTIVE.ACCTS\"] == 0), \"active_accts_band\"]= \"No active accts\"\n",
    "train_thick_1.loc[(train_thick_1[\"PRI.ACTIVE.ACCTS\"] >0) & (train_thick_1[\"PRI.ACTIVE.ACCTS\"] < 3), \"active_accts_band\"]= \"1-2 active accts\"\n",
    "train_thick_1.loc[(train_thick_1[\"PRI.ACTIVE.ACCTS\"] >2) , \"active_accts_band\"]= \"Greater than 3 active accts\"\n"
   ]
  },
  {
   "cell_type": "code",
   "execution_count": 574,
   "metadata": {},
   "outputs": [
    {
     "data": {
      "text/plain": [
       "1-2 active accts               0.524132\n",
       "Greater than 3 active accts    0.307398\n",
       "No active accts                0.168470\n",
       "Name: active_accts_band, dtype: float64"
      ]
     },
     "execution_count": 574,
     "metadata": {},
     "output_type": "execute_result"
    }
   ],
   "source": [
    "train_thick_1[\"active_accts_band\"].value_counts(normalize = True)\n",
    "\n",
    "pd.crosstab(train_thick_1[\"active_accts_band\"],train_thick_1[\"loan_default\"]).apply(lambda r:r/r.sum(),axis = 1)\n",
    "\n",
    "pd.crosstab(train_thick_1[\"PRI.OVERDUE.ACCTS\"],train_thick_1[\"loan_default\"]).apply(lambda r:r/r.sum(),axis = 1)\n",
    "\n",
    "train_thick_1.describe()\n",
    "\n",
    "train_thick_1.info()\n",
    "\n",
    "train_thick_1[\"PAN_flag\"].value_counts(normalize = True)\n",
    "\n",
    "from sklearn.model_selection import train_test_split\n",
    "\n",
    "print(train_thick_1[\"Passport_flag\"].value_counts(normalize = True))\n",
    "\n",
    "print(train_thick_1[\"Aadhar_flag\"].value_counts(normalize = True))\n",
    "\n",
    "print(train_thick_1[\"VoterID_flag\"].value_counts(normalize = True))\n",
    "\n",
    "print(train_thick_1[\"Driving_flag\"].value_counts(normalize = True))\n",
    "\n",
    "train_thick_1.head(5)\n",
    "\n",
    "train_thick_1[\"CREDIT.HISTORY.LENGTH\"]"
   ]
  },
  {
   "cell_type": "code",
   "execution_count": 28,
   "metadata": {},
   "outputs": [
    {
     "name": "stdout",
     "output_type": "stream",
     "text": [
      "<class 'pandas.core.frame.DataFrame'>\n",
      "Int64Index: 104903 entries, 43185 to 50345\n",
      "Data columns (total 2 columns):\n",
      "yrs       104903 non-null int32\n",
      "months    104903 non-null int32\n",
      "dtypes: int32(2)\n",
      "memory usage: 1.6 MB\n",
      "None\n"
     ]
    },
    {
     "name": "stderr",
     "output_type": "stream",
     "text": [
      "C:\\Users\\swati\\AppData\\Local\\Continuum\\anaconda3\\lib\\site-packages\\ipykernel_launcher.py:9: SettingWithCopyWarning: \n",
      "A value is trying to be set on a copy of a slice from a DataFrame.\n",
      "Try using .loc[row_indexer,col_indexer] = value instead\n",
      "\n",
      "See the caveats in the documentation: http://pandas.pydata.org/pandas-docs/stable/indexing.html#indexing-view-versus-copy\n",
      "  if __name__ == '__main__':\n",
      "C:\\Users\\swati\\AppData\\Local\\Continuum\\anaconda3\\lib\\site-packages\\ipykernel_launcher.py:10: SettingWithCopyWarning: \n",
      "A value is trying to be set on a copy of a slice from a DataFrame.\n",
      "Try using .loc[row_indexer,col_indexer] = value instead\n",
      "\n",
      "See the caveats in the documentation: http://pandas.pydata.org/pandas-docs/stable/indexing.html#indexing-view-versus-copy\n",
      "  # Remove the CWD from sys.path while we load stuff.\n"
     ]
    }
   ],
   "source": [
    "new = train_thick_1[\"CREDIT.HISTORY.LENGTH\"].str.split(\"yrs\", n = 1, expand = True)\n",
    "\n",
    "new_1 = new[1].str.split(\"mon\",n=1,expand=True)\n",
    "\n",
    "new_all = pd.concat([new, new_1], axis=1)\n",
    "# print(new_all)\n",
    "new_all.columns= [\"yrs\",\"text_mon\",\"months\",\"drop\"]\n",
    "new_all_2= new_all[[\"yrs\",\"months\"]]\n",
    "new_all_2[\"yrs\"] = new_all_2[\"yrs\"].astype(str).astype(int)\n",
    "new_all_2[\"months\"] = new_all_2[\"months\"].astype(str).astype(int)\n",
    "print(new_all_2.info())\n",
    "\n",
    "new_all_2[\"point_years\"] = new_all_2[\"months\"]/12\n",
    "\n",
    "new_all_2.head(5)\n",
    "\n",
    "new_all_2[\"mob\"] = new_all_2[\"yrs\"] + new_all_2[\"point_years\"]\n",
    "mob = pd.DataFrame(new_all_2[\"mob\"])\n",
    "print(mob.head(5))\n",
    "\n",
    "train_thick_1 = train_thick_1.merge(mob,left_index = True,right_index = True)"
   ]
  },
  {
   "cell_type": "code",
   "execution_count": 594,
   "metadata": {
    "scrolled": true
   },
   "outputs": [
    {
     "name": "stdout",
     "output_type": "stream",
     "text": [
      "<class 'pandas.core.frame.DataFrame'>\n",
      "Int64Index: 104903 entries, 43185 to 50345\n",
      "Data columns (total 57 columns):\n",
      "UniqueID                               104903 non-null int64\n",
      "disbursed_amount                       104903 non-null int64\n",
      "asset_cost                             104903 non-null int64\n",
      "ltv                                    104903 non-null float64\n",
      "branch_id                              104903 non-null int64\n",
      "supplier_id                            104903 non-null int64\n",
      "manufacturer_id                        104903 non-null int64\n",
      "Current_pincode_ID                     104903 non-null int64\n",
      "Date.of.Birth                          104903 non-null object\n",
      "Employment.Type                        102717 non-null object\n",
      "DisbursalDate                          104903 non-null object\n",
      "State_ID                               104903 non-null int64\n",
      "Employee_code_ID                       104903 non-null int64\n",
      "MobileNo_Avl_Flag                      104903 non-null int64\n",
      "Aadhar_flag                            104903 non-null int64\n",
      "PAN_flag                               104903 non-null int64\n",
      "VoterID_flag                           104903 non-null int64\n",
      "Driving_flag                           104903 non-null int64\n",
      "Passport_flag                          104903 non-null int64\n",
      "PERFORM_CNS.SCORE                      104903 non-null int64\n",
      "PERFORM_CNS.SCORE.DESCRIPTION          104903 non-null object\n",
      "PRI.NO.OF.ACCTS                        104903 non-null int64\n",
      "PRI.ACTIVE.ACCTS                       104903 non-null int64\n",
      "PRI.OVERDUE.ACCTS                      104903 non-null int64\n",
      "PRI.CURRENT.BALANCE                    104903 non-null int64\n",
      "PRI.SANCTIONED.AMOUNT                  104903 non-null int64\n",
      "PRI.DISBURSED.AMOUNT                   104903 non-null int64\n",
      "SEC.NO.OF.ACCTS                        104903 non-null int64\n",
      "SEC.ACTIVE.ACCTS                       104903 non-null int64\n",
      "SEC.OVERDUE.ACCTS                      104903 non-null int64\n",
      "SEC.CURRENT.BALANCE                    104903 non-null int64\n",
      "SEC.SANCTIONED.AMOUNT                  104903 non-null int64\n",
      "SEC.DISBURSED.AMOUNT                   104903 non-null int64\n",
      "PRIMARY.INSTAL.AMT                     104903 non-null int64\n",
      "SEC.INSTAL.AMT                         104903 non-null int64\n",
      "NEW.ACCTS.IN.LAST.SIX.MONTHS           104903 non-null int64\n",
      "DELINQUENT.ACCTS.IN.LAST.SIX.MONTHS    104903 non-null int64\n",
      "AVERAGE.ACCT.AGE                       104903 non-null object\n",
      "CREDIT.HISTORY.LENGTH                  104903 non-null object\n",
      "NO.OF_INQUIRIES                        104903 non-null int64\n",
      "loan_default                           104903 non-null int64\n",
      "DisbursalDate_v2                       104903 non-null datetime64[ns]\n",
      "Date.of.Birth_v2                       104903 non-null datetime64[ns]\n",
      "Age                                    104903 non-null int32\n",
      "Disbusrsal_year                        104903 non-null object\n",
      "Birth_year                             104903 non-null object\n",
      "Age_band                               104903 non-null category\n",
      "Curr_Utilization                       86992 non-null float64\n",
      "Curr_util_rev                          86992 non-null float64\n",
      "Curr_util_rev1                         104903 non-null float64\n",
      "Sec_Curr_Utilization                   2806 non-null float64\n",
      "Sec_Curr_util_rev                      2806 non-null float64\n",
      "Sec_Curr_util_rev1                     104903 non-null float64\n",
      "dis_gt_bl                              104903 non-null float64\n",
      "dis_sanc_amt                           104903 non-null int64\n",
      "active_accts_band                      104903 non-null object\n",
      "mob                                    104903 non-null float64\n",
      "dtypes: category(1), datetime64[ns](2), float64(9), int32(1), int64(35), object(9)\n",
      "memory usage: 50.3+ MB\n"
     ]
    }
   ],
   "source": [
    "train_thick_1.info()\n",
    "\n",
    "train_thick_1.State_ID.nunique()\n",
    "\n",
    "train_thick_1[\"NEW.ACCTS.IN.LAST.SIX.MONTHS\"].value_counts(normalize = True)"
   ]
  },
  {
   "cell_type": "code",
   "execution_count": 35,
   "metadata": {},
   "outputs": [],
   "source": [
    "train_thick_1.loc[(train_thick_1[\"NEW.ACCTS.IN.LAST.SIX.MONTHS\"] == 0), \"accts_l6m_band\"]= \"No accts open in last 6months\"\n",
    "train_thick_1.loc[(train_thick_1[\"NEW.ACCTS.IN.LAST.SIX.MONTHS\"] >0) & (train_thick_1[\"NEW.ACCTS.IN.LAST.SIX.MONTHS\"] < 3), \"accts_l6m_band\"]= \"1-2 accts\"\n",
    "train_thick_1.loc[(train_thick_1[\"NEW.ACCTS.IN.LAST.SIX.MONTHS\"] >2) , \"accts_l6m_band\"]= \"Greater than 3 accts\"\n",
    "\n"
   ]
  },
  {
   "cell_type": "code",
   "execution_count": 36,
   "metadata": {},
   "outputs": [
    {
     "data": {
      "text/plain": [
       "UniqueID                                  int64\n",
       "disbursed_amount                          int64\n",
       "asset_cost                                int64\n",
       "ltv                                     float64\n",
       "branch_id                                 int64\n",
       "supplier_id                               int64\n",
       "manufacturer_id                           int64\n",
       "Current_pincode_ID                        int64\n",
       "Date.of.Birth                            object\n",
       "Employment.Type                          object\n",
       "DisbursalDate                            object\n",
       "State_ID                                  int64\n",
       "Employee_code_ID                          int64\n",
       "MobileNo_Avl_Flag                         int64\n",
       "Aadhar_flag                               int64\n",
       "PAN_flag                                  int64\n",
       "VoterID_flag                              int64\n",
       "Driving_flag                              int64\n",
       "Passport_flag                             int64\n",
       "PERFORM_CNS.SCORE                         int64\n",
       "PERFORM_CNS.SCORE.DESCRIPTION            object\n",
       "PRI.NO.OF.ACCTS                           int64\n",
       "PRI.ACTIVE.ACCTS                          int64\n",
       "PRI.OVERDUE.ACCTS                         int64\n",
       "PRI.CURRENT.BALANCE                       int64\n",
       "PRI.SANCTIONED.AMOUNT                     int64\n",
       "PRI.DISBURSED.AMOUNT                      int64\n",
       "SEC.NO.OF.ACCTS                           int64\n",
       "SEC.ACTIVE.ACCTS                          int64\n",
       "SEC.OVERDUE.ACCTS                         int64\n",
       "SEC.CURRENT.BALANCE                       int64\n",
       "SEC.SANCTIONED.AMOUNT                     int64\n",
       "SEC.DISBURSED.AMOUNT                      int64\n",
       "PRIMARY.INSTAL.AMT                        int64\n",
       "SEC.INSTAL.AMT                            int64\n",
       "NEW.ACCTS.IN.LAST.SIX.MONTHS              int64\n",
       "DELINQUENT.ACCTS.IN.LAST.SIX.MONTHS       int64\n",
       "AVERAGE.ACCT.AGE                         object\n",
       "CREDIT.HISTORY.LENGTH                    object\n",
       "NO.OF_INQUIRIES                           int64\n",
       "loan_default                              int64\n",
       "Disbusrsal_year                          object\n",
       "Birth_year                               object\n",
       "Age                                       int32\n",
       "Age_band                               category\n",
       "Curr_Utilization                        float64\n",
       "Curr_util_rev                           float64\n",
       "Curr_util_rev1                          float64\n",
       "Sec_Curr_Utilization                    float64\n",
       "Sec_Curr_util_rev                       float64\n",
       "Sec_Curr_util_rev1                      float64\n",
       "dis_gt_bl                               float64\n",
       "dis_sanc_amt                              int64\n",
       "active_accts_band                        object\n",
       "mob                                     float64\n",
       "accts_l6m_band                           object\n",
       "dtype: object"
      ]
     },
     "execution_count": 36,
     "metadata": {},
     "output_type": "execute_result"
    }
   ],
   "source": [
    "train_thick_1[\"accts_l6m_band\"].value_counts(normalize = True)\n",
    "\n",
    "pd.crosstab(train_thick_1[\"accts_l6m_band\"],train_thick_1[\"loan_default\"]).apply(lambda r:r/r.sum(),axis = 1)\n",
    "\n",
    "train_thick_1[\"PRI.OVERDUE.ACCTS\"].value_counts(normalize = True)\n",
    "\n",
    "train_thick_1[\"DELINQUENT.ACCTS.IN.LAST.SIX.MONTHS\"].value_counts(normalize = True)\n",
    "\n",
    "train_thick_1.dtypes"
   ]
  },
  {
   "cell_type": "code",
   "execution_count": 40,
   "metadata": {},
   "outputs": [],
   "source": [
    "train_thick_1.loc[train_thick_1[\"active_accts_band\"]==\"No active accts\",\"Active_dq_acct\"]=\"No active accts\"\n",
    "train_thick_1.loc[(train_thick_1[\"active_accts_band\"]==\"1-2 active accts\") & (train_thick_1[\"PRI.OVERDUE.ACCTS\"]==0),\"Active_dq_acct\"]=\"No active Delinquent accts\"\n",
    "train_thick_1.loc[(train_thick_1[\"active_accts_band\"]==\"1-2 active accts\") & (train_thick_1[\"PRI.OVERDUE.ACCTS\"]> 0),\"Active_dq_acct\"]=\"1-2 active Delinquent accts\"\n",
    "train_thick_1.loc[(train_thick_1[\"active_accts_band\"]==\"1Greater than 3 active accts\") & (train_thick_1[\"PRI.OVERDUE.ACCTS\"]==0),\"Active_dq_acct\"]=\"More than 2 active non-Delinquent accts\"\n",
    "train_thick_1.loc[(train_thick_1[\"active_accts_band\"]==\"Greater than 3 active accts\") & (train_thick_1[\"PRI.OVERDUE.ACCTS\"] > 0),\"Active_dq_acct\"]=\"More than 2 active Delinquent accts\"\n",
    "\n"
   ]
  },
  {
   "cell_type": "code",
   "execution_count": 102,
   "metadata": {},
   "outputs": [],
   "source": [
    "train_thick_1[\"no_of_id\"]= train_thick_1[\"Aadhar_flag\"] + train_thick_1[\"PAN_flag\"] + train_thick_1[\"VoterID_flag\"] + train_thick_1[\"Driving_flag\"] + train_thick_1[\"Passport_flag\"]"
   ]
  },
  {
   "cell_type": "code",
   "execution_count": 255,
   "metadata": {},
   "outputs": [],
   "source": [
    "X = train_thick_1[[\n",
    "'disbursed_amount',\n",
    "'asset_cost',\n",
    "'supplier_id',\n",
    "'branch_id',\n",
    "'ltv',\n",
    "'no_of_id',\n",
    "'PRI.NO.OF.ACCTS',\n",
    "'Employment.Type',\n",
    "'State_ID',\n",
    "'manufacturer_id',\n",
    "'PRI.ACTIVE.ACCTS',\n",
    "'PERFORM_CNS.SCORE',\n",
    "'PRIMARY.INSTAL.AMT',\n",
    "'SEC.OVERDUE.ACCTS',\n",
    "'DELINQUENT.ACCTS.IN.LAST.SIX.MONTHS',\n",
    "'NO.OF_INQUIRIES',\n",
    "'PRI.SANCTIONED.AMOUNT',\n",
    "'dis_sanc_amt',\n",
    "'dis_gt_bl',\n",
    "'Sec_Curr_util_rev1',\n",
    "'Curr_util_rev1',\n",
    "'Age',\n",
    "'mob'\n",
    "]]\n",
    "Y = train_thick_1[\"loan_default\"]"
   ]
  },
  {
   "cell_type": "code",
   "execution_count": 256,
   "metadata": {},
   "outputs": [
    {
     "data": {
      "text/plain": [
       "<matplotlib.axes._subplots.AxesSubplot at 0x1bbb5aee978>"
      ]
     },
     "execution_count": 256,
     "metadata": {},
     "output_type": "execute_result"
    },
    {
     "data": {
      "image/png": "[encoded data removed]",
      "text/plain": [
       "<Figure size 432x288 with 2 Axes>"
      ]
     },
     "metadata": {
      "needs_background": "light"
     },
     "output_type": "display_data"
    }
   ],
   "source": [
    "import seaborn as sns\n",
    "corr = X.corr()\n",
    "sns.heatmap(corr, \n",
    "            xticklabels=corr.columns.values,\n",
    "            yticklabels=corr.columns.values)"
   ]
  },
  {
   "cell_type": "code",
   "execution_count": 482,
   "metadata": {},
   "outputs": [],
   "source": [
    "corr.to_csv(\"C:\\\\Swati\\\\Hackathon\\\\corr.csv\")"
   ]
  },
  {
   "cell_type": "code",
   "execution_count": 257,
   "metadata": {},
   "outputs": [],
   "source": [
    "X = pd.get_dummies(X)"
   ]
  },
  {
   "cell_type": "code",
   "execution_count": 108,
   "metadata": {},
   "outputs": [],
   "source": [
    "pd.options.display.max_columns = 999"
   ]
  },
  {
   "cell_type": "code",
   "execution_count": 258,
   "metadata": {},
   "outputs": [],
   "source": [
    "del(Y_test_thick_1)\n",
    "del(Y_train_thick_1)\n",
    "del(X_test_thick_1)\n",
    "del(X_train_thick_1)"
   ]
  },
  {
   "cell_type": "code",
   "execution_count": 69,
   "metadata": {},
   "outputs": [],
   "source": [
    "from sklearn.model_selection import train_test_split"
   ]
  },
  {
   "cell_type": "code",
   "execution_count": 259,
   "metadata": {},
   "outputs": [],
   "source": [
    "X_train_thick_1 ,X_test_thick_1, Y_train_thick_1, Y_test_thick_1 = train_test_split(X,Y,test_size= 0.3,random_state = 123)"
   ]
  },
  {
   "cell_type": "code",
   "execution_count": 260,
   "metadata": {},
   "outputs": [
    {
     "name": "stdout",
     "output_type": "stream",
     "text": [
      "(73432, 24)\n",
      "(31471, 24)\n",
      "(73432,)\n",
      "(31471,)\n"
     ]
    }
   ],
   "source": [
    "print(X_train_thick_1.shape)\n",
    "print(X_test_thick_1.shape)\n",
    "print(Y_train_thick_1.shape)\n",
    "print(Y_test_thick_1.shape)"
   ]
  },
  {
   "cell_type": "code",
   "execution_count": 184,
   "metadata": {},
   "outputs": [],
   "source": [
    "from sklearn.ensemble import RandomForestClassifier\n",
    "\n",
    "from sklearn.metrics import confusion_matrix, precision_score, recall_score, f1_score, classification_report, roc_curve, auc\n",
    "\n",
    "from sklearn.metrics import precision_recall_curve\n",
    "\n",
    "import matplotlib.pyplot as plt\n",
    "\n",
    "%matplotlib inline"
   ]
  },
  {
   "cell_type": "code",
   "execution_count": 261,
   "metadata": {},
   "outputs": [
    {
     "name": "stderr",
     "output_type": "stream",
     "text": [
      "[Parallel(n_jobs=-1)]: Using backend ThreadingBackend with 4 concurrent workers.\n",
      "[Parallel(n_jobs=-1)]: Done  42 tasks      | elapsed:    5.1s\n",
      "[Parallel(n_jobs=-1)]: Done  50 out of  50 | elapsed:    5.9s finished\n"
     ]
    },
    {
     "data": {
      "text/plain": [
       "RandomForestClassifier(bootstrap=True, class_weight=None, criterion='entropy',\n",
       "            max_depth=None, max_features=5, max_leaf_nodes=None,\n",
       "            min_impurity_decrease=0.0, min_impurity_split=None,\n",
       "            min_samples_leaf=1, min_samples_split=2,\n",
       "            min_weight_fraction_leaf=0.0, n_estimators=50, n_jobs=-1,\n",
       "            oob_score=True, random_state=None, verbose=True,\n",
       "            warm_start=True)"
      ]
     },
     "execution_count": 261,
     "metadata": {},
     "output_type": "execute_result"
    }
   ],
   "source": [
    "\n",
    "model = RandomForestClassifier(n_estimators=50,max_features = 5,criterion = 'entropy',oob_score = True,warm_start =True, n_jobs=-1,verbose = True)\n",
    "## Building simple model , further parameter tuning can also be done based on cross validation\n",
    "## Depth of the tree & number of trees can tuned to control overfitting\n",
    "model.fit(X_train_thick_1, Y_train_thick_1)\n"
   ]
  },
  {
   "cell_type": "code",
   "execution_count": 262,
   "metadata": {},
   "outputs": [
    {
     "name": "stdout",
     "output_type": "stream",
     "text": [
      "0.7903502560191742\n"
     ]
    }
   ],
   "source": [
    "print(model.oob_score_)"
   ]
  },
  {
   "cell_type": "code",
   "execution_count": 263,
   "metadata": {},
   "outputs": [
    {
     "name": "stderr",
     "output_type": "stream",
     "text": [
      "[Parallel(n_jobs=4)]: Using backend ThreadingBackend with 4 concurrent workers.\n",
      "[Parallel(n_jobs=4)]: Done  42 tasks      | elapsed:    0.4s\n",
      "[Parallel(n_jobs=4)]: Done  50 out of  50 | elapsed:    0.4s finished\n",
      "[Parallel(n_jobs=4)]: Using backend ThreadingBackend with 4 concurrent workers.\n",
      "[Parallel(n_jobs=4)]: Done  42 tasks      | elapsed:    0.2s\n",
      "[Parallel(n_jobs=4)]: Done  50 out of  50 | elapsed:    0.2s finished\n"
     ]
    },
    {
     "data": {
      "text/plain": [
       "0.8008960630421658"
      ]
     },
     "execution_count": 263,
     "metadata": {},
     "output_type": "execute_result"
    }
   ],
   "source": [
    "model.score(X_train_thick_1, Y_train_thick_1)\n",
    "model.score(X_test_thick_1, Y_test_thick_1)"
   ]
  },
  {
   "cell_type": "code",
   "execution_count": 264,
   "metadata": {},
   "outputs": [
    {
     "name": "stdout",
     "output_type": "stream",
     "text": [
      "14908\n",
      "6180\n"
     ]
    },
    {
     "name": "stderr",
     "output_type": "stream",
     "text": [
      "[Parallel(n_jobs=4)]: Using backend ThreadingBackend with 4 concurrent workers.\n",
      "[Parallel(n_jobs=4)]: Done  42 tasks      | elapsed:    0.4s\n",
      "[Parallel(n_jobs=4)]: Done  50 out of  50 | elapsed:    0.4s finished\n",
      "[Parallel(n_jobs=4)]: Using backend ThreadingBackend with 4 concurrent workers.\n"
     ]
    },
    {
     "name": "stdout",
     "output_type": "stream",
     "text": [
      "14872\n",
      "346\n"
     ]
    },
    {
     "name": "stderr",
     "output_type": "stream",
     "text": [
      "[Parallel(n_jobs=4)]: Done  42 tasks      | elapsed:    0.2s\n",
      "[Parallel(n_jobs=4)]: Done  50 out of  50 | elapsed:    0.2s finished\n"
     ]
    }
   ],
   "source": [
    "print(sum(Y_train_thick_1))\n",
    "print(sum(Y_test_thick_1))\n",
    "\n",
    "print(sum(model.predict(X_train_thick_1)))\n",
    "print(sum(model.predict(X_test_thick_1)))"
   ]
  },
  {
   "cell_type": "code",
   "execution_count": 203,
   "metadata": {},
   "outputs": [
    {
     "name": "stderr",
     "output_type": "stream",
     "text": [
      "[Parallel(n_jobs=4)]: Using backend ThreadingBackend with 4 concurrent workers.\n",
      "[Parallel(n_jobs=4)]: Done  42 tasks      | elapsed:    0.5s\n",
      "[Parallel(n_jobs=4)]: Done 192 tasks      | elapsed:    1.1s\n",
      "[Parallel(n_jobs=4)]: Done 442 tasks      | elapsed:    2.2s\n",
      "[Parallel(n_jobs=4)]: Done 792 tasks      | elapsed:    3.7s\n",
      "[Parallel(n_jobs=4)]: Done 1000 out of 1000 | elapsed:    4.6s finished\n"
     ]
    }
   ],
   "source": [
    "y_class = pd.DataFrame(model.predict(X_test_thick_1))"
   ]
  },
  {
   "cell_type": "code",
   "execution_count": 243,
   "metadata": {},
   "outputs": [
    {
     "name": "stderr",
     "output_type": "stream",
     "text": [
      "[Parallel(n_jobs=4)]: Using backend ThreadingBackend with 4 concurrent workers.\n",
      "[Parallel(n_jobs=4)]: Done  42 tasks      | elapsed:    0.3s\n"
     ]
    },
    {
     "name": "stdout",
     "output_type": "stream",
     "text": [
      "391\n"
     ]
    },
    {
     "name": "stderr",
     "output_type": "stream",
     "text": [
      "[Parallel(n_jobs=4)]: Done 100 out of 100 | elapsed:    0.5s finished\n"
     ]
    }
   ],
   "source": [
    "print(sum(model.predict(X_test_thick_1)))"
   ]
  },
  {
   "cell_type": "code",
   "execution_count": 218,
   "metadata": {},
   "outputs": [
    {
     "name": "stderr",
     "output_type": "stream",
     "text": [
      "[Parallel(n_jobs=4)]: Using backend ThreadingBackend with 4 concurrent workers.\n",
      "[Parallel(n_jobs=4)]: Done  42 tasks      | elapsed:    0.2s\n",
      "[Parallel(n_jobs=4)]: Done 192 tasks      | elapsed:    0.8s\n",
      "[Parallel(n_jobs=4)]: Done 442 tasks      | elapsed:    1.8s\n"
     ]
    },
    {
     "name": "stdout",
     "output_type": "stream",
     "text": [
      "              precision    recall  f1-score   support\n",
      "\n",
      "        Good       0.87      0.59      0.71     25291\n",
      "         Bad       0.28      0.65      0.39      6180\n",
      "\n",
      "   micro avg       0.60      0.60      0.60     31471\n",
      "   macro avg       0.58      0.62      0.55     31471\n",
      "weighted avg       0.76      0.60      0.64     31471\n",
      "\n"
     ]
    },
    {
     "name": "stderr",
     "output_type": "stream",
     "text": [
      "[Parallel(n_jobs=4)]: Done 500 out of 500 | elapsed:    2.1s finished\n"
     ]
    }
   ],
   "source": [
    "y_pred = model.predict_proba(X_test_thick_1)\n",
    "thresh = 0.2\n",
    "thresh_pred = (y_pred[:, 1]>thresh).astype(int)\n",
    "print(classification_report(Y_test_thick_1, thresh_pred, target_names=['Good', 'Bad']))"
   ]
  },
  {
   "cell_type": "code",
   "execution_count": 205,
   "metadata": {
    "scrolled": true
   },
   "outputs": [
    {
     "name": "stdout",
     "output_type": "stream",
     "text": [
      "                                          imp  \\\n",
      "SEC.OVERDUE.ACCTS                    0.001408   \n",
      "dis_gt_bl                            0.004558   \n",
      "Sec_Curr_util_rev1                   0.004896   \n",
      "no_of_id                             0.009138   \n",
      "Employment.Type_Salaried             0.009560   \n",
      "Employment.Type_Self employed        0.009683   \n",
      "DELINQUENT.ACCTS.IN.LAST.SIX.MONTHS  0.013310   \n",
      "NO.OF_INQUIRIES                      0.019015   \n",
      "dis_sanc_amt                         0.022341   \n",
      "manufacturer_id                      0.032382   \n",
      "PRI.ACTIVE.ACCTS                     0.035653   \n",
      "State_ID                             0.061999   \n",
      "PRIMARY.INSTAL.AMT                   0.082535   \n",
      "Curr_util_rev1                       0.083488   \n",
      "Age                                  0.087512   \n",
      "mob                                  0.093208   \n",
      "PRI.SANCTIONED.AMOUNT                0.093641   \n",
      "PERFORM_CNS.SCORE                    0.102134   \n",
      "asset_cost                           0.112012   \n",
      "ltv                                  0.121526   \n",
      "\n",
      "                                                                       y  \n",
      "SEC.OVERDUE.ACCTS                                      SEC.OVERDUE.ACCTS  \n",
      "dis_gt_bl                                                      dis_gt_bl  \n",
      "Sec_Curr_util_rev1                                    Sec_Curr_util_rev1  \n",
      "no_of_id                                                        no_of_id  \n",
      "Employment.Type_Salaried                        Employment.Type_Salaried  \n",
      "Employment.Type_Self employed              Employment.Type_Self employed  \n",
      "DELINQUENT.ACCTS.IN.LAST.SIX.MONTHS  DELINQUENT.ACCTS.IN.LAST.SIX.MONTHS  \n",
      "NO.OF_INQUIRIES                                          NO.OF_INQUIRIES  \n",
      "dis_sanc_amt                                                dis_sanc_amt  \n",
      "manufacturer_id                                          manufacturer_id  \n",
      "PRI.ACTIVE.ACCTS                                        PRI.ACTIVE.ACCTS  \n",
      "State_ID                                                        State_ID  \n",
      "PRIMARY.INSTAL.AMT                                    PRIMARY.INSTAL.AMT  \n",
      "Curr_util_rev1                                            Curr_util_rev1  \n",
      "Age                                                                  Age  \n",
      "mob                                                                  mob  \n",
      "PRI.SANCTIONED.AMOUNT                              PRI.SANCTIONED.AMOUNT  \n",
      "PERFORM_CNS.SCORE                                      PERFORM_CNS.SCORE  \n",
      "asset_cost                                                    asset_cost  \n",
      "ltv                                                                  ltv  \n"
     ]
    }
   ],
   "source": [
    "imp = pd.DataFrame([model.feature_importances_]).T\n",
    "imp.index = pd.DataFrame(X_train_thick_1).columns\n",
    "imp.columns = ['imp']\n",
    "imp = imp.sort_values('imp')\n",
    "imp['y'] = imp.index\n",
    "print(imp)"
   ]
  },
  {
   "cell_type": "code",
   "execution_count": 206,
   "metadata": {},
   "outputs": [
    {
     "name": "stdout",
     "output_type": "stream",
     "text": [
      "                                          imp  \\\n",
      "ltv                                  0.121526   \n",
      "asset_cost                           0.112012   \n",
      "PERFORM_CNS.SCORE                    0.102134   \n",
      "PRI.SANCTIONED.AMOUNT                0.093641   \n",
      "mob                                  0.093208   \n",
      "Age                                  0.087512   \n",
      "Curr_util_rev1                       0.083488   \n",
      "PRIMARY.INSTAL.AMT                   0.082535   \n",
      "State_ID                             0.061999   \n",
      "PRI.ACTIVE.ACCTS                     0.035653   \n",
      "manufacturer_id                      0.032382   \n",
      "dis_sanc_amt                         0.022341   \n",
      "NO.OF_INQUIRIES                      0.019015   \n",
      "DELINQUENT.ACCTS.IN.LAST.SIX.MONTHS  0.013310   \n",
      "Employment.Type_Self employed        0.009683   \n",
      "Employment.Type_Salaried             0.009560   \n",
      "no_of_id                             0.009138   \n",
      "Sec_Curr_util_rev1                   0.004896   \n",
      "dis_gt_bl                            0.004558   \n",
      "\n",
      "                                                                       y  \n",
      "ltv                                                                  ltv  \n",
      "asset_cost                                                    asset_cost  \n",
      "PERFORM_CNS.SCORE                                      PERFORM_CNS.SCORE  \n",
      "PRI.SANCTIONED.AMOUNT                              PRI.SANCTIONED.AMOUNT  \n",
      "mob                                                                  mob  \n",
      "Age                                                                  Age  \n",
      "Curr_util_rev1                                            Curr_util_rev1  \n",
      "PRIMARY.INSTAL.AMT                                    PRIMARY.INSTAL.AMT  \n",
      "State_ID                                                        State_ID  \n",
      "PRI.ACTIVE.ACCTS                                        PRI.ACTIVE.ACCTS  \n",
      "manufacturer_id                                          manufacturer_id  \n",
      "dis_sanc_amt                                                dis_sanc_amt  \n",
      "NO.OF_INQUIRIES                                          NO.OF_INQUIRIES  \n",
      "DELINQUENT.ACCTS.IN.LAST.SIX.MONTHS  DELINQUENT.ACCTS.IN.LAST.SIX.MONTHS  \n",
      "Employment.Type_Self employed              Employment.Type_Self employed  \n",
      "Employment.Type_Salaried                        Employment.Type_Salaried  \n",
      "no_of_id                                                        no_of_id  \n",
      "Sec_Curr_util_rev1                                    Sec_Curr_util_rev1  \n",
      "dis_gt_bl                                                      dis_gt_bl  \n"
     ]
    }
   ],
   "source": [
    "print(imp.iloc[:0:-1])"
   ]
  },
  {
   "cell_type": "code",
   "execution_count": 207,
   "metadata": {
    "scrolled": true
   },
   "outputs": [
    {
     "data": {
      "text/plain": [
       "<matplotlib.axes._subplots.AxesSubplot at 0x1bc41ee9a58>"
      ]
     },
     "execution_count": 207,
     "metadata": {},
     "output_type": "execute_result"
    },
    {
     "data": {
      "image/png": "[encoded data removed]",
      "text/plain": [
       "<Figure size 3600x2880 with 1 Axes>"
      ]
     },
     "metadata": {
      "needs_background": "light"
     },
     "output_type": "display_data"
    }
   ],
   "source": [
    "feat_importances = pd.Series(model.feature_importances_, index=X_train_thick_1.columns)\n",
    "plt.figure(figsize=(50,40))\n",
    "feat_importances.sort_values(ascending=False).plot(kind='barh')"
   ]
  },
  {
   "cell_type": "markdown",
   "metadata": {},
   "source": [
    "## train- roc "
   ]
  },
  {
   "cell_type": "code",
   "execution_count": 234,
   "metadata": {},
   "outputs": [
    {
     "name": "stderr",
     "output_type": "stream",
     "text": [
      "[Parallel(n_jobs=4)]: Using backend ThreadingBackend with 4 concurrent workers.\n",
      "[Parallel(n_jobs=4)]: Done  42 tasks      | elapsed:    0.4s\n",
      "[Parallel(n_jobs=4)]: Done 192 tasks      | elapsed:    1.7s\n",
      "[Parallel(n_jobs=4)]: Done 442 tasks      | elapsed:    3.8s\n",
      "[Parallel(n_jobs=4)]: Done 500 out of 500 | elapsed:    4.3s finished\n"
     ]
    }
   ],
   "source": [
    "y_score = model.predict_proba(X_train_thick_1)\n",
    "y_test = Y_train_thick_1\n",
    "thresh = 0.25\n",
    "y_score = (y_score[:, 1])\n",
    "\n",
    "fpr, tpr, _ = roc_curve(y_test, y_score)\n",
    "roc_auc = auc(fpr, tpr)"
   ]
  },
  {
   "cell_type": "code",
   "execution_count": 236,
   "metadata": {},
   "outputs": [
    {
     "name": "stdout",
     "output_type": "stream",
     "text": [
      "14908\n",
      "14920.542000000243\n"
     ]
    }
   ],
   "source": [
    "print(sum(Y_train_thick_1))\n",
    "print(sum(y_score))"
   ]
  },
  {
   "cell_type": "code",
   "execution_count": 235,
   "metadata": {},
   "outputs": [
    {
     "data": {
      "image/png": "[encoded data removed]",
      "text/plain": [
       "<Figure size 1440x720 with 1 Axes>"
      ]
     },
     "metadata": {
      "needs_background": "light"
     },
     "output_type": "display_data"
    }
   ],
   "source": [
    "plt.figure(figsize=(20, 10))\n",
    "plt.plot(fpr, tpr, color='darkorange', label='ROC curve (area = %0.2f)' % roc_auc)\n",
    "plt.plot([0, 1], [0, 1], color='navy', lw=2, linestyle='--')\n",
    "plt.xlim([0.0, 1.0])\n",
    "plt.ylim([0.0, 1.05])\n",
    "plt.xlabel('False Positive Rate')\n",
    "plt.ylabel('True Positive Rate')\n",
    "plt.title('Risk Prediction - ROC')\n",
    "plt.legend(loc=\"lower right\")\n",
    "plt.savefig('ROC.png')\n",
    "plt.show()"
   ]
  },
  {
   "cell_type": "code",
   "execution_count": 229,
   "metadata": {},
   "outputs": [
    {
     "name": "stderr",
     "output_type": "stream",
     "text": [
      "[Parallel(n_jobs=4)]: Using backend ThreadingBackend with 4 concurrent workers.\n",
      "[Parallel(n_jobs=4)]: Done  42 tasks      | elapsed:    0.1s\n",
      "[Parallel(n_jobs=4)]: Done 192 tasks      | elapsed:    0.8s\n",
      "[Parallel(n_jobs=4)]: Done 442 tasks      | elapsed:    1.8s\n",
      "[Parallel(n_jobs=4)]: Done 500 out of 500 | elapsed:    2.0s finished\n"
     ]
    }
   ],
   "source": [
    "y_score = model.predict_proba(X_test_thick_1)\n",
    "y_test = Y_test_thick_1\n",
    "thresh = 0.25\n",
    "y_score = (y_score[:, 1]>thresh).astype(int)\n",
    "\n",
    "fpr, tpr, _ = roc_curve(y_test, y_score)\n",
    "roc_auc = auc(fpr, tpr)"
   ]
  },
  {
   "cell_type": "code",
   "execution_count": 230,
   "metadata": {},
   "outputs": [
    {
     "name": "stdout",
     "output_type": "stream",
     "text": [
      "[0 0 0 ... 1 1 0]\n"
     ]
    }
   ],
   "source": [
    "print(y_score)"
   ]
  },
  {
   "cell_type": "code",
   "execution_count": 231,
   "metadata": {
    "scrolled": true
   },
   "outputs": [
    {
     "data": {
      "image/png": "[encoded data removed]",
      "text/plain": [
       "<Figure size 1440x720 with 1 Axes>"
      ]
     },
     "metadata": {
      "needs_background": "light"
     },
     "output_type": "display_data"
    }
   ],
   "source": [
    "plt.figure(figsize=(20, 10))\n",
    "plt.plot(fpr, tpr, color='darkorange', label='ROC curve (area = %0.2f)' % roc_auc)\n",
    "plt.plot([0, 1], [0, 1], color='navy', lw=2, linestyle='--')\n",
    "plt.xlim([0.0, 1.0])\n",
    "plt.ylim([0.0, 1.05])\n",
    "plt.xlabel('False Positive Rate')\n",
    "plt.ylabel('True Positive Rate')\n",
    "plt.title('Risk Prediction - ROC')\n",
    "plt.legend(loc=\"lower right\")\n",
    "plt.savefig('ROC.png')\n",
    "plt.show()"
   ]
  },
  {
   "cell_type": "markdown",
   "metadata": {},
   "source": [
    "# XGBoost "
   ]
  },
  {
   "cell_type": "code",
   "execution_count": 83,
   "metadata": {},
   "outputs": [
    {
     "name": "stdout",
     "output_type": "stream",
     "text": [
      "Collecting xgboost\n",
      "  Downloading https://files.pythonhosted.org/packages/51/c1/198915b13e98b62a98f48309c41012638464651da755d941f4abe384c012/xgboost-0.82-py2.py3-none-win_amd64.whl (7.7MB)\n",
      "Requirement already satisfied: scipy in c:\\users\\swati\\appdata\\local\\continuum\\anaconda3\\lib\\site-packages (from xgboost) (1.1.0)\n",
      "Requirement already satisfied: numpy in c:\\users\\swati\\appdata\\local\\continuum\\anaconda3\\lib\\site-packages (from xgboost) (1.15.4)\n",
      "Installing collected packages: xgboost\n",
      "Successfully installed xgboost-0.82\n"
     ]
    },
    {
     "name": "stderr",
     "output_type": "stream",
     "text": [
      "You are using pip version 18.0, however version 19.0.3 is available.\n",
      "You should consider upgrading via the 'python -m pip install --upgrade pip' command.\n"
     ]
    }
   ],
   "source": [
    "!pip install xgboost"
   ]
  },
  {
   "cell_type": "code",
   "execution_count": 85,
   "metadata": {},
   "outputs": [],
   "source": [
    "from xgboost import XGBClassifier\n",
    "from sklearn.model_selection import train_test_split\n",
    "from sklearn.metrics import accuracy_score"
   ]
  },
  {
   "cell_type": "code",
   "execution_count": 137,
   "metadata": {},
   "outputs": [
    {
     "data": {
      "text/plain": [
       "XGBClassifier(base_score=0.5, booster='gbtree', colsample_bylevel=1,\n",
       "       colsample_bytree=1, gamma=1, learning_rate=0.02, max_delta_step=0,\n",
       "       max_depth=3, min_child_weight=1, missing=None, n_estimators=500,\n",
       "       n_jobs=1, nthread=None, objective='binary:logistic', random_state=0,\n",
       "       reg_alpha=0, reg_lambda=1, scale_pos_weight=1, seed=None,\n",
       "       silent=True, subsample=0.8)"
      ]
     },
     "execution_count": 137,
     "metadata": {},
     "output_type": "execute_result"
    }
   ],
   "source": [
    "# fit model no training data\n",
    "model_xg = XGBClassifier(learning_rate = 0.02, n_estimators = 500,max_depth = 3, subsample = 0.8, gamma = 1)\n",
    "model_xg.fit(X_train_thick_1, Y_train_thick_1)"
   ]
  },
  {
   "cell_type": "code",
   "execution_count": 138,
   "metadata": {},
   "outputs": [
    {
     "name": "stdout",
     "output_type": "stream",
     "text": [
      "Accuracy: 80.38%\n"
     ]
    }
   ],
   "source": [
    "y_pred_xg = model_xg.predict(X_test_thick_1)\n",
    "predictions = [round(value) for value in y_pred_xg]\n",
    "# evaluate predictions\n",
    "accuracy = accuracy_score(Y_test_thick_1, predictions)\n",
    "print(\"Accuracy: %.2f%%\" % (accuracy * 100.0))"
   ]
  },
  {
   "cell_type": "markdown",
   "metadata": {},
   "source": [
    "###  Tuning XGB"
   ]
  },
  {
   "cell_type": "code",
   "execution_count": 139,
   "metadata": {
    "scrolled": true
   },
   "outputs": [
    {
     "name": "stdout",
     "output_type": "stream",
     "text": [
      "[0]\tvalidation_0-auc:0.618372\tvalidation_0-error:0.203018\tvalidation_1-auc:0.613921\tvalidation_1-error:0.196371\n",
      "[1]\tvalidation_0-auc:0.621768\tvalidation_0-error:0.203018\tvalidation_1-auc:0.61596\tvalidation_1-error:0.196371\n",
      "[2]\tvalidation_0-auc:0.623301\tvalidation_0-error:0.203018\tvalidation_1-auc:0.616804\tvalidation_1-error:0.196371\n",
      "[3]\tvalidation_0-auc:0.62359\tvalidation_0-error:0.203018\tvalidation_1-auc:0.61751\tvalidation_1-error:0.196371\n",
      "[4]\tvalidation_0-auc:0.624298\tvalidation_0-error:0.203018\tvalidation_1-auc:0.618211\tvalidation_1-error:0.196371\n",
      "[5]\tvalidation_0-auc:0.628176\tvalidation_0-error:0.203018\tvalidation_1-auc:0.622025\tvalidation_1-error:0.196371\n",
      "[6]\tvalidation_0-auc:0.62837\tvalidation_0-error:0.203018\tvalidation_1-auc:0.622072\tvalidation_1-error:0.196371\n",
      "[7]\tvalidation_0-auc:0.629147\tvalidation_0-error:0.203018\tvalidation_1-auc:0.622298\tvalidation_1-error:0.196371\n",
      "[8]\tvalidation_0-auc:0.635201\tvalidation_0-error:0.203018\tvalidation_1-auc:0.629234\tvalidation_1-error:0.196371\n",
      "[9]\tvalidation_0-auc:0.636048\tvalidation_0-error:0.203018\tvalidation_1-auc:0.629933\tvalidation_1-error:0.196371\n",
      "[10]\tvalidation_0-auc:0.635944\tvalidation_0-error:0.203018\tvalidation_1-auc:0.629752\tvalidation_1-error:0.196371\n",
      "[11]\tvalidation_0-auc:0.636354\tvalidation_0-error:0.203018\tvalidation_1-auc:0.629849\tvalidation_1-error:0.196371\n",
      "[12]\tvalidation_0-auc:0.637748\tvalidation_0-error:0.203018\tvalidation_1-auc:0.630978\tvalidation_1-error:0.196371\n",
      "[13]\tvalidation_0-auc:0.63832\tvalidation_0-error:0.203018\tvalidation_1-auc:0.631223\tvalidation_1-error:0.196371\n",
      "[14]\tvalidation_0-auc:0.638958\tvalidation_0-error:0.203018\tvalidation_1-auc:0.6327\tvalidation_1-error:0.196371\n",
      "[15]\tvalidation_0-auc:0.639848\tvalidation_0-error:0.203018\tvalidation_1-auc:0.633339\tvalidation_1-error:0.196371\n",
      "[16]\tvalidation_0-auc:0.6402\tvalidation_0-error:0.203018\tvalidation_1-auc:0.63339\tvalidation_1-error:0.196371\n",
      "[17]\tvalidation_0-auc:0.640862\tvalidation_0-error:0.203018\tvalidation_1-auc:0.633531\tvalidation_1-error:0.196371\n",
      "[18]\tvalidation_0-auc:0.640925\tvalidation_0-error:0.203018\tvalidation_1-auc:0.633675\tvalidation_1-error:0.196371\n",
      "[19]\tvalidation_0-auc:0.641149\tvalidation_0-error:0.203018\tvalidation_1-auc:0.633805\tvalidation_1-error:0.196371\n",
      "[20]\tvalidation_0-auc:0.641013\tvalidation_0-error:0.203018\tvalidation_1-auc:0.633666\tvalidation_1-error:0.196371\n",
      "[21]\tvalidation_0-auc:0.641091\tvalidation_0-error:0.203018\tvalidation_1-auc:0.633738\tvalidation_1-error:0.196371\n",
      "[22]\tvalidation_0-auc:0.641357\tvalidation_0-error:0.203018\tvalidation_1-auc:0.634609\tvalidation_1-error:0.196371\n",
      "[23]\tvalidation_0-auc:0.641327\tvalidation_0-error:0.203018\tvalidation_1-auc:0.634751\tvalidation_1-error:0.196371\n",
      "[24]\tvalidation_0-auc:0.641229\tvalidation_0-error:0.203018\tvalidation_1-auc:0.634401\tvalidation_1-error:0.196371\n",
      "[25]\tvalidation_0-auc:0.641557\tvalidation_0-error:0.203018\tvalidation_1-auc:0.634874\tvalidation_1-error:0.196371\n",
      "[26]\tvalidation_0-auc:0.641566\tvalidation_0-error:0.203018\tvalidation_1-auc:0.634811\tvalidation_1-error:0.196371\n",
      "[27]\tvalidation_0-auc:0.64166\tvalidation_0-error:0.203018\tvalidation_1-auc:0.63486\tvalidation_1-error:0.196371\n",
      "[28]\tvalidation_0-auc:0.642924\tvalidation_0-error:0.203018\tvalidation_1-auc:0.636047\tvalidation_1-error:0.196371\n",
      "[29]\tvalidation_0-auc:0.643135\tvalidation_0-error:0.203018\tvalidation_1-auc:0.636156\tvalidation_1-error:0.196371\n",
      "[30]\tvalidation_0-auc:0.643418\tvalidation_0-error:0.203018\tvalidation_1-auc:0.636214\tvalidation_1-error:0.196371\n",
      "[31]\tvalidation_0-auc:0.643567\tvalidation_0-error:0.203018\tvalidation_1-auc:0.636698\tvalidation_1-error:0.196371\n",
      "[32]\tvalidation_0-auc:0.643832\tvalidation_0-error:0.203018\tvalidation_1-auc:0.636924\tvalidation_1-error:0.196371\n",
      "[33]\tvalidation_0-auc:0.643872\tvalidation_0-error:0.203018\tvalidation_1-auc:0.636858\tvalidation_1-error:0.196371\n",
      "[34]\tvalidation_0-auc:0.644114\tvalidation_0-error:0.203018\tvalidation_1-auc:0.637255\tvalidation_1-error:0.196371\n",
      "[35]\tvalidation_0-auc:0.64427\tvalidation_0-error:0.203018\tvalidation_1-auc:0.637531\tvalidation_1-error:0.196371\n",
      "[36]\tvalidation_0-auc:0.644724\tvalidation_0-error:0.203018\tvalidation_1-auc:0.637807\tvalidation_1-error:0.196371\n",
      "[37]\tvalidation_0-auc:0.644896\tvalidation_0-error:0.203018\tvalidation_1-auc:0.638225\tvalidation_1-error:0.196371\n",
      "[38]\tvalidation_0-auc:0.645055\tvalidation_0-error:0.203018\tvalidation_1-auc:0.638283\tvalidation_1-error:0.196371\n",
      "[39]\tvalidation_0-auc:0.645101\tvalidation_0-error:0.203018\tvalidation_1-auc:0.638096\tvalidation_1-error:0.196371\n",
      "[40]\tvalidation_0-auc:0.645135\tvalidation_0-error:0.203018\tvalidation_1-auc:0.638384\tvalidation_1-error:0.196371\n",
      "[41]\tvalidation_0-auc:0.645379\tvalidation_0-error:0.203018\tvalidation_1-auc:0.638351\tvalidation_1-error:0.196371\n",
      "[42]\tvalidation_0-auc:0.645486\tvalidation_0-error:0.203018\tvalidation_1-auc:0.638403\tvalidation_1-error:0.196371\n",
      "[43]\tvalidation_0-auc:0.645818\tvalidation_0-error:0.203018\tvalidation_1-auc:0.638757\tvalidation_1-error:0.196371\n",
      "[44]\tvalidation_0-auc:0.645839\tvalidation_0-error:0.203018\tvalidation_1-auc:0.638657\tvalidation_1-error:0.196371\n",
      "[45]\tvalidation_0-auc:0.64588\tvalidation_0-error:0.203018\tvalidation_1-auc:0.63892\tvalidation_1-error:0.196371\n",
      "[46]\tvalidation_0-auc:0.645941\tvalidation_0-error:0.203018\tvalidation_1-auc:0.638989\tvalidation_1-error:0.196371\n",
      "[47]\tvalidation_0-auc:0.646112\tvalidation_0-error:0.203018\tvalidation_1-auc:0.639103\tvalidation_1-error:0.196371\n",
      "[48]\tvalidation_0-auc:0.6464\tvalidation_0-error:0.203018\tvalidation_1-auc:0.639665\tvalidation_1-error:0.196371\n",
      "[49]\tvalidation_0-auc:0.647137\tvalidation_0-error:0.203018\tvalidation_1-auc:0.640159\tvalidation_1-error:0.196371\n",
      "[50]\tvalidation_0-auc:0.647428\tvalidation_0-error:0.203018\tvalidation_1-auc:0.64049\tvalidation_1-error:0.196371\n",
      "[51]\tvalidation_0-auc:0.647677\tvalidation_0-error:0.203018\tvalidation_1-auc:0.640599\tvalidation_1-error:0.196371\n",
      "[52]\tvalidation_0-auc:0.648295\tvalidation_0-error:0.203018\tvalidation_1-auc:0.641297\tvalidation_1-error:0.196371\n",
      "[53]\tvalidation_0-auc:0.648287\tvalidation_0-error:0.203018\tvalidation_1-auc:0.64136\tvalidation_1-error:0.196371\n",
      "[54]\tvalidation_0-auc:0.648411\tvalidation_0-error:0.203018\tvalidation_1-auc:0.641572\tvalidation_1-error:0.196371\n",
      "[55]\tvalidation_0-auc:0.648794\tvalidation_0-error:0.203018\tvalidation_1-auc:0.641866\tvalidation_1-error:0.196371\n",
      "[56]\tvalidation_0-auc:0.648906\tvalidation_0-error:0.203018\tvalidation_1-auc:0.641844\tvalidation_1-error:0.196371\n",
      "[57]\tvalidation_0-auc:0.648903\tvalidation_0-error:0.203018\tvalidation_1-auc:0.641851\tvalidation_1-error:0.196371\n",
      "[58]\tvalidation_0-auc:0.649063\tvalidation_0-error:0.203018\tvalidation_1-auc:0.641885\tvalidation_1-error:0.196371\n",
      "[59]\tvalidation_0-auc:0.649516\tvalidation_0-error:0.203018\tvalidation_1-auc:0.642219\tvalidation_1-error:0.196371\n",
      "[60]\tvalidation_0-auc:0.649646\tvalidation_0-error:0.203018\tvalidation_1-auc:0.6423\tvalidation_1-error:0.196371\n",
      "[61]\tvalidation_0-auc:0.650025\tvalidation_0-error:0.203018\tvalidation_1-auc:0.642666\tvalidation_1-error:0.196371\n",
      "[62]\tvalidation_0-auc:0.650195\tvalidation_0-error:0.203018\tvalidation_1-auc:0.642792\tvalidation_1-error:0.196371\n",
      "[63]\tvalidation_0-auc:0.650365\tvalidation_0-error:0.203018\tvalidation_1-auc:0.642857\tvalidation_1-error:0.196371\n",
      "[64]\tvalidation_0-auc:0.65045\tvalidation_0-error:0.203018\tvalidation_1-auc:0.642969\tvalidation_1-error:0.196371\n",
      "[65]\tvalidation_0-auc:0.650514\tvalidation_0-error:0.203018\tvalidation_1-auc:0.643126\tvalidation_1-error:0.196371\n",
      "[66]\tvalidation_0-auc:0.650848\tvalidation_0-error:0.203018\tvalidation_1-auc:0.643474\tvalidation_1-error:0.196371\n",
      "[67]\tvalidation_0-auc:0.651149\tvalidation_0-error:0.203018\tvalidation_1-auc:0.643923\tvalidation_1-error:0.196371\n",
      "[68]\tvalidation_0-auc:0.651375\tvalidation_0-error:0.203018\tvalidation_1-auc:0.644184\tvalidation_1-error:0.196371\n",
      "[69]\tvalidation_0-auc:0.651596\tvalidation_0-error:0.203018\tvalidation_1-auc:0.644402\tvalidation_1-error:0.196371\n",
      "[70]\tvalidation_0-auc:0.65179\tvalidation_0-error:0.203018\tvalidation_1-auc:0.644515\tvalidation_1-error:0.196371\n",
      "[71]\tvalidation_0-auc:0.651947\tvalidation_0-error:0.203018\tvalidation_1-auc:0.644595\tvalidation_1-error:0.196371\n",
      "[72]\tvalidation_0-auc:0.65216\tvalidation_0-error:0.203018\tvalidation_1-auc:0.644843\tvalidation_1-error:0.196371\n"
     ]
    },
    {
     "name": "stdout",
     "output_type": "stream",
     "text": [
      "[73]\tvalidation_0-auc:0.652232\tvalidation_0-error:0.203018\tvalidation_1-auc:0.644841\tvalidation_1-error:0.196371\n",
      "[74]\tvalidation_0-auc:0.652457\tvalidation_0-error:0.203018\tvalidation_1-auc:0.645025\tvalidation_1-error:0.196371\n",
      "[75]\tvalidation_0-auc:0.652636\tvalidation_0-error:0.203018\tvalidation_1-auc:0.645199\tvalidation_1-error:0.196371\n",
      "[76]\tvalidation_0-auc:0.652712\tvalidation_0-error:0.203018\tvalidation_1-auc:0.645253\tvalidation_1-error:0.196371\n",
      "[77]\tvalidation_0-auc:0.652952\tvalidation_0-error:0.203018\tvalidation_1-auc:0.645546\tvalidation_1-error:0.196371\n",
      "[78]\tvalidation_0-auc:0.653168\tvalidation_0-error:0.203018\tvalidation_1-auc:0.645641\tvalidation_1-error:0.196371\n",
      "[79]\tvalidation_0-auc:0.653459\tvalidation_0-error:0.203018\tvalidation_1-auc:0.645922\tvalidation_1-error:0.196371\n",
      "[80]\tvalidation_0-auc:0.653602\tvalidation_0-error:0.203018\tvalidation_1-auc:0.646082\tvalidation_1-error:0.196371\n",
      "[81]\tvalidation_0-auc:0.653874\tvalidation_0-error:0.203018\tvalidation_1-auc:0.646308\tvalidation_1-error:0.196371\n",
      "[82]\tvalidation_0-auc:0.654089\tvalidation_0-error:0.203018\tvalidation_1-auc:0.646589\tvalidation_1-error:0.196371\n",
      "[83]\tvalidation_0-auc:0.654317\tvalidation_0-error:0.203018\tvalidation_1-auc:0.646896\tvalidation_1-error:0.196371\n",
      "[84]\tvalidation_0-auc:0.654525\tvalidation_0-error:0.203018\tvalidation_1-auc:0.647067\tvalidation_1-error:0.196371\n",
      "[85]\tvalidation_0-auc:0.654954\tvalidation_0-error:0.203018\tvalidation_1-auc:0.647416\tvalidation_1-error:0.196371\n",
      "[86]\tvalidation_0-auc:0.655035\tvalidation_0-error:0.203018\tvalidation_1-auc:0.64756\tvalidation_1-error:0.196371\n",
      "[87]\tvalidation_0-auc:0.655318\tvalidation_0-error:0.203018\tvalidation_1-auc:0.64782\tvalidation_1-error:0.196371\n",
      "[88]\tvalidation_0-auc:0.655559\tvalidation_0-error:0.203018\tvalidation_1-auc:0.648156\tvalidation_1-error:0.196371\n",
      "[89]\tvalidation_0-auc:0.655732\tvalidation_0-error:0.203018\tvalidation_1-auc:0.648296\tvalidation_1-error:0.196371\n",
      "[90]\tvalidation_0-auc:0.655876\tvalidation_0-error:0.203018\tvalidation_1-auc:0.648404\tvalidation_1-error:0.196371\n",
      "[91]\tvalidation_0-auc:0.655976\tvalidation_0-error:0.203018\tvalidation_1-auc:0.648465\tvalidation_1-error:0.196371\n",
      "[92]\tvalidation_0-auc:0.656201\tvalidation_0-error:0.203018\tvalidation_1-auc:0.648699\tvalidation_1-error:0.196371\n",
      "[93]\tvalidation_0-auc:0.656475\tvalidation_0-error:0.203018\tvalidation_1-auc:0.648916\tvalidation_1-error:0.196371\n",
      "[94]\tvalidation_0-auc:0.656582\tvalidation_0-error:0.203018\tvalidation_1-auc:0.649087\tvalidation_1-error:0.196371\n",
      "[95]\tvalidation_0-auc:0.656734\tvalidation_0-error:0.203018\tvalidation_1-auc:0.649238\tvalidation_1-error:0.196371\n",
      "[96]\tvalidation_0-auc:0.656968\tvalidation_0-error:0.203018\tvalidation_1-auc:0.649447\tvalidation_1-error:0.196371\n",
      "[97]\tvalidation_0-auc:0.656987\tvalidation_0-error:0.203018\tvalidation_1-auc:0.649469\tvalidation_1-error:0.196371\n",
      "[98]\tvalidation_0-auc:0.657107\tvalidation_0-error:0.203018\tvalidation_1-auc:0.649552\tvalidation_1-error:0.196371\n",
      "[99]\tvalidation_0-auc:0.657214\tvalidation_0-error:0.203018\tvalidation_1-auc:0.64967\tvalidation_1-error:0.196371\n",
      "[100]\tvalidation_0-auc:0.65751\tvalidation_0-error:0.203018\tvalidation_1-auc:0.649969\tvalidation_1-error:0.196371\n",
      "[101]\tvalidation_0-auc:0.657756\tvalidation_0-error:0.203018\tvalidation_1-auc:0.650127\tvalidation_1-error:0.196371\n",
      "[102]\tvalidation_0-auc:0.657965\tvalidation_0-error:0.203018\tvalidation_1-auc:0.650287\tvalidation_1-error:0.196371\n",
      "[103]\tvalidation_0-auc:0.658206\tvalidation_0-error:0.203018\tvalidation_1-auc:0.650495\tvalidation_1-error:0.196371\n",
      "[104]\tvalidation_0-auc:0.65829\tvalidation_0-error:0.203018\tvalidation_1-auc:0.650688\tvalidation_1-error:0.196371\n",
      "[105]\tvalidation_0-auc:0.658488\tvalidation_0-error:0.203018\tvalidation_1-auc:0.650737\tvalidation_1-error:0.196371\n",
      "[106]\tvalidation_0-auc:0.65878\tvalidation_0-error:0.203018\tvalidation_1-auc:0.65104\tvalidation_1-error:0.196371\n",
      "[107]\tvalidation_0-auc:0.658842\tvalidation_0-error:0.203018\tvalidation_1-auc:0.651058\tvalidation_1-error:0.196371\n",
      "[108]\tvalidation_0-auc:0.658849\tvalidation_0-error:0.203018\tvalidation_1-auc:0.651046\tvalidation_1-error:0.196371\n",
      "[109]\tvalidation_0-auc:0.659036\tvalidation_0-error:0.203018\tvalidation_1-auc:0.65125\tvalidation_1-error:0.196371\n",
      "[110]\tvalidation_0-auc:0.659272\tvalidation_0-error:0.203018\tvalidation_1-auc:0.651444\tvalidation_1-error:0.196371\n",
      "[111]\tvalidation_0-auc:0.659431\tvalidation_0-error:0.203018\tvalidation_1-auc:0.651601\tvalidation_1-error:0.196371\n",
      "[112]\tvalidation_0-auc:0.659502\tvalidation_0-error:0.203018\tvalidation_1-auc:0.651694\tvalidation_1-error:0.196371\n",
      "[113]\tvalidation_0-auc:0.65958\tvalidation_0-error:0.203018\tvalidation_1-auc:0.65174\tvalidation_1-error:0.196371\n",
      "[114]\tvalidation_0-auc:0.659749\tvalidation_0-error:0.203018\tvalidation_1-auc:0.651927\tvalidation_1-error:0.196371\n",
      "[115]\tvalidation_0-auc:0.659777\tvalidation_0-error:0.203018\tvalidation_1-auc:0.651929\tvalidation_1-error:0.196371\n",
      "[116]\tvalidation_0-auc:0.660107\tvalidation_0-error:0.203018\tvalidation_1-auc:0.652263\tvalidation_1-error:0.196371\n",
      "[117]\tvalidation_0-auc:0.660212\tvalidation_0-error:0.203018\tvalidation_1-auc:0.652394\tvalidation_1-error:0.196371\n",
      "[118]\tvalidation_0-auc:0.660507\tvalidation_0-error:0.203018\tvalidation_1-auc:0.652619\tvalidation_1-error:0.196371\n",
      "[119]\tvalidation_0-auc:0.660652\tvalidation_0-error:0.203018\tvalidation_1-auc:0.65265\tvalidation_1-error:0.196371\n",
      "[120]\tvalidation_0-auc:0.660703\tvalidation_0-error:0.203018\tvalidation_1-auc:0.652779\tvalidation_1-error:0.196371\n",
      "[121]\tvalidation_0-auc:0.660923\tvalidation_0-error:0.203018\tvalidation_1-auc:0.653045\tvalidation_1-error:0.196371\n",
      "[122]\tvalidation_0-auc:0.661057\tvalidation_0-error:0.203018\tvalidation_1-auc:0.653157\tvalidation_1-error:0.196371\n",
      "[123]\tvalidation_0-auc:0.661328\tvalidation_0-error:0.203018\tvalidation_1-auc:0.653357\tvalidation_1-error:0.196371\n",
      "[124]\tvalidation_0-auc:0.661605\tvalidation_0-error:0.203018\tvalidation_1-auc:0.653678\tvalidation_1-error:0.196371\n",
      "[125]\tvalidation_0-auc:0.661713\tvalidation_0-error:0.203018\tvalidation_1-auc:0.653783\tvalidation_1-error:0.196371\n",
      "[126]\tvalidation_0-auc:0.661841\tvalidation_0-error:0.203018\tvalidation_1-auc:0.653862\tvalidation_1-error:0.196371\n",
      "[127]\tvalidation_0-auc:0.661952\tvalidation_0-error:0.203018\tvalidation_1-auc:0.653906\tvalidation_1-error:0.196371\n",
      "[128]\tvalidation_0-auc:0.662095\tvalidation_0-error:0.203018\tvalidation_1-auc:0.653937\tvalidation_1-error:0.196371\n",
      "[129]\tvalidation_0-auc:0.662287\tvalidation_0-error:0.203018\tvalidation_1-auc:0.654131\tvalidation_1-error:0.196371\n",
      "[130]\tvalidation_0-auc:0.662436\tvalidation_0-error:0.203018\tvalidation_1-auc:0.654328\tvalidation_1-error:0.196371\n",
      "[131]\tvalidation_0-auc:0.662679\tvalidation_0-error:0.203018\tvalidation_1-auc:0.654528\tvalidation_1-error:0.196371\n",
      "[132]\tvalidation_0-auc:0.662858\tvalidation_0-error:0.203018\tvalidation_1-auc:0.654687\tvalidation_1-error:0.196371\n",
      "[133]\tvalidation_0-auc:0.662925\tvalidation_0-error:0.203018\tvalidation_1-auc:0.654771\tvalidation_1-error:0.196371\n",
      "[134]\tvalidation_0-auc:0.663069\tvalidation_0-error:0.203018\tvalidation_1-auc:0.654908\tvalidation_1-error:0.196371\n",
      "[135]\tvalidation_0-auc:0.663405\tvalidation_0-error:0.203018\tvalidation_1-auc:0.655166\tvalidation_1-error:0.196371\n",
      "[136]\tvalidation_0-auc:0.663529\tvalidation_0-error:0.203018\tvalidation_1-auc:0.655336\tvalidation_1-error:0.196371\n",
      "[137]\tvalidation_0-auc:0.663673\tvalidation_0-error:0.203018\tvalidation_1-auc:0.65544\tvalidation_1-error:0.196371\n",
      "[138]\tvalidation_0-auc:0.663827\tvalidation_0-error:0.203018\tvalidation_1-auc:0.655556\tvalidation_1-error:0.196371\n",
      "[139]\tvalidation_0-auc:0.663929\tvalidation_0-error:0.203018\tvalidation_1-auc:0.655598\tvalidation_1-error:0.196371\n",
      "[140]\tvalidation_0-auc:0.664121\tvalidation_0-error:0.203018\tvalidation_1-auc:0.655727\tvalidation_1-error:0.196371\n",
      "[141]\tvalidation_0-auc:0.664284\tvalidation_0-error:0.203018\tvalidation_1-auc:0.655839\tvalidation_1-error:0.196371\n",
      "[142]\tvalidation_0-auc:0.664406\tvalidation_0-error:0.203018\tvalidation_1-auc:0.655961\tvalidation_1-error:0.196371\n",
      "[143]\tvalidation_0-auc:0.664573\tvalidation_0-error:0.203018\tvalidation_1-auc:0.656133\tvalidation_1-error:0.196371\n",
      "[144]\tvalidation_0-auc:0.664684\tvalidation_0-error:0.203018\tvalidation_1-auc:0.656251\tvalidation_1-error:0.196371\n",
      "[145]\tvalidation_0-auc:0.6648\tvalidation_0-error:0.203018\tvalidation_1-auc:0.65638\tvalidation_1-error:0.196371\n"
     ]
    },
    {
     "name": "stdout",
     "output_type": "stream",
     "text": [
      "[146]\tvalidation_0-auc:0.664991\tvalidation_0-error:0.203018\tvalidation_1-auc:0.656545\tvalidation_1-error:0.196371\n",
      "[147]\tvalidation_0-auc:0.665132\tvalidation_0-error:0.203018\tvalidation_1-auc:0.656601\tvalidation_1-error:0.196371\n",
      "[148]\tvalidation_0-auc:0.665209\tvalidation_0-error:0.203018\tvalidation_1-auc:0.656658\tvalidation_1-error:0.196371\n",
      "[149]\tvalidation_0-auc:0.66533\tvalidation_0-error:0.203018\tvalidation_1-auc:0.656743\tvalidation_1-error:0.196371\n",
      "[150]\tvalidation_0-auc:0.665471\tvalidation_0-error:0.203018\tvalidation_1-auc:0.656905\tvalidation_1-error:0.196371\n",
      "[151]\tvalidation_0-auc:0.665544\tvalidation_0-error:0.203018\tvalidation_1-auc:0.656959\tvalidation_1-error:0.196371\n",
      "[152]\tvalidation_0-auc:0.665638\tvalidation_0-error:0.203018\tvalidation_1-auc:0.657073\tvalidation_1-error:0.196371\n",
      "[153]\tvalidation_0-auc:0.665734\tvalidation_0-error:0.203018\tvalidation_1-auc:0.657163\tvalidation_1-error:0.196371\n",
      "[154]\tvalidation_0-auc:0.665843\tvalidation_0-error:0.203018\tvalidation_1-auc:0.657311\tvalidation_1-error:0.196371\n",
      "[155]\tvalidation_0-auc:0.666185\tvalidation_0-error:0.203018\tvalidation_1-auc:0.657625\tvalidation_1-error:0.196371\n",
      "[156]\tvalidation_0-auc:0.66648\tvalidation_0-error:0.203018\tvalidation_1-auc:0.657934\tvalidation_1-error:0.196371\n",
      "[157]\tvalidation_0-auc:0.666668\tvalidation_0-error:0.203018\tvalidation_1-auc:0.658099\tvalidation_1-error:0.196371\n",
      "[158]\tvalidation_0-auc:0.666776\tvalidation_0-error:0.203018\tvalidation_1-auc:0.658225\tvalidation_1-error:0.196371\n",
      "[159]\tvalidation_0-auc:0.666875\tvalidation_0-error:0.203018\tvalidation_1-auc:0.658306\tvalidation_1-error:0.196371\n",
      "[160]\tvalidation_0-auc:0.666939\tvalidation_0-error:0.203018\tvalidation_1-auc:0.658388\tvalidation_1-error:0.196371\n",
      "[161]\tvalidation_0-auc:0.66709\tvalidation_0-error:0.203018\tvalidation_1-auc:0.658462\tvalidation_1-error:0.196371\n",
      "[162]\tvalidation_0-auc:0.66719\tvalidation_0-error:0.203018\tvalidation_1-auc:0.658571\tvalidation_1-error:0.196371\n",
      "[163]\tvalidation_0-auc:0.667345\tvalidation_0-error:0.203018\tvalidation_1-auc:0.658662\tvalidation_1-error:0.196371\n",
      "[164]\tvalidation_0-auc:0.667419\tvalidation_0-error:0.203018\tvalidation_1-auc:0.658753\tvalidation_1-error:0.196371\n",
      "[165]\tvalidation_0-auc:0.667619\tvalidation_0-error:0.203018\tvalidation_1-auc:0.658962\tvalidation_1-error:0.196371\n",
      "[166]\tvalidation_0-auc:0.667781\tvalidation_0-error:0.203018\tvalidation_1-auc:0.659085\tvalidation_1-error:0.196371\n",
      "[167]\tvalidation_0-auc:0.667922\tvalidation_0-error:0.203018\tvalidation_1-auc:0.659146\tvalidation_1-error:0.196371\n",
      "[168]\tvalidation_0-auc:0.667959\tvalidation_0-error:0.203018\tvalidation_1-auc:0.65919\tvalidation_1-error:0.196371\n",
      "[169]\tvalidation_0-auc:0.668036\tvalidation_0-error:0.203018\tvalidation_1-auc:0.659249\tvalidation_1-error:0.196371\n",
      "[170]\tvalidation_0-auc:0.668195\tvalidation_0-error:0.203018\tvalidation_1-auc:0.659322\tvalidation_1-error:0.196371\n",
      "[171]\tvalidation_0-auc:0.668396\tvalidation_0-error:0.203018\tvalidation_1-auc:0.659533\tvalidation_1-error:0.196371\n",
      "[172]\tvalidation_0-auc:0.668471\tvalidation_0-error:0.203018\tvalidation_1-auc:0.659588\tvalidation_1-error:0.196371\n",
      "[173]\tvalidation_0-auc:0.668601\tvalidation_0-error:0.203018\tvalidation_1-auc:0.659606\tvalidation_1-error:0.196371\n",
      "[174]\tvalidation_0-auc:0.668652\tvalidation_0-error:0.203018\tvalidation_1-auc:0.659651\tvalidation_1-error:0.196371\n",
      "[175]\tvalidation_0-auc:0.668797\tvalidation_0-error:0.203018\tvalidation_1-auc:0.659721\tvalidation_1-error:0.196371\n",
      "[176]\tvalidation_0-auc:0.668965\tvalidation_0-error:0.203018\tvalidation_1-auc:0.659816\tvalidation_1-error:0.196371\n",
      "[177]\tvalidation_0-auc:0.669057\tvalidation_0-error:0.203018\tvalidation_1-auc:0.659879\tvalidation_1-error:0.196371\n",
      "[178]\tvalidation_0-auc:0.669115\tvalidation_0-error:0.203018\tvalidation_1-auc:0.659927\tvalidation_1-error:0.196371\n",
      "[179]\tvalidation_0-auc:0.669349\tvalidation_0-error:0.203018\tvalidation_1-auc:0.660181\tvalidation_1-error:0.196371\n",
      "[180]\tvalidation_0-auc:0.669452\tvalidation_0-error:0.203018\tvalidation_1-auc:0.660269\tvalidation_1-error:0.196371\n",
      "[181]\tvalidation_0-auc:0.669666\tvalidation_0-error:0.203018\tvalidation_1-auc:0.660458\tvalidation_1-error:0.196371\n",
      "[182]\tvalidation_0-auc:0.669821\tvalidation_0-error:0.203018\tvalidation_1-auc:0.660551\tvalidation_1-error:0.196371\n",
      "[183]\tvalidation_0-auc:0.670045\tvalidation_0-error:0.203018\tvalidation_1-auc:0.660733\tvalidation_1-error:0.196371\n",
      "[184]\tvalidation_0-auc:0.6701\tvalidation_0-error:0.203018\tvalidation_1-auc:0.660763\tvalidation_1-error:0.196371\n",
      "[185]\tvalidation_0-auc:0.670198\tvalidation_0-error:0.203018\tvalidation_1-auc:0.660835\tvalidation_1-error:0.196371\n",
      "[186]\tvalidation_0-auc:0.670186\tvalidation_0-error:0.203018\tvalidation_1-auc:0.660843\tvalidation_1-error:0.196371\n",
      "[187]\tvalidation_0-auc:0.670289\tvalidation_0-error:0.203018\tvalidation_1-auc:0.6609\tvalidation_1-error:0.196371\n",
      "[188]\tvalidation_0-auc:0.67038\tvalidation_0-error:0.203018\tvalidation_1-auc:0.660904\tvalidation_1-error:0.196371\n",
      "[189]\tvalidation_0-auc:0.670473\tvalidation_0-error:0.203018\tvalidation_1-auc:0.660974\tvalidation_1-error:0.196371\n",
      "[190]\tvalidation_0-auc:0.67069\tvalidation_0-error:0.203018\tvalidation_1-auc:0.661127\tvalidation_1-error:0.196371\n",
      "[191]\tvalidation_0-auc:0.670752\tvalidation_0-error:0.203018\tvalidation_1-auc:0.661116\tvalidation_1-error:0.196371\n",
      "[192]\tvalidation_0-auc:0.670857\tvalidation_0-error:0.203018\tvalidation_1-auc:0.661172\tvalidation_1-error:0.196371\n",
      "[193]\tvalidation_0-auc:0.670979\tvalidation_0-error:0.203018\tvalidation_1-auc:0.661239\tvalidation_1-error:0.196371\n",
      "[194]\tvalidation_0-auc:0.671073\tvalidation_0-error:0.203018\tvalidation_1-auc:0.661315\tvalidation_1-error:0.196371\n",
      "[195]\tvalidation_0-auc:0.671144\tvalidation_0-error:0.203018\tvalidation_1-auc:0.661359\tvalidation_1-error:0.196371\n",
      "[196]\tvalidation_0-auc:0.671205\tvalidation_0-error:0.203018\tvalidation_1-auc:0.661415\tvalidation_1-error:0.196371\n",
      "[197]\tvalidation_0-auc:0.671316\tvalidation_0-error:0.203018\tvalidation_1-auc:0.661509\tvalidation_1-error:0.196371\n",
      "[198]\tvalidation_0-auc:0.671461\tvalidation_0-error:0.203018\tvalidation_1-auc:0.661613\tvalidation_1-error:0.196371\n",
      "[199]\tvalidation_0-auc:0.671642\tvalidation_0-error:0.203018\tvalidation_1-auc:0.661779\tvalidation_1-error:0.196371\n",
      "[200]\tvalidation_0-auc:0.671701\tvalidation_0-error:0.203018\tvalidation_1-auc:0.661817\tvalidation_1-error:0.196371\n",
      "[201]\tvalidation_0-auc:0.671695\tvalidation_0-error:0.203018\tvalidation_1-auc:0.661833\tvalidation_1-error:0.196371\n",
      "[202]\tvalidation_0-auc:0.671793\tvalidation_0-error:0.203018\tvalidation_1-auc:0.661892\tvalidation_1-error:0.196371\n",
      "[203]\tvalidation_0-auc:0.67187\tvalidation_0-error:0.203018\tvalidation_1-auc:0.661917\tvalidation_1-error:0.196371\n",
      "[204]\tvalidation_0-auc:0.671948\tvalidation_0-error:0.203018\tvalidation_1-auc:0.661992\tvalidation_1-error:0.196371\n",
      "[205]\tvalidation_0-auc:0.672079\tvalidation_0-error:0.203018\tvalidation_1-auc:0.662057\tvalidation_1-error:0.196371\n",
      "[206]\tvalidation_0-auc:0.672183\tvalidation_0-error:0.203018\tvalidation_1-auc:0.662177\tvalidation_1-error:0.196371\n",
      "[207]\tvalidation_0-auc:0.672261\tvalidation_0-error:0.203018\tvalidation_1-auc:0.662224\tvalidation_1-error:0.196371\n",
      "[208]\tvalidation_0-auc:0.67237\tvalidation_0-error:0.203018\tvalidation_1-auc:0.662312\tvalidation_1-error:0.196371\n",
      "[209]\tvalidation_0-auc:0.672441\tvalidation_0-error:0.203018\tvalidation_1-auc:0.66237\tvalidation_1-error:0.196371\n",
      "[210]\tvalidation_0-auc:0.672566\tvalidation_0-error:0.203018\tvalidation_1-auc:0.662478\tvalidation_1-error:0.196371\n",
      "[211]\tvalidation_0-auc:0.672663\tvalidation_0-error:0.203018\tvalidation_1-auc:0.662579\tvalidation_1-error:0.196371\n",
      "[212]\tvalidation_0-auc:0.672724\tvalidation_0-error:0.203018\tvalidation_1-auc:0.662617\tvalidation_1-error:0.196371\n",
      "[213]\tvalidation_0-auc:0.672858\tvalidation_0-error:0.203018\tvalidation_1-auc:0.662713\tvalidation_1-error:0.196371\n",
      "[214]\tvalidation_0-auc:0.672935\tvalidation_0-error:0.203018\tvalidation_1-auc:0.662751\tvalidation_1-error:0.196371\n",
      "[215]\tvalidation_0-auc:0.673023\tvalidation_0-error:0.203004\tvalidation_1-auc:0.662823\tvalidation_1-error:0.196371\n",
      "[216]\tvalidation_0-auc:0.673068\tvalidation_0-error:0.203004\tvalidation_1-auc:0.662893\tvalidation_1-error:0.196371\n",
      "[217]\tvalidation_0-auc:0.673147\tvalidation_0-error:0.203004\tvalidation_1-auc:0.662921\tvalidation_1-error:0.196371\n"
     ]
    },
    {
     "name": "stdout",
     "output_type": "stream",
     "text": [
      "[218]\tvalidation_0-auc:0.673277\tvalidation_0-error:0.203004\tvalidation_1-auc:0.663007\tvalidation_1-error:0.196371\n",
      "[219]\tvalidation_0-auc:0.673323\tvalidation_0-error:0.203004\tvalidation_1-auc:0.663065\tvalidation_1-error:0.196371\n",
      "[220]\tvalidation_0-auc:0.673435\tvalidation_0-error:0.203004\tvalidation_1-auc:0.663121\tvalidation_1-error:0.196371\n",
      "[221]\tvalidation_0-auc:0.673502\tvalidation_0-error:0.203004\tvalidation_1-auc:0.663127\tvalidation_1-error:0.196371\n",
      "[222]\tvalidation_0-auc:0.673554\tvalidation_0-error:0.203004\tvalidation_1-auc:0.663144\tvalidation_1-error:0.196371\n",
      "[223]\tvalidation_0-auc:0.673618\tvalidation_0-error:0.203004\tvalidation_1-auc:0.663211\tvalidation_1-error:0.196371\n",
      "[224]\tvalidation_0-auc:0.67373\tvalidation_0-error:0.203004\tvalidation_1-auc:0.663317\tvalidation_1-error:0.196371\n",
      "[225]\tvalidation_0-auc:0.673819\tvalidation_0-error:0.203004\tvalidation_1-auc:0.663385\tvalidation_1-error:0.196371\n",
      "[226]\tvalidation_0-auc:0.673927\tvalidation_0-error:0.203004\tvalidation_1-auc:0.663408\tvalidation_1-error:0.196371\n",
      "[227]\tvalidation_0-auc:0.674005\tvalidation_0-error:0.203004\tvalidation_1-auc:0.66343\tvalidation_1-error:0.196371\n",
      "[228]\tvalidation_0-auc:0.674083\tvalidation_0-error:0.203004\tvalidation_1-auc:0.663487\tvalidation_1-error:0.196371\n",
      "[229]\tvalidation_0-auc:0.674173\tvalidation_0-error:0.203004\tvalidation_1-auc:0.663527\tvalidation_1-error:0.196371\n",
      "[230]\tvalidation_0-auc:0.674258\tvalidation_0-error:0.203004\tvalidation_1-auc:0.663597\tvalidation_1-error:0.196371\n",
      "[231]\tvalidation_0-auc:0.674373\tvalidation_0-error:0.203004\tvalidation_1-auc:0.663686\tvalidation_1-error:0.196371\n",
      "[232]\tvalidation_0-auc:0.674465\tvalidation_0-error:0.203004\tvalidation_1-auc:0.663731\tvalidation_1-error:0.196371\n",
      "[233]\tvalidation_0-auc:0.674537\tvalidation_0-error:0.202991\tvalidation_1-auc:0.663761\tvalidation_1-error:0.196371\n",
      "[234]\tvalidation_0-auc:0.674592\tvalidation_0-error:0.202991\tvalidation_1-auc:0.663801\tvalidation_1-error:0.196371\n",
      "[235]\tvalidation_0-auc:0.674626\tvalidation_0-error:0.202991\tvalidation_1-auc:0.663825\tvalidation_1-error:0.196371\n",
      "[236]\tvalidation_0-auc:0.674771\tvalidation_0-error:0.202977\tvalidation_1-auc:0.663958\tvalidation_1-error:0.196371\n",
      "[237]\tvalidation_0-auc:0.674826\tvalidation_0-error:0.202991\tvalidation_1-auc:0.66399\tvalidation_1-error:0.196371\n",
      "[238]\tvalidation_0-auc:0.674891\tvalidation_0-error:0.202977\tvalidation_1-auc:0.664029\tvalidation_1-error:0.196371\n",
      "[239]\tvalidation_0-auc:0.674964\tvalidation_0-error:0.202977\tvalidation_1-auc:0.664084\tvalidation_1-error:0.196371\n",
      "[240]\tvalidation_0-auc:0.675053\tvalidation_0-error:0.202963\tvalidation_1-auc:0.664149\tvalidation_1-error:0.196371\n",
      "[241]\tvalidation_0-auc:0.675128\tvalidation_0-error:0.202963\tvalidation_1-auc:0.664186\tvalidation_1-error:0.196371\n",
      "[242]\tvalidation_0-auc:0.675167\tvalidation_0-error:0.202963\tvalidation_1-auc:0.664221\tvalidation_1-error:0.196371\n",
      "[243]\tvalidation_0-auc:0.675201\tvalidation_0-error:0.202963\tvalidation_1-auc:0.664252\tvalidation_1-error:0.196371\n",
      "[244]\tvalidation_0-auc:0.675269\tvalidation_0-error:0.202963\tvalidation_1-auc:0.664325\tvalidation_1-error:0.196371\n",
      "[245]\tvalidation_0-auc:0.675329\tvalidation_0-error:0.202963\tvalidation_1-auc:0.664397\tvalidation_1-error:0.196371\n",
      "[246]\tvalidation_0-auc:0.675411\tvalidation_0-error:0.202963\tvalidation_1-auc:0.664426\tvalidation_1-error:0.196371\n",
      "[247]\tvalidation_0-auc:0.675482\tvalidation_0-error:0.202963\tvalidation_1-auc:0.664483\tvalidation_1-error:0.196371\n",
      "[248]\tvalidation_0-auc:0.675518\tvalidation_0-error:0.202963\tvalidation_1-auc:0.664485\tvalidation_1-error:0.196371\n",
      "[249]\tvalidation_0-auc:0.675571\tvalidation_0-error:0.202977\tvalidation_1-auc:0.664505\tvalidation_1-error:0.196339\n",
      "[250]\tvalidation_0-auc:0.675663\tvalidation_0-error:0.202963\tvalidation_1-auc:0.664557\tvalidation_1-error:0.196339\n",
      "[251]\tvalidation_0-auc:0.675722\tvalidation_0-error:0.202963\tvalidation_1-auc:0.664549\tvalidation_1-error:0.196339\n",
      "[252]\tvalidation_0-auc:0.675795\tvalidation_0-error:0.202963\tvalidation_1-auc:0.664594\tvalidation_1-error:0.196339\n",
      "[253]\tvalidation_0-auc:0.675862\tvalidation_0-error:0.202963\tvalidation_1-auc:0.66464\tvalidation_1-error:0.196339\n",
      "[254]\tvalidation_0-auc:0.675911\tvalidation_0-error:0.202963\tvalidation_1-auc:0.664635\tvalidation_1-error:0.196339\n",
      "[255]\tvalidation_0-auc:0.675973\tvalidation_0-error:0.202936\tvalidation_1-auc:0.664661\tvalidation_1-error:0.196339\n",
      "[256]\tvalidation_0-auc:0.676035\tvalidation_0-error:0.202936\tvalidation_1-auc:0.664716\tvalidation_1-error:0.196339\n",
      "[257]\tvalidation_0-auc:0.676077\tvalidation_0-error:0.202936\tvalidation_1-auc:0.664728\tvalidation_1-error:0.196339\n",
      "[258]\tvalidation_0-auc:0.676116\tvalidation_0-error:0.202922\tvalidation_1-auc:0.664736\tvalidation_1-error:0.196339\n",
      "[259]\tvalidation_0-auc:0.676172\tvalidation_0-error:0.202922\tvalidation_1-auc:0.664794\tvalidation_1-error:0.196308\n",
      "[260]\tvalidation_0-auc:0.676246\tvalidation_0-error:0.202922\tvalidation_1-auc:0.664813\tvalidation_1-error:0.196308\n",
      "[261]\tvalidation_0-auc:0.67631\tvalidation_0-error:0.202909\tvalidation_1-auc:0.664887\tvalidation_1-error:0.196308\n",
      "[262]\tvalidation_0-auc:0.676445\tvalidation_0-error:0.202895\tvalidation_1-auc:0.664963\tvalidation_1-error:0.196308\n",
      "[263]\tvalidation_0-auc:0.676492\tvalidation_0-error:0.202895\tvalidation_1-auc:0.664976\tvalidation_1-error:0.196339\n",
      "[264]\tvalidation_0-auc:0.676557\tvalidation_0-error:0.202895\tvalidation_1-auc:0.665008\tvalidation_1-error:0.196339\n",
      "[265]\tvalidation_0-auc:0.676632\tvalidation_0-error:0.202882\tvalidation_1-auc:0.665038\tvalidation_1-error:0.196339\n",
      "[266]\tvalidation_0-auc:0.676672\tvalidation_0-error:0.202882\tvalidation_1-auc:0.665099\tvalidation_1-error:0.196339\n",
      "[267]\tvalidation_0-auc:0.676743\tvalidation_0-error:0.202882\tvalidation_1-auc:0.665179\tvalidation_1-error:0.196339\n",
      "[268]\tvalidation_0-auc:0.676791\tvalidation_0-error:0.202895\tvalidation_1-auc:0.665189\tvalidation_1-error:0.196339\n",
      "[269]\tvalidation_0-auc:0.67683\tvalidation_0-error:0.202882\tvalidation_1-auc:0.66518\tvalidation_1-error:0.196339\n",
      "[270]\tvalidation_0-auc:0.676895\tvalidation_0-error:0.202895\tvalidation_1-auc:0.665245\tvalidation_1-error:0.196339\n",
      "[271]\tvalidation_0-auc:0.676924\tvalidation_0-error:0.202882\tvalidation_1-auc:0.66529\tvalidation_1-error:0.196308\n",
      "[272]\tvalidation_0-auc:0.676992\tvalidation_0-error:0.202882\tvalidation_1-auc:0.665336\tvalidation_1-error:0.196308\n",
      "[273]\tvalidation_0-auc:0.677015\tvalidation_0-error:0.202895\tvalidation_1-auc:0.665347\tvalidation_1-error:0.196308\n",
      "[274]\tvalidation_0-auc:0.677072\tvalidation_0-error:0.202909\tvalidation_1-auc:0.665383\tvalidation_1-error:0.196308\n",
      "[275]\tvalidation_0-auc:0.67715\tvalidation_0-error:0.202909\tvalidation_1-auc:0.665365\tvalidation_1-error:0.196308\n",
      "[276]\tvalidation_0-auc:0.67719\tvalidation_0-error:0.202909\tvalidation_1-auc:0.665413\tvalidation_1-error:0.196244\n",
      "[277]\tvalidation_0-auc:0.677249\tvalidation_0-error:0.202909\tvalidation_1-auc:0.665468\tvalidation_1-error:0.196244\n",
      "[278]\tvalidation_0-auc:0.677321\tvalidation_0-error:0.202909\tvalidation_1-auc:0.665501\tvalidation_1-error:0.196244\n",
      "[279]\tvalidation_0-auc:0.677376\tvalidation_0-error:0.202909\tvalidation_1-auc:0.665528\tvalidation_1-error:0.196244\n",
      "[280]\tvalidation_0-auc:0.677379\tvalidation_0-error:0.202882\tvalidation_1-auc:0.665512\tvalidation_1-error:0.196244\n",
      "[281]\tvalidation_0-auc:0.677497\tvalidation_0-error:0.202882\tvalidation_1-auc:0.665594\tvalidation_1-error:0.196244\n",
      "[282]\tvalidation_0-auc:0.677571\tvalidation_0-error:0.202895\tvalidation_1-auc:0.665648\tvalidation_1-error:0.196276\n",
      "[283]\tvalidation_0-auc:0.677615\tvalidation_0-error:0.202882\tvalidation_1-auc:0.665672\tvalidation_1-error:0.196244\n",
      "[284]\tvalidation_0-auc:0.677703\tvalidation_0-error:0.202868\tvalidation_1-auc:0.665738\tvalidation_1-error:0.196244\n",
      "[285]\tvalidation_0-auc:0.677826\tvalidation_0-error:0.202868\tvalidation_1-auc:0.665868\tvalidation_1-error:0.196244\n",
      "[286]\tvalidation_0-auc:0.677861\tvalidation_0-error:0.202882\tvalidation_1-auc:0.665895\tvalidation_1-error:0.196244\n",
      "[287]\tvalidation_0-auc:0.677903\tvalidation_0-error:0.202882\tvalidation_1-auc:0.665939\tvalidation_1-error:0.196244\n",
      "[288]\tvalidation_0-auc:0.677947\tvalidation_0-error:0.202868\tvalidation_1-auc:0.665951\tvalidation_1-error:0.196244\n",
      "[289]\tvalidation_0-auc:0.678046\tvalidation_0-error:0.202868\tvalidation_1-auc:0.666058\tvalidation_1-error:0.196244\n"
     ]
    },
    {
     "name": "stdout",
     "output_type": "stream",
     "text": [
      "[290]\tvalidation_0-auc:0.678113\tvalidation_0-error:0.202868\tvalidation_1-auc:0.666131\tvalidation_1-error:0.196244\n",
      "[291]\tvalidation_0-auc:0.678163\tvalidation_0-error:0.202868\tvalidation_1-auc:0.666178\tvalidation_1-error:0.196244\n",
      "[292]\tvalidation_0-auc:0.678205\tvalidation_0-error:0.202868\tvalidation_1-auc:0.666252\tvalidation_1-error:0.196244\n",
      "[293]\tvalidation_0-auc:0.678273\tvalidation_0-error:0.202868\tvalidation_1-auc:0.666312\tvalidation_1-error:0.196244\n",
      "[294]\tvalidation_0-auc:0.678331\tvalidation_0-error:0.202882\tvalidation_1-auc:0.666314\tvalidation_1-error:0.196244\n",
      "[295]\tvalidation_0-auc:0.67837\tvalidation_0-error:0.202882\tvalidation_1-auc:0.666352\tvalidation_1-error:0.196244\n",
      "[296]\tvalidation_0-auc:0.678386\tvalidation_0-error:0.202868\tvalidation_1-auc:0.666351\tvalidation_1-error:0.196244\n",
      "[297]\tvalidation_0-auc:0.678406\tvalidation_0-error:0.202868\tvalidation_1-auc:0.666391\tvalidation_1-error:0.196244\n",
      "[298]\tvalidation_0-auc:0.678464\tvalidation_0-error:0.202854\tvalidation_1-auc:0.666447\tvalidation_1-error:0.196244\n",
      "[299]\tvalidation_0-auc:0.678519\tvalidation_0-error:0.202841\tvalidation_1-auc:0.666484\tvalidation_1-error:0.196244\n",
      "[300]\tvalidation_0-auc:0.678582\tvalidation_0-error:0.202841\tvalidation_1-auc:0.666522\tvalidation_1-error:0.196244\n",
      "[301]\tvalidation_0-auc:0.678621\tvalidation_0-error:0.202841\tvalidation_1-auc:0.666541\tvalidation_1-error:0.196244\n",
      "[302]\tvalidation_0-auc:0.678665\tvalidation_0-error:0.202854\tvalidation_1-auc:0.666573\tvalidation_1-error:0.196276\n",
      "[303]\tvalidation_0-auc:0.67872\tvalidation_0-error:0.202841\tvalidation_1-auc:0.666565\tvalidation_1-error:0.196276\n",
      "[304]\tvalidation_0-auc:0.678757\tvalidation_0-error:0.202841\tvalidation_1-auc:0.66658\tvalidation_1-error:0.196276\n",
      "[305]\tvalidation_0-auc:0.678791\tvalidation_0-error:0.202841\tvalidation_1-auc:0.666619\tvalidation_1-error:0.196276\n",
      "[306]\tvalidation_0-auc:0.678839\tvalidation_0-error:0.202841\tvalidation_1-auc:0.666659\tvalidation_1-error:0.196276\n",
      "[307]\tvalidation_0-auc:0.678905\tvalidation_0-error:0.202841\tvalidation_1-auc:0.666739\tvalidation_1-error:0.196276\n",
      "[308]\tvalidation_0-auc:0.678931\tvalidation_0-error:0.202841\tvalidation_1-auc:0.666748\tvalidation_1-error:0.196276\n",
      "[309]\tvalidation_0-auc:0.678972\tvalidation_0-error:0.202827\tvalidation_1-auc:0.666808\tvalidation_1-error:0.196244\n",
      "[310]\tvalidation_0-auc:0.679029\tvalidation_0-error:0.202827\tvalidation_1-auc:0.666844\tvalidation_1-error:0.196244\n",
      "[311]\tvalidation_0-auc:0.679111\tvalidation_0-error:0.202827\tvalidation_1-auc:0.666937\tvalidation_1-error:0.196244\n",
      "[312]\tvalidation_0-auc:0.679189\tvalidation_0-error:0.202813\tvalidation_1-auc:0.66699\tvalidation_1-error:0.196244\n",
      "[313]\tvalidation_0-auc:0.679256\tvalidation_0-error:0.202813\tvalidation_1-auc:0.667012\tvalidation_1-error:0.196244\n",
      "[314]\tvalidation_0-auc:0.679304\tvalidation_0-error:0.202841\tvalidation_1-auc:0.667034\tvalidation_1-error:0.196244\n",
      "[315]\tvalidation_0-auc:0.679342\tvalidation_0-error:0.202841\tvalidation_1-auc:0.667039\tvalidation_1-error:0.196244\n",
      "[316]\tvalidation_0-auc:0.679385\tvalidation_0-error:0.202827\tvalidation_1-auc:0.667034\tvalidation_1-error:0.196276\n",
      "[317]\tvalidation_0-auc:0.679436\tvalidation_0-error:0.202813\tvalidation_1-auc:0.667033\tvalidation_1-error:0.196276\n",
      "[318]\tvalidation_0-auc:0.679478\tvalidation_0-error:0.202813\tvalidation_1-auc:0.66706\tvalidation_1-error:0.196276\n",
      "[319]\tvalidation_0-auc:0.679521\tvalidation_0-error:0.202813\tvalidation_1-auc:0.667088\tvalidation_1-error:0.196244\n",
      "[320]\tvalidation_0-auc:0.679545\tvalidation_0-error:0.202813\tvalidation_1-auc:0.667118\tvalidation_1-error:0.196244\n",
      "[321]\tvalidation_0-auc:0.679584\tvalidation_0-error:0.202813\tvalidation_1-auc:0.667104\tvalidation_1-error:0.196244\n",
      "[322]\tvalidation_0-auc:0.679636\tvalidation_0-error:0.202813\tvalidation_1-auc:0.667117\tvalidation_1-error:0.196244\n",
      "[323]\tvalidation_0-auc:0.679686\tvalidation_0-error:0.2028\tvalidation_1-auc:0.667165\tvalidation_1-error:0.196244\n",
      "[324]\tvalidation_0-auc:0.679738\tvalidation_0-error:0.2028\tvalidation_1-auc:0.667218\tvalidation_1-error:0.196244\n",
      "[325]\tvalidation_0-auc:0.679797\tvalidation_0-error:0.2028\tvalidation_1-auc:0.667249\tvalidation_1-error:0.196244\n",
      "[326]\tvalidation_0-auc:0.679841\tvalidation_0-error:0.2028\tvalidation_1-auc:0.667295\tvalidation_1-error:0.196276\n",
      "[327]\tvalidation_0-auc:0.679887\tvalidation_0-error:0.2028\tvalidation_1-auc:0.667325\tvalidation_1-error:0.196244\n",
      "[328]\tvalidation_0-auc:0.679936\tvalidation_0-error:0.2028\tvalidation_1-auc:0.667361\tvalidation_1-error:0.196212\n",
      "[329]\tvalidation_0-auc:0.679986\tvalidation_0-error:0.2028\tvalidation_1-auc:0.667384\tvalidation_1-error:0.196212\n",
      "[330]\tvalidation_0-auc:0.68004\tvalidation_0-error:0.2028\tvalidation_1-auc:0.667399\tvalidation_1-error:0.196212\n",
      "[331]\tvalidation_0-auc:0.680106\tvalidation_0-error:0.202786\tvalidation_1-auc:0.667451\tvalidation_1-error:0.196244\n",
      "[332]\tvalidation_0-auc:0.680142\tvalidation_0-error:0.2028\tvalidation_1-auc:0.667468\tvalidation_1-error:0.196276\n",
      "[333]\tvalidation_0-auc:0.680182\tvalidation_0-error:0.2028\tvalidation_1-auc:0.667495\tvalidation_1-error:0.196308\n",
      "[334]\tvalidation_0-auc:0.680223\tvalidation_0-error:0.202773\tvalidation_1-auc:0.667501\tvalidation_1-error:0.196212\n",
      "[335]\tvalidation_0-auc:0.680257\tvalidation_0-error:0.202773\tvalidation_1-auc:0.667504\tvalidation_1-error:0.196212\n",
      "[336]\tvalidation_0-auc:0.680289\tvalidation_0-error:0.202773\tvalidation_1-auc:0.667535\tvalidation_1-error:0.196212\n",
      "[337]\tvalidation_0-auc:0.68036\tvalidation_0-error:0.202786\tvalidation_1-auc:0.66761\tvalidation_1-error:0.196212\n",
      "[338]\tvalidation_0-auc:0.680393\tvalidation_0-error:0.202759\tvalidation_1-auc:0.667641\tvalidation_1-error:0.196212\n",
      "[339]\tvalidation_0-auc:0.680464\tvalidation_0-error:0.202759\tvalidation_1-auc:0.667698\tvalidation_1-error:0.196212\n",
      "[340]\tvalidation_0-auc:0.68051\tvalidation_0-error:0.202732\tvalidation_1-auc:0.667719\tvalidation_1-error:0.196244\n",
      "[341]\tvalidation_0-auc:0.68053\tvalidation_0-error:0.202732\tvalidation_1-auc:0.667743\tvalidation_1-error:0.196244\n",
      "[342]\tvalidation_0-auc:0.680562\tvalidation_0-error:0.202677\tvalidation_1-auc:0.667742\tvalidation_1-error:0.196244\n",
      "[343]\tvalidation_0-auc:0.680608\tvalidation_0-error:0.202691\tvalidation_1-auc:0.667789\tvalidation_1-error:0.196212\n",
      "[344]\tvalidation_0-auc:0.680646\tvalidation_0-error:0.202691\tvalidation_1-auc:0.667815\tvalidation_1-error:0.196181\n",
      "[345]\tvalidation_0-auc:0.680695\tvalidation_0-error:0.202664\tvalidation_1-auc:0.667821\tvalidation_1-error:0.196181\n",
      "[346]\tvalidation_0-auc:0.680772\tvalidation_0-error:0.20265\tvalidation_1-auc:0.667908\tvalidation_1-error:0.196212\n",
      "[347]\tvalidation_0-auc:0.680812\tvalidation_0-error:0.20265\tvalidation_1-auc:0.667955\tvalidation_1-error:0.196212\n",
      "[348]\tvalidation_0-auc:0.680867\tvalidation_0-error:0.20265\tvalidation_1-auc:0.667988\tvalidation_1-error:0.196212\n",
      "[349]\tvalidation_0-auc:0.680898\tvalidation_0-error:0.202623\tvalidation_1-auc:0.667997\tvalidation_1-error:0.196212\n",
      "[350]\tvalidation_0-auc:0.68094\tvalidation_0-error:0.202636\tvalidation_1-auc:0.668035\tvalidation_1-error:0.196212\n",
      "[351]\tvalidation_0-auc:0.680971\tvalidation_0-error:0.202636\tvalidation_1-auc:0.668054\tvalidation_1-error:0.196212\n",
      "[352]\tvalidation_0-auc:0.681007\tvalidation_0-error:0.202636\tvalidation_1-auc:0.668079\tvalidation_1-error:0.196181\n",
      "[353]\tvalidation_0-auc:0.681065\tvalidation_0-error:0.202609\tvalidation_1-auc:0.668126\tvalidation_1-error:0.196149\n",
      "[354]\tvalidation_0-auc:0.681104\tvalidation_0-error:0.202609\tvalidation_1-auc:0.668142\tvalidation_1-error:0.196149\n",
      "[355]\tvalidation_0-auc:0.681144\tvalidation_0-error:0.202609\tvalidation_1-auc:0.668159\tvalidation_1-error:0.196117\n",
      "[356]\tvalidation_0-auc:0.681187\tvalidation_0-error:0.202609\tvalidation_1-auc:0.66816\tvalidation_1-error:0.196117\n",
      "[357]\tvalidation_0-auc:0.681236\tvalidation_0-error:0.202609\tvalidation_1-auc:0.668187\tvalidation_1-error:0.196117\n",
      "[358]\tvalidation_0-auc:0.681289\tvalidation_0-error:0.202609\tvalidation_1-auc:0.668225\tvalidation_1-error:0.196117\n",
      "[359]\tvalidation_0-auc:0.681325\tvalidation_0-error:0.202609\tvalidation_1-auc:0.668242\tvalidation_1-error:0.196117\n",
      "[360]\tvalidation_0-auc:0.681377\tvalidation_0-error:0.202623\tvalidation_1-auc:0.668276\tvalidation_1-error:0.196149\n",
      "[361]\tvalidation_0-auc:0.681417\tvalidation_0-error:0.20265\tvalidation_1-auc:0.66828\tvalidation_1-error:0.196117\n",
      "[362]\tvalidation_0-auc:0.681474\tvalidation_0-error:0.20265\tvalidation_1-auc:0.668316\tvalidation_1-error:0.196117\n"
     ]
    },
    {
     "name": "stdout",
     "output_type": "stream",
     "text": [
      "[363]\tvalidation_0-auc:0.681499\tvalidation_0-error:0.202691\tvalidation_1-auc:0.668318\tvalidation_1-error:0.196117\n",
      "[364]\tvalidation_0-auc:0.681528\tvalidation_0-error:0.202677\tvalidation_1-auc:0.668344\tvalidation_1-error:0.196117\n",
      "[365]\tvalidation_0-auc:0.681572\tvalidation_0-error:0.202677\tvalidation_1-auc:0.668338\tvalidation_1-error:0.196149\n",
      "[366]\tvalidation_0-auc:0.681596\tvalidation_0-error:0.202691\tvalidation_1-auc:0.668324\tvalidation_1-error:0.196149\n",
      "[367]\tvalidation_0-auc:0.68161\tvalidation_0-error:0.202705\tvalidation_1-auc:0.668327\tvalidation_1-error:0.196149\n",
      "[368]\tvalidation_0-auc:0.681664\tvalidation_0-error:0.202705\tvalidation_1-auc:0.668372\tvalidation_1-error:0.196149\n",
      "[369]\tvalidation_0-auc:0.681713\tvalidation_0-error:0.202705\tvalidation_1-auc:0.668408\tvalidation_1-error:0.196149\n",
      "[370]\tvalidation_0-auc:0.681753\tvalidation_0-error:0.202705\tvalidation_1-auc:0.668425\tvalidation_1-error:0.196181\n",
      "[371]\tvalidation_0-auc:0.681794\tvalidation_0-error:0.202705\tvalidation_1-auc:0.668433\tvalidation_1-error:0.196181\n",
      "[372]\tvalidation_0-auc:0.681842\tvalidation_0-error:0.202705\tvalidation_1-auc:0.668462\tvalidation_1-error:0.196181\n",
      "[373]\tvalidation_0-auc:0.681891\tvalidation_0-error:0.202677\tvalidation_1-auc:0.668448\tvalidation_1-error:0.196149\n",
      "[374]\tvalidation_0-auc:0.68193\tvalidation_0-error:0.202677\tvalidation_1-auc:0.66848\tvalidation_1-error:0.196149\n",
      "[375]\tvalidation_0-auc:0.681955\tvalidation_0-error:0.202677\tvalidation_1-auc:0.668477\tvalidation_1-error:0.196149\n",
      "[376]\tvalidation_0-auc:0.681999\tvalidation_0-error:0.202677\tvalidation_1-auc:0.668483\tvalidation_1-error:0.196149\n",
      "[377]\tvalidation_0-auc:0.682058\tvalidation_0-error:0.20265\tvalidation_1-auc:0.668561\tvalidation_1-error:0.196181\n",
      "[378]\tvalidation_0-auc:0.682089\tvalidation_0-error:0.202677\tvalidation_1-auc:0.668583\tvalidation_1-error:0.196181\n",
      "[379]\tvalidation_0-auc:0.68213\tvalidation_0-error:0.202677\tvalidation_1-auc:0.668626\tvalidation_1-error:0.196181\n",
      "[380]\tvalidation_0-auc:0.682189\tvalidation_0-error:0.202677\tvalidation_1-auc:0.668663\tvalidation_1-error:0.196181\n",
      "[381]\tvalidation_0-auc:0.682217\tvalidation_0-error:0.202677\tvalidation_1-auc:0.668702\tvalidation_1-error:0.196181\n",
      "[382]\tvalidation_0-auc:0.68224\tvalidation_0-error:0.202677\tvalidation_1-auc:0.668711\tvalidation_1-error:0.196181\n",
      "[383]\tvalidation_0-auc:0.682297\tvalidation_0-error:0.202677\tvalidation_1-auc:0.668787\tvalidation_1-error:0.196181\n",
      "[384]\tvalidation_0-auc:0.68233\tvalidation_0-error:0.202677\tvalidation_1-auc:0.668806\tvalidation_1-error:0.196181\n",
      "[385]\tvalidation_0-auc:0.68237\tvalidation_0-error:0.202691\tvalidation_1-auc:0.668809\tvalidation_1-error:0.196181\n",
      "[386]\tvalidation_0-auc:0.682422\tvalidation_0-error:0.202677\tvalidation_1-auc:0.668847\tvalidation_1-error:0.196181\n",
      "[387]\tvalidation_0-auc:0.682473\tvalidation_0-error:0.202677\tvalidation_1-auc:0.668866\tvalidation_1-error:0.196181\n",
      "[388]\tvalidation_0-auc:0.682501\tvalidation_0-error:0.202664\tvalidation_1-auc:0.668858\tvalidation_1-error:0.196212\n",
      "[389]\tvalidation_0-auc:0.682545\tvalidation_0-error:0.20265\tvalidation_1-auc:0.668886\tvalidation_1-error:0.196181\n",
      "[390]\tvalidation_0-auc:0.682587\tvalidation_0-error:0.20265\tvalidation_1-auc:0.668937\tvalidation_1-error:0.196212\n",
      "[391]\tvalidation_0-auc:0.682619\tvalidation_0-error:0.202636\tvalidation_1-auc:0.668912\tvalidation_1-error:0.196212\n",
      "[392]\tvalidation_0-auc:0.682638\tvalidation_0-error:0.202609\tvalidation_1-auc:0.668922\tvalidation_1-error:0.196181\n",
      "[393]\tvalidation_0-auc:0.682685\tvalidation_0-error:0.202609\tvalidation_1-auc:0.668966\tvalidation_1-error:0.196181\n",
      "[394]\tvalidation_0-auc:0.682722\tvalidation_0-error:0.202596\tvalidation_1-auc:0.668986\tvalidation_1-error:0.196181\n",
      "[395]\tvalidation_0-auc:0.682743\tvalidation_0-error:0.202596\tvalidation_1-auc:0.668998\tvalidation_1-error:0.196149\n",
      "[396]\tvalidation_0-auc:0.682791\tvalidation_0-error:0.202582\tvalidation_1-auc:0.669038\tvalidation_1-error:0.196149\n",
      "[397]\tvalidation_0-auc:0.682831\tvalidation_0-error:0.202582\tvalidation_1-auc:0.669047\tvalidation_1-error:0.196149\n",
      "[398]\tvalidation_0-auc:0.682856\tvalidation_0-error:0.202596\tvalidation_1-auc:0.669055\tvalidation_1-error:0.196149\n",
      "[399]\tvalidation_0-auc:0.682891\tvalidation_0-error:0.202582\tvalidation_1-auc:0.66909\tvalidation_1-error:0.196149\n",
      "[400]\tvalidation_0-auc:0.682918\tvalidation_0-error:0.202568\tvalidation_1-auc:0.669102\tvalidation_1-error:0.196149\n",
      "[401]\tvalidation_0-auc:0.682952\tvalidation_0-error:0.202555\tvalidation_1-auc:0.669105\tvalidation_1-error:0.196149\n",
      "[402]\tvalidation_0-auc:0.682983\tvalidation_0-error:0.202555\tvalidation_1-auc:0.669124\tvalidation_1-error:0.196149\n",
      "[403]\tvalidation_0-auc:0.683013\tvalidation_0-error:0.202568\tvalidation_1-auc:0.669137\tvalidation_1-error:0.196149\n",
      "[404]\tvalidation_0-auc:0.68307\tvalidation_0-error:0.202568\tvalidation_1-auc:0.669163\tvalidation_1-error:0.196149\n",
      "[405]\tvalidation_0-auc:0.683107\tvalidation_0-error:0.202555\tvalidation_1-auc:0.669185\tvalidation_1-error:0.196149\n",
      "[406]\tvalidation_0-auc:0.683146\tvalidation_0-error:0.202541\tvalidation_1-auc:0.669165\tvalidation_1-error:0.196149\n",
      "[407]\tvalidation_0-auc:0.683162\tvalidation_0-error:0.202541\tvalidation_1-auc:0.669151\tvalidation_1-error:0.196149\n",
      "[408]\tvalidation_0-auc:0.683194\tvalidation_0-error:0.202555\tvalidation_1-auc:0.66913\tvalidation_1-error:0.196117\n",
      "[409]\tvalidation_0-auc:0.683227\tvalidation_0-error:0.202555\tvalidation_1-auc:0.669144\tvalidation_1-error:0.196022\n",
      "[410]\tvalidation_0-auc:0.683288\tvalidation_0-error:0.202528\tvalidation_1-auc:0.669192\tvalidation_1-error:0.196054\n",
      "[411]\tvalidation_0-auc:0.683302\tvalidation_0-error:0.202446\tvalidation_1-auc:0.669201\tvalidation_1-error:0.196085\n",
      "[412]\tvalidation_0-auc:0.68333\tvalidation_0-error:0.202473\tvalidation_1-auc:0.66922\tvalidation_1-error:0.196117\n",
      "[413]\tvalidation_0-auc:0.683377\tvalidation_0-error:0.202446\tvalidation_1-auc:0.669248\tvalidation_1-error:0.196054\n",
      "[414]\tvalidation_0-auc:0.683399\tvalidation_0-error:0.202432\tvalidation_1-auc:0.669264\tvalidation_1-error:0.196117\n",
      "[415]\tvalidation_0-auc:0.683443\tvalidation_0-error:0.202419\tvalidation_1-auc:0.669309\tvalidation_1-error:0.196022\n",
      "[416]\tvalidation_0-auc:0.683478\tvalidation_0-error:0.202419\tvalidation_1-auc:0.669332\tvalidation_1-error:0.196022\n",
      "[417]\tvalidation_0-auc:0.68352\tvalidation_0-error:0.202446\tvalidation_1-auc:0.669338\tvalidation_1-error:0.196085\n",
      "[418]\tvalidation_0-auc:0.683588\tvalidation_0-error:0.202446\tvalidation_1-auc:0.669369\tvalidation_1-error:0.196085\n",
      "[419]\tvalidation_0-auc:0.683603\tvalidation_0-error:0.202473\tvalidation_1-auc:0.669385\tvalidation_1-error:0.196117\n",
      "[420]\tvalidation_0-auc:0.683653\tvalidation_0-error:0.202459\tvalidation_1-auc:0.669435\tvalidation_1-error:0.196054\n",
      "[421]\tvalidation_0-auc:0.683698\tvalidation_0-error:0.202446\tvalidation_1-auc:0.669472\tvalidation_1-error:0.19599\n",
      "[422]\tvalidation_0-auc:0.683716\tvalidation_0-error:0.202432\tvalidation_1-auc:0.669465\tvalidation_1-error:0.196054\n",
      "[423]\tvalidation_0-auc:0.683762\tvalidation_0-error:0.202446\tvalidation_1-auc:0.669457\tvalidation_1-error:0.196054\n",
      "[424]\tvalidation_0-auc:0.68381\tvalidation_0-error:0.202459\tvalidation_1-auc:0.669479\tvalidation_1-error:0.196054\n",
      "[425]\tvalidation_0-auc:0.683855\tvalidation_0-error:0.202446\tvalidation_1-auc:0.669482\tvalidation_1-error:0.196085\n",
      "[426]\tvalidation_0-auc:0.683892\tvalidation_0-error:0.202432\tvalidation_1-auc:0.669496\tvalidation_1-error:0.196117\n",
      "[427]\tvalidation_0-auc:0.683935\tvalidation_0-error:0.202405\tvalidation_1-auc:0.669512\tvalidation_1-error:0.196117\n",
      "[428]\tvalidation_0-auc:0.683984\tvalidation_0-error:0.202405\tvalidation_1-auc:0.669539\tvalidation_1-error:0.196117\n",
      "[429]\tvalidation_0-auc:0.684016\tvalidation_0-error:0.202419\tvalidation_1-auc:0.669542\tvalidation_1-error:0.196149\n",
      "[430]\tvalidation_0-auc:0.684044\tvalidation_0-error:0.202419\tvalidation_1-auc:0.669537\tvalidation_1-error:0.196117\n",
      "[431]\tvalidation_0-auc:0.684066\tvalidation_0-error:0.202405\tvalidation_1-auc:0.669546\tvalidation_1-error:0.196085\n",
      "[432]\tvalidation_0-auc:0.684099\tvalidation_0-error:0.202391\tvalidation_1-auc:0.669568\tvalidation_1-error:0.196054\n",
      "[433]\tvalidation_0-auc:0.684125\tvalidation_0-error:0.202405\tvalidation_1-auc:0.669565\tvalidation_1-error:0.196022\n",
      "[434]\tvalidation_0-auc:0.684163\tvalidation_0-error:0.202405\tvalidation_1-auc:0.669581\tvalidation_1-error:0.19599\n",
      "[435]\tvalidation_0-auc:0.684206\tvalidation_0-error:0.202405\tvalidation_1-auc:0.6696\tvalidation_1-error:0.196022\n"
     ]
    },
    {
     "name": "stdout",
     "output_type": "stream",
     "text": [
      "[436]\tvalidation_0-auc:0.684257\tvalidation_0-error:0.202405\tvalidation_1-auc:0.669636\tvalidation_1-error:0.196022\n",
      "[437]\tvalidation_0-auc:0.684285\tvalidation_0-error:0.202405\tvalidation_1-auc:0.669655\tvalidation_1-error:0.196022\n",
      "[438]\tvalidation_0-auc:0.684322\tvalidation_0-error:0.202405\tvalidation_1-auc:0.669687\tvalidation_1-error:0.19599\n",
      "[439]\tvalidation_0-auc:0.684345\tvalidation_0-error:0.202391\tvalidation_1-auc:0.669693\tvalidation_1-error:0.196022\n",
      "[440]\tvalidation_0-auc:0.684385\tvalidation_0-error:0.202391\tvalidation_1-auc:0.669728\tvalidation_1-error:0.196054\n",
      "[441]\tvalidation_0-auc:0.684402\tvalidation_0-error:0.202391\tvalidation_1-auc:0.669723\tvalidation_1-error:0.196054\n",
      "[442]\tvalidation_0-auc:0.684448\tvalidation_0-error:0.202378\tvalidation_1-auc:0.669739\tvalidation_1-error:0.196054\n",
      "[443]\tvalidation_0-auc:0.684508\tvalidation_0-error:0.202378\tvalidation_1-auc:0.669791\tvalidation_1-error:0.196054\n",
      "[444]\tvalidation_0-auc:0.684534\tvalidation_0-error:0.202364\tvalidation_1-auc:0.669801\tvalidation_1-error:0.196117\n",
      "[445]\tvalidation_0-auc:0.684552\tvalidation_0-error:0.202364\tvalidation_1-auc:0.669803\tvalidation_1-error:0.196181\n",
      "[446]\tvalidation_0-auc:0.684587\tvalidation_0-error:0.202364\tvalidation_1-auc:0.669813\tvalidation_1-error:0.196181\n",
      "[447]\tvalidation_0-auc:0.684629\tvalidation_0-error:0.202364\tvalidation_1-auc:0.669822\tvalidation_1-error:0.196181\n",
      "[448]\tvalidation_0-auc:0.684668\tvalidation_0-error:0.202364\tvalidation_1-auc:0.669832\tvalidation_1-error:0.196181\n",
      "[449]\tvalidation_0-auc:0.68469\tvalidation_0-error:0.20235\tvalidation_1-auc:0.669837\tvalidation_1-error:0.196117\n",
      "[450]\tvalidation_0-auc:0.684722\tvalidation_0-error:0.20235\tvalidation_1-auc:0.669838\tvalidation_1-error:0.196117\n",
      "[451]\tvalidation_0-auc:0.684752\tvalidation_0-error:0.20235\tvalidation_1-auc:0.669865\tvalidation_1-error:0.196085\n",
      "[452]\tvalidation_0-auc:0.68479\tvalidation_0-error:0.20235\tvalidation_1-auc:0.669875\tvalidation_1-error:0.196085\n",
      "[453]\tvalidation_0-auc:0.684814\tvalidation_0-error:0.20235\tvalidation_1-auc:0.669887\tvalidation_1-error:0.196085\n",
      "[454]\tvalidation_0-auc:0.684841\tvalidation_0-error:0.20235\tvalidation_1-auc:0.669896\tvalidation_1-error:0.196085\n",
      "[455]\tvalidation_0-auc:0.684869\tvalidation_0-error:0.20235\tvalidation_1-auc:0.669918\tvalidation_1-error:0.196085\n",
      "[456]\tvalidation_0-auc:0.684958\tvalidation_0-error:0.20235\tvalidation_1-auc:0.670001\tvalidation_1-error:0.196085\n",
      "[457]\tvalidation_0-auc:0.684993\tvalidation_0-error:0.202323\tvalidation_1-auc:0.670026\tvalidation_1-error:0.196085\n",
      "[458]\tvalidation_0-auc:0.685014\tvalidation_0-error:0.202323\tvalidation_1-auc:0.670031\tvalidation_1-error:0.196085\n",
      "[459]\tvalidation_0-auc:0.685057\tvalidation_0-error:0.202337\tvalidation_1-auc:0.670068\tvalidation_1-error:0.196085\n",
      "[460]\tvalidation_0-auc:0.685076\tvalidation_0-error:0.202337\tvalidation_1-auc:0.670083\tvalidation_1-error:0.196085\n",
      "[461]\tvalidation_0-auc:0.685108\tvalidation_0-error:0.202337\tvalidation_1-auc:0.670099\tvalidation_1-error:0.196085\n",
      "[462]\tvalidation_0-auc:0.685127\tvalidation_0-error:0.202337\tvalidation_1-auc:0.670085\tvalidation_1-error:0.196085\n",
      "[463]\tvalidation_0-auc:0.685159\tvalidation_0-error:0.202337\tvalidation_1-auc:0.670095\tvalidation_1-error:0.196085\n",
      "[464]\tvalidation_0-auc:0.685196\tvalidation_0-error:0.202337\tvalidation_1-auc:0.670113\tvalidation_1-error:0.196054\n",
      "[465]\tvalidation_0-auc:0.68522\tvalidation_0-error:0.202296\tvalidation_1-auc:0.670115\tvalidation_1-error:0.196022\n",
      "[466]\tvalidation_0-auc:0.685278\tvalidation_0-error:0.20231\tvalidation_1-auc:0.670179\tvalidation_1-error:0.196022\n",
      "[467]\tvalidation_0-auc:0.685325\tvalidation_0-error:0.202337\tvalidation_1-auc:0.670219\tvalidation_1-error:0.19599\n",
      "[468]\tvalidation_0-auc:0.685345\tvalidation_0-error:0.202323\tvalidation_1-auc:0.670215\tvalidation_1-error:0.19599\n",
      "[469]\tvalidation_0-auc:0.685397\tvalidation_0-error:0.202337\tvalidation_1-auc:0.670272\tvalidation_1-error:0.19599\n",
      "[470]\tvalidation_0-auc:0.685424\tvalidation_0-error:0.202323\tvalidation_1-auc:0.670297\tvalidation_1-error:0.19599\n",
      "[471]\tvalidation_0-auc:0.685443\tvalidation_0-error:0.202337\tvalidation_1-auc:0.670282\tvalidation_1-error:0.19599\n",
      "[472]\tvalidation_0-auc:0.685467\tvalidation_0-error:0.202337\tvalidation_1-auc:0.670292\tvalidation_1-error:0.196022\n",
      "[473]\tvalidation_0-auc:0.685492\tvalidation_0-error:0.20235\tvalidation_1-auc:0.670286\tvalidation_1-error:0.196085\n",
      "[474]\tvalidation_0-auc:0.685509\tvalidation_0-error:0.202323\tvalidation_1-auc:0.6703\tvalidation_1-error:0.196085\n",
      "[475]\tvalidation_0-auc:0.685526\tvalidation_0-error:0.202337\tvalidation_1-auc:0.670299\tvalidation_1-error:0.196085\n",
      "[476]\tvalidation_0-auc:0.685551\tvalidation_0-error:0.202337\tvalidation_1-auc:0.670315\tvalidation_1-error:0.196117\n",
      "[477]\tvalidation_0-auc:0.685589\tvalidation_0-error:0.20235\tvalidation_1-auc:0.670324\tvalidation_1-error:0.196085\n",
      "[478]\tvalidation_0-auc:0.685602\tvalidation_0-error:0.20235\tvalidation_1-auc:0.670318\tvalidation_1-error:0.196085\n",
      "[479]\tvalidation_0-auc:0.685624\tvalidation_0-error:0.202364\tvalidation_1-auc:0.670317\tvalidation_1-error:0.196085\n",
      "[480]\tvalidation_0-auc:0.685645\tvalidation_0-error:0.20235\tvalidation_1-auc:0.670318\tvalidation_1-error:0.196117\n",
      "[481]\tvalidation_0-auc:0.685686\tvalidation_0-error:0.202323\tvalidation_1-auc:0.670335\tvalidation_1-error:0.196117\n",
      "[482]\tvalidation_0-auc:0.68572\tvalidation_0-error:0.20231\tvalidation_1-auc:0.670344\tvalidation_1-error:0.196149\n",
      "[483]\tvalidation_0-auc:0.685764\tvalidation_0-error:0.202323\tvalidation_1-auc:0.670379\tvalidation_1-error:0.196181\n",
      "[484]\tvalidation_0-auc:0.685779\tvalidation_0-error:0.202337\tvalidation_1-auc:0.670387\tvalidation_1-error:0.196181\n",
      "[485]\tvalidation_0-auc:0.685793\tvalidation_0-error:0.20235\tvalidation_1-auc:0.670405\tvalidation_1-error:0.196181\n",
      "[486]\tvalidation_0-auc:0.685822\tvalidation_0-error:0.202337\tvalidation_1-auc:0.670402\tvalidation_1-error:0.196149\n",
      "[487]\tvalidation_0-auc:0.685871\tvalidation_0-error:0.202323\tvalidation_1-auc:0.670456\tvalidation_1-error:0.196181\n",
      "[488]\tvalidation_0-auc:0.68591\tvalidation_0-error:0.202323\tvalidation_1-auc:0.670469\tvalidation_1-error:0.196181\n",
      "[489]\tvalidation_0-auc:0.685925\tvalidation_0-error:0.202323\tvalidation_1-auc:0.67047\tvalidation_1-error:0.196181\n",
      "[490]\tvalidation_0-auc:0.686001\tvalidation_0-error:0.20231\tvalidation_1-auc:0.670559\tvalidation_1-error:0.196149\n",
      "[491]\tvalidation_0-auc:0.686036\tvalidation_0-error:0.20231\tvalidation_1-auc:0.670563\tvalidation_1-error:0.196181\n",
      "[492]\tvalidation_0-auc:0.686044\tvalidation_0-error:0.202296\tvalidation_1-auc:0.67058\tvalidation_1-error:0.196149\n",
      "[493]\tvalidation_0-auc:0.686058\tvalidation_0-error:0.202296\tvalidation_1-auc:0.670574\tvalidation_1-error:0.196149\n",
      "[494]\tvalidation_0-auc:0.686089\tvalidation_0-error:0.202296\tvalidation_1-auc:0.670586\tvalidation_1-error:0.196149\n",
      "[495]\tvalidation_0-auc:0.686129\tvalidation_0-error:0.202296\tvalidation_1-auc:0.670608\tvalidation_1-error:0.196149\n",
      "[496]\tvalidation_0-auc:0.686155\tvalidation_0-error:0.202282\tvalidation_1-auc:0.670598\tvalidation_1-error:0.196181\n",
      "[497]\tvalidation_0-auc:0.686176\tvalidation_0-error:0.202296\tvalidation_1-auc:0.670599\tvalidation_1-error:0.196181\n",
      "[498]\tvalidation_0-auc:0.686216\tvalidation_0-error:0.20231\tvalidation_1-auc:0.670623\tvalidation_1-error:0.196181\n",
      "[499]\tvalidation_0-auc:0.68626\tvalidation_0-error:0.202337\tvalidation_1-auc:0.670647\tvalidation_1-error:0.196181\n",
      "Wall time: 1min 40s\n"
     ]
    },
    {
     "data": {
      "text/plain": [
       "XGBClassifier(base_score=0.5, booster='gbtree', colsample_bylevel=1,\n",
       "       colsample_bytree=1, gamma=1, learning_rate=0.02, max_delta_step=0,\n",
       "       max_depth=3, min_child_weight=1, missing=None, n_estimators=500,\n",
       "       n_jobs=1, nthread=None, objective='binary:logistic', random_state=0,\n",
       "       reg_alpha=0, reg_lambda=1, scale_pos_weight=1, seed=None,\n",
       "       silent=True, subsample=0.8)"
      ]
     },
     "execution_count": 139,
     "metadata": {},
     "output_type": "execute_result"
    }
   ],
   "source": [
    "eval_set = [(X_train_thick_1, Y_train_thick_1), (X_test_thick_1, Y_test_thick_1)]\n",
    "eval_metric = [\"auc\",\"error\"]\n",
    "%time model_xg.fit(X_train_thick_1, Y_train_thick_1, eval_metric=eval_metric, eval_set=eval_set, verbose=True)"
   ]
  },
  {
   "cell_type": "code",
   "execution_count": 156,
   "metadata": {},
   "outputs": [
    {
     "name": "stdout",
     "output_type": "stream",
     "text": [
      "              precision    recall  f1-score   support\n",
      "\n",
      "        Good       0.83      0.88      0.86     25291\n",
      "         Bad       0.36      0.27      0.31      6180\n",
      "\n",
      "   micro avg       0.76      0.76      0.76     31471\n",
      "   macro avg       0.60      0.58      0.58     31471\n",
      "weighted avg       0.74      0.76      0.75     31471\n",
      "\n"
     ]
    }
   ],
   "source": [
    "y_pred = model_xg.predict_proba(X_test_thick_1)\n",
    "thresh = 0.3\n",
    "thresh_pred = (y_pred[:, 1]>thresh).astype(int)\n",
    "print(classification_report(Y_test_thick_1, thresh_pred, target_names=['Good', 'Bad']))"
   ]
  },
  {
   "cell_type": "code",
   "execution_count": 140,
   "metadata": {},
   "outputs": [],
   "source": [
    "y_score = model_xg.predict_proba(X_test_thick_1)\n",
    "y_test = Y_test_thick_1\n",
    "y_score = y_score[:,1]\n",
    "fpr, tpr, _ = roc_curve(y_test, y_score)\n",
    "roc_auc = auc(fpr, tpr)"
   ]
  },
  {
   "cell_type": "code",
   "execution_count": 141,
   "metadata": {},
   "outputs": [
    {
     "data": {
      "image/png": "[encoded data removed]",
      "text/plain": [
       "<Figure size 1440x720 with 1 Axes>"
      ]
     },
     "metadata": {
      "needs_background": "light"
     },
     "output_type": "display_data"
    }
   ],
   "source": [
    "plt.figure(figsize=(20, 10))\n",
    "plt.plot(fpr, tpr, color='darkorange', label='ROC curve (area = %0.2f)' % roc_auc)\n",
    "plt.plot([0, 1], [0, 1], color='navy', lw=2, linestyle='--')\n",
    "plt.xlim([0.0, 1.0])\n",
    "plt.ylim([0.0, 1.05])\n",
    "plt.xlabel('False Positive Rate')\n",
    "plt.ylabel('True Positive Rate')\n",
    "plt.title('Risk Prediction - ROC')\n",
    "plt.legend(loc=\"lower right\")\n",
    "plt.savefig('ROC.png')\n",
    "plt.show()"
   ]
  },
  {
   "cell_type": "markdown",
   "metadata": {},
   "source": [
    "### thin"
   ]
  },
  {
   "cell_type": "code",
   "execution_count": 101,
   "metadata": {
    "scrolled": true
   },
   "outputs": [
    {
     "name": "stdout",
     "output_type": "stream",
     "text": [
      "<class 'pandas.core.frame.DataFrame'>\n",
      "Int64Index: 128251 entries, 94932 to 87620\n",
      "Data columns (total 45 columns):\n",
      "UniqueID                               128251 non-null int64\n",
      "disbursed_amount                       128251 non-null int64\n",
      "asset_cost                             128251 non-null int64\n",
      "ltv                                    128251 non-null float64\n",
      "branch_id                              128251 non-null int64\n",
      "supplier_id                            128251 non-null int64\n",
      "manufacturer_id                        128251 non-null int64\n",
      "Current_pincode_ID                     128251 non-null int64\n",
      "Date.of.Birth                          128251 non-null object\n",
      "Employment.Type                        122776 non-null object\n",
      "DisbursalDate                          128251 non-null object\n",
      "State_ID                               128251 non-null int64\n",
      "Employee_code_ID                       128251 non-null int64\n",
      "MobileNo_Avl_Flag                      128251 non-null int64\n",
      "Aadhar_flag                            128251 non-null int64\n",
      "PAN_flag                               128251 non-null int64\n",
      "VoterID_flag                           128251 non-null int64\n",
      "Driving_flag                           128251 non-null int64\n",
      "Passport_flag                          128251 non-null int64\n",
      "PERFORM_CNS.SCORE                      128251 non-null int64\n",
      "PERFORM_CNS.SCORE.DESCRIPTION          128251 non-null object\n",
      "PRI.NO.OF.ACCTS                        128251 non-null int64\n",
      "PRI.ACTIVE.ACCTS                       128251 non-null int64\n",
      "PRI.OVERDUE.ACCTS                      128251 non-null int64\n",
      "PRI.CURRENT.BALANCE                    128251 non-null int64\n",
      "PRI.SANCTIONED.AMOUNT                  128251 non-null int64\n",
      "PRI.DISBURSED.AMOUNT                   128251 non-null int64\n",
      "SEC.NO.OF.ACCTS                        128251 non-null int64\n",
      "SEC.ACTIVE.ACCTS                       128251 non-null int64\n",
      "SEC.OVERDUE.ACCTS                      128251 non-null int64\n",
      "SEC.CURRENT.BALANCE                    128251 non-null int64\n",
      "SEC.SANCTIONED.AMOUNT                  128251 non-null int64\n",
      "SEC.DISBURSED.AMOUNT                   128251 non-null int64\n",
      "PRIMARY.INSTAL.AMT                     128251 non-null int64\n",
      "SEC.INSTAL.AMT                         128251 non-null int64\n",
      "NEW.ACCTS.IN.LAST.SIX.MONTHS           128251 non-null int64\n",
      "DELINQUENT.ACCTS.IN.LAST.SIX.MONTHS    128251 non-null int64\n",
      "AVERAGE.ACCT.AGE                       128251 non-null object\n",
      "CREDIT.HISTORY.LENGTH                  128251 non-null object\n",
      "NO.OF_INQUIRIES                        128251 non-null int64\n",
      "loan_default                           128251 non-null int64\n",
      "Disbusrsal_year                        128251 non-null object\n",
      "Birth_year                             128251 non-null object\n",
      "Age                                    128251 non-null int32\n",
      "Age_band                               104903 non-null category\n",
      "dtypes: category(1), float64(1), int32(1), int64(34), object(8)\n",
      "memory usage: 43.7+ MB\n"
     ]
    }
   ],
   "source": [
    "train_thin.info()"
   ]
  },
  {
   "cell_type": "code",
   "execution_count": 116,
   "metadata": {},
   "outputs": [],
   "source": [
    "train_thin[\"no_of_id\"]= train_thin[\"Aadhar_flag\"] + train_thin[\"PAN_flag\"] + train_thin[\"VoterID_flag\"] + train_thin[\"Driving_flag\"] + train_thin[\"Passport_flag\"]"
   ]
  },
  {
   "cell_type": "code",
   "execution_count": 123,
   "metadata": {
    "scrolled": true
   },
   "outputs": [
    {
     "data": {
      "text/plain": [
       "0yrs 0mon      0.926800\n",
       "0yrs 1mon      0.014963\n",
       "0yrs 2mon      0.013559\n",
       "0yrs 3mon      0.003244\n",
       "1yrs 0mon      0.001934\n",
       "0yrs 4mon      0.001910\n",
       "0yrs 5mon      0.001692\n",
       "0yrs 6mon      0.001614\n",
       "0yrs 11mon     0.001513\n",
       "0yrs 10mon     0.001388\n",
       "0yrs 7mon      0.001372\n",
       "1yrs 1mon      0.001365\n",
       "0yrs 9mon      0.001357\n",
       "0yrs 8mon      0.001326\n",
       "1yrs 3mon      0.001115\n",
       "1yrs 6mon      0.001107\n",
       "2yrs 0mon      0.001107\n",
       "1yrs 2mon      0.000959\n",
       "1yrs 4mon      0.000920\n",
       "1yrs 7mon      0.000912\n",
       "2yrs 1mon      0.000873\n",
       "1yrs 5mon      0.000834\n",
       "1yrs 11mon     0.000803\n",
       "1yrs 9mon      0.000772\n",
       "1yrs 8mon      0.000710\n",
       "1yrs 10mon     0.000678\n",
       "2yrs 2mon      0.000554\n",
       "3yrs 0mon      0.000522\n",
       "2yrs 3mon      0.000522\n",
       "3yrs 2mon      0.000499\n",
       "                 ...   \n",
       "13yrs 6mon     0.000016\n",
       "9yrs 8mon      0.000016\n",
       "13yrs 0mon     0.000016\n",
       "11yrs 4mon     0.000008\n",
       "18yrs 11mon    0.000008\n",
       "12yrs 4mon     0.000008\n",
       "14yrs 5mon     0.000008\n",
       "17yrs 10mon    0.000008\n",
       "13yrs 1mon     0.000008\n",
       "9yrs 4mon      0.000008\n",
       "13yrs 10mon    0.000008\n",
       "13yrs 11mon    0.000008\n",
       "12yrs 5mon     0.000008\n",
       "14yrs 8mon     0.000008\n",
       "14yrs 11mon    0.000008\n",
       "14yrs 7mon     0.000008\n",
       "14yrs 0mon     0.000008\n",
       "11yrs 8mon     0.000008\n",
       "12yrs 11mon    0.000008\n",
       "8yrs 10mon     0.000008\n",
       "12yrs 6mon     0.000008\n",
       "13yrs 7mon     0.000008\n",
       "9yrs 3mon      0.000008\n",
       "11yrs 11mon    0.000008\n",
       "16yrs 7mon     0.000008\n",
       "12yrs 1mon     0.000008\n",
       "15yrs 2mon     0.000008\n",
       "9yrs 10mon     0.000008\n",
       "15yrs 8mon     0.000008\n",
       "14yrs 3mon     0.000008\n",
       "Name: AVERAGE.ACCT.AGE, Length: 164, dtype: float64"
      ]
     },
     "execution_count": 123,
     "metadata": {},
     "output_type": "execute_result"
    }
   ],
   "source": [
    "train_thin[\"AVERAGE.ACCT.AGE\"].value_counts(normalize = True)"
   ]
  },
  {
   "cell_type": "code",
   "execution_count": 124,
   "metadata": {},
   "outputs": [],
   "source": [
    "\n",
    "X = train_thin[[\n",
    "'ltv',\n",
    "'Employment.Type',\n",
    "'no_of_id',\n",
    "'State_ID',\n",
    "'manufacturer_id',\n",
    "'asset_cost',\n",
    "'disbursed_amount',\n",
    "'NO.OF_INQUIRIES',\n",
    "'Age'\n",
    "]]\n",
    "Y = train_thin[\"loan_default\"]\n"
   ]
  },
  {
   "cell_type": "code",
   "execution_count": 125,
   "metadata": {},
   "outputs": [],
   "source": [
    "X = pd.get_dummies(X)"
   ]
  },
  {
   "cell_type": "code",
   "execution_count": 299,
   "metadata": {},
   "outputs": [
    {
     "data": {
      "text/html": [
       "<div>\n",
       "<style scoped>\n",
       "    .dataframe tbody tr th:only-of-type {\n",
       "        vertical-align: middle;\n",
       "    }\n",
       "\n",
       "    .dataframe tbody tr th {\n",
       "        vertical-align: top;\n",
       "    }\n",
       "\n",
       "    .dataframe thead th {\n",
       "        text-align: right;\n",
       "    }\n",
       "</style>\n",
       "<table border=\"1\" class=\"dataframe\">\n",
       "  <thead>\n",
       "    <tr style=\"text-align: right;\">\n",
       "      <th></th>\n",
       "      <th>disbursed_amount</th>\n",
       "      <th>asset_cost</th>\n",
       "      <th>ltv</th>\n",
       "      <th>Aadhar_flag</th>\n",
       "      <th>PAN_flag</th>\n",
       "      <th>VoterID_flag</th>\n",
       "      <th>Driving_flag</th>\n",
       "      <th>Passport_flag</th>\n",
       "      <th>SEC.NO.OF.ACCTS</th>\n",
       "      <th>SEC.ACTIVE.ACCTS</th>\n",
       "      <th>SEC.OVERDUE.ACCTS</th>\n",
       "      <th>SEC.CURRENT.BALANCE</th>\n",
       "      <th>SEC.SANCTIONED.AMOUNT</th>\n",
       "      <th>SEC.DISBURSED.AMOUNT</th>\n",
       "      <th>PRIMARY.INSTAL.AMT</th>\n",
       "      <th>SEC.INSTAL.AMT</th>\n",
       "      <th>NO.OF_INQUIRIES</th>\n",
       "      <th>Age</th>\n",
       "      <th>Employment.Type_Salaried</th>\n",
       "      <th>Employment.Type_Self employed</th>\n",
       "    </tr>\n",
       "  </thead>\n",
       "  <tbody>\n",
       "    <tr>\n",
       "      <th>94932</th>\n",
       "      <td>70817</td>\n",
       "      <td>101762</td>\n",
       "      <td>71.74</td>\n",
       "      <td>0</td>\n",
       "      <td>0</td>\n",
       "      <td>1</td>\n",
       "      <td>0</td>\n",
       "      <td>0</td>\n",
       "      <td>0</td>\n",
       "      <td>0</td>\n",
       "      <td>0</td>\n",
       "      <td>0</td>\n",
       "      <td>0</td>\n",
       "      <td>0</td>\n",
       "      <td>0</td>\n",
       "      <td>0</td>\n",
       "      <td>0</td>\n",
       "      <td>19</td>\n",
       "      <td>0</td>\n",
       "      <td>0</td>\n",
       "    </tr>\n",
       "    <tr>\n",
       "      <th>125580</th>\n",
       "      <td>52078</td>\n",
       "      <td>74316</td>\n",
       "      <td>72.66</td>\n",
       "      <td>1</td>\n",
       "      <td>0</td>\n",
       "      <td>0</td>\n",
       "      <td>0</td>\n",
       "      <td>0</td>\n",
       "      <td>0</td>\n",
       "      <td>0</td>\n",
       "      <td>0</td>\n",
       "      <td>0</td>\n",
       "      <td>0</td>\n",
       "      <td>0</td>\n",
       "      <td>0</td>\n",
       "      <td>0</td>\n",
       "      <td>0</td>\n",
       "      <td>19</td>\n",
       "      <td>0</td>\n",
       "      <td>0</td>\n",
       "    </tr>\n",
       "    <tr>\n",
       "      <th>26617</th>\n",
       "      <td>56259</td>\n",
       "      <td>68386</td>\n",
       "      <td>84.81</td>\n",
       "      <td>1</td>\n",
       "      <td>0</td>\n",
       "      <td>0</td>\n",
       "      <td>0</td>\n",
       "      <td>0</td>\n",
       "      <td>0</td>\n",
       "      <td>0</td>\n",
       "      <td>0</td>\n",
       "      <td>0</td>\n",
       "      <td>0</td>\n",
       "      <td>0</td>\n",
       "      <td>0</td>\n",
       "      <td>0</td>\n",
       "      <td>0</td>\n",
       "      <td>19</td>\n",
       "      <td>0</td>\n",
       "      <td>0</td>\n",
       "    </tr>\n",
       "    <tr>\n",
       "      <th>88575</th>\n",
       "      <td>71817</td>\n",
       "      <td>106280</td>\n",
       "      <td>69.63</td>\n",
       "      <td>1</td>\n",
       "      <td>0</td>\n",
       "      <td>0</td>\n",
       "      <td>0</td>\n",
       "      <td>0</td>\n",
       "      <td>0</td>\n",
       "      <td>0</td>\n",
       "      <td>0</td>\n",
       "      <td>0</td>\n",
       "      <td>0</td>\n",
       "      <td>0</td>\n",
       "      <td>0</td>\n",
       "      <td>0</td>\n",
       "      <td>1</td>\n",
       "      <td>19</td>\n",
       "      <td>0</td>\n",
       "      <td>0</td>\n",
       "    </tr>\n",
       "    <tr>\n",
       "      <th>4621</th>\n",
       "      <td>47718</td>\n",
       "      <td>62600</td>\n",
       "      <td>83.07</td>\n",
       "      <td>1</td>\n",
       "      <td>0</td>\n",
       "      <td>0</td>\n",
       "      <td>0</td>\n",
       "      <td>0</td>\n",
       "      <td>0</td>\n",
       "      <td>0</td>\n",
       "      <td>0</td>\n",
       "      <td>0</td>\n",
       "      <td>0</td>\n",
       "      <td>0</td>\n",
       "      <td>0</td>\n",
       "      <td>0</td>\n",
       "      <td>0</td>\n",
       "      <td>19</td>\n",
       "      <td>0</td>\n",
       "      <td>0</td>\n",
       "    </tr>\n",
       "  </tbody>\n",
       "</table>\n",
       "</div>"
      ],
      "text/plain": [
       "        disbursed_amount  asset_cost    ltv  Aadhar_flag  PAN_flag  \\\n",
       "94932              70817      101762  71.74            0         0   \n",
       "125580             52078       74316  72.66            1         0   \n",
       "26617              56259       68386  84.81            1         0   \n",
       "88575              71817      106280  69.63            1         0   \n",
       "4621               47718       62600  83.07            1         0   \n",
       "\n",
       "        VoterID_flag  Driving_flag  Passport_flag  SEC.NO.OF.ACCTS  \\\n",
       "94932              1             0              0                0   \n",
       "125580             0             0              0                0   \n",
       "26617              0             0              0                0   \n",
       "88575              0             0              0                0   \n",
       "4621               0             0              0                0   \n",
       "\n",
       "        SEC.ACTIVE.ACCTS  SEC.OVERDUE.ACCTS  SEC.CURRENT.BALANCE  \\\n",
       "94932                  0                  0                    0   \n",
       "125580                 0                  0                    0   \n",
       "26617                  0                  0                    0   \n",
       "88575                  0                  0                    0   \n",
       "4621                   0                  0                    0   \n",
       "\n",
       "        SEC.SANCTIONED.AMOUNT  SEC.DISBURSED.AMOUNT  PRIMARY.INSTAL.AMT  \\\n",
       "94932                       0                     0                   0   \n",
       "125580                      0                     0                   0   \n",
       "26617                       0                     0                   0   \n",
       "88575                       0                     0                   0   \n",
       "4621                        0                     0                   0   \n",
       "\n",
       "        SEC.INSTAL.AMT  NO.OF_INQUIRIES  Age  Employment.Type_Salaried  \\\n",
       "94932                0                0   19                         0   \n",
       "125580               0                0   19                         0   \n",
       "26617                0                0   19                         0   \n",
       "88575                0                1   19                         0   \n",
       "4621                 0                0   19                         0   \n",
       "\n",
       "        Employment.Type_Self employed  \n",
       "94932                               0  \n",
       "125580                              0  \n",
       "26617                               0  \n",
       "88575                               0  \n",
       "4621                                0  "
      ]
     },
     "execution_count": 299,
     "metadata": {},
     "output_type": "execute_result"
    }
   ],
   "source": [
    "X.head(5)\n"
   ]
  },
  {
   "cell_type": "code",
   "execution_count": 126,
   "metadata": {},
   "outputs": [],
   "source": [
    "X_train_thin ,X_test_thin, Y_train_thin, Y_test_thin = train_test_split(X,Y,test_size= 0.2,random_state = 123)\n"
   ]
  },
  {
   "cell_type": "code",
   "execution_count": 127,
   "metadata": {},
   "outputs": [
    {
     "name": "stdout",
     "output_type": "stream",
     "text": [
      "(102600, 10)\n",
      "(25651, 10)\n",
      "(102600,)\n",
      "(25651,)\n"
     ]
    }
   ],
   "source": [
    "print(X_train_thin.shape)\n",
    "print(X_test_thin.shape)\n",
    "print(Y_train_thin.shape)\n",
    "print(Y_test_thin.shape)\n"
   ]
  },
  {
   "cell_type": "markdown",
   "metadata": {},
   "source": [
    "##  Random Forest"
   ]
  },
  {
   "cell_type": "code",
   "execution_count": 333,
   "metadata": {},
   "outputs": [
    {
     "name": "stderr",
     "output_type": "stream",
     "text": [
      "[Parallel(n_jobs=-1)]: Done  34 tasks      | elapsed:    1.7s\n",
      "[Parallel(n_jobs=-1)]: Done 100 out of 100 | elapsed:    4.6s finished\n"
     ]
    },
    {
     "data": {
      "text/plain": [
       "RandomForestClassifier(bootstrap=True, class_weight=None, criterion='gini',\n",
       "            max_depth=None, max_features='auto', max_leaf_nodes=None,\n",
       "            min_impurity_decrease=0.0, min_impurity_split=None,\n",
       "            min_samples_leaf=1, min_samples_split=2,\n",
       "            min_weight_fraction_leaf=0.0, n_estimators=100, n_jobs=-1,\n",
       "            oob_score=False, random_state=None, verbose=True,\n",
       "            warm_start=False)"
      ]
     },
     "execution_count": 333,
     "metadata": {},
     "output_type": "execute_result"
    }
   ],
   "source": [
    "model_thin = RandomForestClassifier(n_estimators=100, n_jobs=-1,verbose = True)\n",
    "## Building simple model , further parameter tuning can also be done based on cross validation\n",
    "## Depth of the tree & number of trees can tuned to control overfitting\n",
    "model_thin.fit(X_train_thin, Y_train_thin)\n",
    "\n"
   ]
  },
  {
   "cell_type": "code",
   "execution_count": 368,
   "metadata": {},
   "outputs": [
    {
     "name": "stderr",
     "output_type": "stream",
     "text": [
      "[Parallel(n_jobs=8)]: Done  34 tasks      | elapsed:    0.0s\n",
      "[Parallel(n_jobs=8)]: Done 100 out of 100 | elapsed:    0.2s finished\n"
     ]
    },
    {
     "data": {
      "text/plain": [
       "0.7524852832248256"
      ]
     },
     "execution_count": 368,
     "metadata": {},
     "output_type": "execute_result"
    }
   ],
   "source": [
    "model_thin.score(X_test_thin, Y_test_thin)\n"
   ]
  },
  {
   "cell_type": "code",
   "execution_count": null,
   "metadata": {},
   "outputs": [],
   "source": [
    "y_class = pd.DataFrame(model_thin.predict(X_test_thin))\n"
   ]
  },
  {
   "cell_type": "code",
   "execution_count": 335,
   "metadata": {},
   "outputs": [
    {
     "name": "stderr",
     "output_type": "stream",
     "text": [
      "[Parallel(n_jobs=8)]: Done  34 tasks      | elapsed:    0.0s\n",
      "[Parallel(n_jobs=8)]: Done 100 out of 100 | elapsed:    0.2s finished\n"
     ]
    },
    {
     "name": "stdout",
     "output_type": "stream",
     "text": [
      "             precision    recall  f1-score   support\n",
      "\n",
      "       Good       0.81      0.35      0.48     19782\n",
      "        Bad       0.25      0.73      0.37      5869\n",
      "\n",
      "avg / total       0.68      0.43      0.46     25651\n",
      "\n"
     ]
    }
   ],
   "source": [
    "\n",
    "y_pred = model_thin.predict_proba(X_test_thin)\n",
    "thresh = 0.15\n",
    "thresh_pred = (y_pred[:, 1]>thresh).astype(int)\n",
    "print(classification_report(Y_test_thin, thresh_pred, target_names=['Good', 'Bad']))\n"
   ]
  },
  {
   "cell_type": "code",
   "execution_count": 336,
   "metadata": {},
   "outputs": [
    {
     "name": "stdout",
     "output_type": "stream",
     "text": [
      "                                    imp                              y\n",
      "SEC.OVERDUE.ACCTS              0.000508              SEC.OVERDUE.ACCTS\n",
      "Passport_flag                  0.000556                  Passport_flag\n",
      "SEC.ACTIVE.ACCTS               0.000678               SEC.ACTIVE.ACCTS\n",
      "SEC.INSTAL.AMT                 0.001024                 SEC.INSTAL.AMT\n",
      "SEC.CURRENT.BALANCE            0.001137            SEC.CURRENT.BALANCE\n",
      "SEC.DISBURSED.AMOUNT           0.001242           SEC.DISBURSED.AMOUNT\n",
      "SEC.SANCTIONED.AMOUNT          0.001294          SEC.SANCTIONED.AMOUNT\n",
      "SEC.NO.OF.ACCTS                0.002102                SEC.NO.OF.ACCTS\n",
      "Driving_flag                   0.002808                   Driving_flag\n",
      "Aadhar_flag                    0.004047                    Aadhar_flag\n",
      "VoterID_flag                   0.004058                   VoterID_flag\n",
      "Employment.Type_Self employed  0.005167  Employment.Type_Self employed\n",
      "Employment.Type_Salaried       0.005283       Employment.Type_Salaried\n",
      "PAN_flag                       0.007543                       PAN_flag\n",
      "NO.OF_INQUIRIES                0.011921                NO.OF_INQUIRIES\n",
      "PRIMARY.INSTAL.AMT             0.015468             PRIMARY.INSTAL.AMT\n",
      "Age                            0.145419                            Age\n",
      "disbursed_amount               0.250812               disbursed_amount\n",
      "asset_cost                     0.269245                     asset_cost\n",
      "ltv                            0.269689                            ltv\n"
     ]
    }
   ],
   "source": [
    "\n",
    "imp = pd.DataFrame([model_thin.feature_importances_]).T\n",
    "imp.index = pd.DataFrame(X_train_thin).columns\n",
    "imp.columns = ['imp']\n",
    "imp = imp.sort_values('imp')\n",
    "imp['y'] = imp.index\n",
    "print(imp)"
   ]
  },
  {
   "cell_type": "code",
   "execution_count": 310,
   "metadata": {},
   "outputs": [
    {
     "data": {
      "text/plain": [
       "<matplotlib.axes._subplots.AxesSubplot at 0x22711770470>"
      ]
     },
     "execution_count": 310,
     "metadata": {},
     "output_type": "execute_result"
    },
    {
     "data": {
      "image/png": "[encoded data removed]",
      "text/plain": [
       "<Figure size 3600x2880 with 1 Axes>"
      ]
     },
     "metadata": {},
     "output_type": "display_data"
    }
   ],
   "source": [
    "feat_importances = pd.Series(model.feature_importances_, index=X_train_thin.columns)\n",
    "plt.figure(figsize=(50,40))\n",
    "feat_importances.sort_values(ascending=False).plot(kind='barh')"
   ]
  },
  {
   "cell_type": "code",
   "execution_count": 337,
   "metadata": {},
   "outputs": [
    {
     "name": "stderr",
     "output_type": "stream",
     "text": [
      "[Parallel(n_jobs=8)]: Done  34 tasks      | elapsed:    0.0s\n",
      "[Parallel(n_jobs=8)]: Done 100 out of 100 | elapsed:    0.1s finished\n"
     ]
    }
   ],
   "source": [
    "\n",
    "y_score = model_thin.predict_proba(X_test_thin)\n",
    "y_test = Y_test_thin\n",
    "y_score = y_score[:,1]\n",
    "fpr, tpr, _ = roc_curve(y_test, y_score)\n",
    "roc_auc = auc(fpr, tpr)\n"
   ]
  },
  {
   "cell_type": "code",
   "execution_count": 313,
   "metadata": {},
   "outputs": [
    {
     "data": {
      "image/png": "[encoded data removed]",
      "text/plain": [
       "<Figure size 1440x720 with 1 Axes>"
      ]
     },
     "metadata": {},
     "output_type": "display_data"
    }
   ],
   "source": [
    "plt.figure(figsize=(20, 10))\n",
    "plt.plot(fpr, tpr, color='darkorange', label='ROC curve (area = %0.2f)' % roc_auc)\n",
    "plt.plot([0, 1], [0, 1], color='navy', lw=2, linestyle='--')\n",
    "plt.xlim([0.0, 1.0])\n",
    "plt.ylim([0.0, 1.05])\n",
    "plt.xlabel('False Positive Rate')\n",
    "plt.ylabel('True Positive Rate')\n",
    "plt.title('Risk Prediction - ROC')\n",
    "plt.legend(loc=\"lower right\")\n",
    "plt.savefig('ROC.png')\n",
    "plt.show()"
   ]
  },
  {
   "cell_type": "markdown",
   "metadata": {},
   "source": [
    "## XGBoost "
   ]
  },
  {
   "cell_type": "code",
   "execution_count": 132,
   "metadata": {},
   "outputs": [
    {
     "data": {
      "text/plain": [
       "XGBClassifier(base_score=0.5, booster='gbtree', colsample_bylevel=1,\n",
       "       colsample_bytree=1, gamma=1, learning_rate=0.01, max_delta_step=0,\n",
       "       max_depth=3, min_child_weight=1, missing=None, n_estimators=500,\n",
       "       n_jobs=1, nthread=None, objective='binary:logistic', random_state=0,\n",
       "       reg_alpha=0, reg_lambda=1, scale_pos_weight=1, seed=None,\n",
       "       silent=True, subsample=0.8)"
      ]
     },
     "execution_count": 132,
     "metadata": {},
     "output_type": "execute_result"
    }
   ],
   "source": [
    "model_xg_thin = XGBClassifier(learning_rate = 0.01, n_estimators = 500,max_depth = 3, subsample = 0.8, gamma = 1)\n",
    "model_xg_thin.fit(X_train_thin, Y_train_thin)"
   ]
  },
  {
   "cell_type": "code",
   "execution_count": 133,
   "metadata": {},
   "outputs": [
    {
     "name": "stdout",
     "output_type": "stream",
     "text": [
      "Accuracy: 77.12%\n"
     ]
    }
   ],
   "source": [
    "y_pred_xg = model_xg_thin.predict(X_test_thin)\n",
    "predictions = [round(value) for value in y_pred_xg]\n",
    "# evaluate predictions\n",
    "accuracy = accuracy_score(Y_test_thin, predictions)\n",
    "print(\"Accuracy: %.2f%%\" % (accuracy * 100.0))"
   ]
  },
  {
   "cell_type": "markdown",
   "metadata": {},
   "source": [
    "## Tuning XGB "
   ]
  },
  {
   "cell_type": "code",
   "execution_count": 134,
   "metadata": {
    "scrolled": true
   },
   "outputs": [
    {
     "name": "stdout",
     "output_type": "stream",
     "text": [
      "[0]\tvalidation_0-auc:0.600834\tvalidation_0-error:0.230546\tvalidation_1-auc:0.604218\tvalidation_1-error:0.228802\n",
      "[1]\tvalidation_0-auc:0.601207\tvalidation_0-error:0.230546\tvalidation_1-auc:0.604749\tvalidation_1-error:0.228802\n",
      "[2]\tvalidation_0-auc:0.603473\tvalidation_0-error:0.230546\tvalidation_1-auc:0.609143\tvalidation_1-error:0.228802\n",
      "[3]\tvalidation_0-auc:0.603828\tvalidation_0-error:0.230546\tvalidation_1-auc:0.60968\tvalidation_1-error:0.228802\n",
      "[4]\tvalidation_0-auc:0.605695\tvalidation_0-error:0.230546\tvalidation_1-auc:0.611666\tvalidation_1-error:0.228802\n",
      "[5]\tvalidation_0-auc:0.605566\tvalidation_0-error:0.230546\tvalidation_1-auc:0.611424\tvalidation_1-error:0.228802\n",
      "[6]\tvalidation_0-auc:0.605137\tvalidation_0-error:0.230546\tvalidation_1-auc:0.611023\tvalidation_1-error:0.228802\n",
      "[7]\tvalidation_0-auc:0.605123\tvalidation_0-error:0.230546\tvalidation_1-auc:0.611041\tvalidation_1-error:0.228802\n",
      "[8]\tvalidation_0-auc:0.605223\tvalidation_0-error:0.230546\tvalidation_1-auc:0.611142\tvalidation_1-error:0.228802\n",
      "[9]\tvalidation_0-auc:0.606546\tvalidation_0-error:0.230546\tvalidation_1-auc:0.612392\tvalidation_1-error:0.228802\n",
      "[10]\tvalidation_0-auc:0.607343\tvalidation_0-error:0.230546\tvalidation_1-auc:0.61369\tvalidation_1-error:0.228802\n",
      "[11]\tvalidation_0-auc:0.607299\tvalidation_0-error:0.230546\tvalidation_1-auc:0.613635\tvalidation_1-error:0.228802\n",
      "[12]\tvalidation_0-auc:0.60695\tvalidation_0-error:0.230546\tvalidation_1-auc:0.613502\tvalidation_1-error:0.228802\n",
      "[13]\tvalidation_0-auc:0.606926\tvalidation_0-error:0.230546\tvalidation_1-auc:0.613512\tvalidation_1-error:0.228802\n",
      "[14]\tvalidation_0-auc:0.606818\tvalidation_0-error:0.230546\tvalidation_1-auc:0.613253\tvalidation_1-error:0.228802\n",
      "[15]\tvalidation_0-auc:0.607149\tvalidation_0-error:0.230546\tvalidation_1-auc:0.613579\tvalidation_1-error:0.228802\n",
      "[16]\tvalidation_0-auc:0.607162\tvalidation_0-error:0.230546\tvalidation_1-auc:0.613553\tvalidation_1-error:0.228802\n",
      "[17]\tvalidation_0-auc:0.607478\tvalidation_0-error:0.230546\tvalidation_1-auc:0.613481\tvalidation_1-error:0.228802\n",
      "[18]\tvalidation_0-auc:0.607144\tvalidation_0-error:0.230546\tvalidation_1-auc:0.613547\tvalidation_1-error:0.228802\n",
      "[19]\tvalidation_0-auc:0.607935\tvalidation_0-error:0.230546\tvalidation_1-auc:0.614142\tvalidation_1-error:0.228802\n",
      "[20]\tvalidation_0-auc:0.607938\tvalidation_0-error:0.230546\tvalidation_1-auc:0.6141\tvalidation_1-error:0.228802\n",
      "[21]\tvalidation_0-auc:0.608158\tvalidation_0-error:0.230546\tvalidation_1-auc:0.614304\tvalidation_1-error:0.228802\n",
      "[22]\tvalidation_0-auc:0.608537\tvalidation_0-error:0.230546\tvalidation_1-auc:0.614607\tvalidation_1-error:0.228802\n",
      "[23]\tvalidation_0-auc:0.608562\tvalidation_0-error:0.230546\tvalidation_1-auc:0.614577\tvalidation_1-error:0.228802\n",
      "[24]\tvalidation_0-auc:0.608848\tvalidation_0-error:0.230546\tvalidation_1-auc:0.614934\tvalidation_1-error:0.228802\n",
      "[25]\tvalidation_0-auc:0.609409\tvalidation_0-error:0.230546\tvalidation_1-auc:0.615569\tvalidation_1-error:0.228802\n",
      "[26]\tvalidation_0-auc:0.609572\tvalidation_0-error:0.230546\tvalidation_1-auc:0.61546\tvalidation_1-error:0.228802\n",
      "[27]\tvalidation_0-auc:0.609493\tvalidation_0-error:0.230546\tvalidation_1-auc:0.615421\tvalidation_1-error:0.228802\n",
      "[28]\tvalidation_0-auc:0.609295\tvalidation_0-error:0.230546\tvalidation_1-auc:0.615127\tvalidation_1-error:0.228802\n",
      "[29]\tvalidation_0-auc:0.609651\tvalidation_0-error:0.230546\tvalidation_1-auc:0.615344\tvalidation_1-error:0.228802\n",
      "[30]\tvalidation_0-auc:0.60995\tvalidation_0-error:0.230546\tvalidation_1-auc:0.615615\tvalidation_1-error:0.228802\n",
      "[31]\tvalidation_0-auc:0.609851\tvalidation_0-error:0.230546\tvalidation_1-auc:0.615514\tvalidation_1-error:0.228802\n",
      "[32]\tvalidation_0-auc:0.610243\tvalidation_0-error:0.230546\tvalidation_1-auc:0.615967\tvalidation_1-error:0.228802\n",
      "[33]\tvalidation_0-auc:0.610228\tvalidation_0-error:0.230546\tvalidation_1-auc:0.615919\tvalidation_1-error:0.228802\n",
      "[34]\tvalidation_0-auc:0.610144\tvalidation_0-error:0.230546\tvalidation_1-auc:0.615975\tvalidation_1-error:0.228802\n",
      "[35]\tvalidation_0-auc:0.610469\tvalidation_0-error:0.230546\tvalidation_1-auc:0.615918\tvalidation_1-error:0.228802\n",
      "[36]\tvalidation_0-auc:0.610496\tvalidation_0-error:0.230546\tvalidation_1-auc:0.616007\tvalidation_1-error:0.228802\n",
      "[37]\tvalidation_0-auc:0.610285\tvalidation_0-error:0.230546\tvalidation_1-auc:0.615975\tvalidation_1-error:0.228802\n",
      "[38]\tvalidation_0-auc:0.610321\tvalidation_0-error:0.230546\tvalidation_1-auc:0.615922\tvalidation_1-error:0.228802\n",
      "[39]\tvalidation_0-auc:0.610413\tvalidation_0-error:0.230546\tvalidation_1-auc:0.615827\tvalidation_1-error:0.228802\n",
      "[40]\tvalidation_0-auc:0.610634\tvalidation_0-error:0.230546\tvalidation_1-auc:0.616002\tvalidation_1-error:0.228802\n",
      "[41]\tvalidation_0-auc:0.610497\tvalidation_0-error:0.230546\tvalidation_1-auc:0.616002\tvalidation_1-error:0.228802\n",
      "[42]\tvalidation_0-auc:0.611071\tvalidation_0-error:0.230546\tvalidation_1-auc:0.616314\tvalidation_1-error:0.228802\n",
      "[43]\tvalidation_0-auc:0.611137\tvalidation_0-error:0.230546\tvalidation_1-auc:0.616347\tvalidation_1-error:0.228802\n",
      "[44]\tvalidation_0-auc:0.611027\tvalidation_0-error:0.230546\tvalidation_1-auc:0.616324\tvalidation_1-error:0.228802\n",
      "[45]\tvalidation_0-auc:0.611087\tvalidation_0-error:0.230546\tvalidation_1-auc:0.616432\tvalidation_1-error:0.228802\n",
      "[46]\tvalidation_0-auc:0.611257\tvalidation_0-error:0.230546\tvalidation_1-auc:0.616608\tvalidation_1-error:0.228802\n",
      "[47]\tvalidation_0-auc:0.611313\tvalidation_0-error:0.230546\tvalidation_1-auc:0.616677\tvalidation_1-error:0.228802\n",
      "[48]\tvalidation_0-auc:0.611383\tvalidation_0-error:0.230546\tvalidation_1-auc:0.616801\tvalidation_1-error:0.228802\n",
      "[49]\tvalidation_0-auc:0.611366\tvalidation_0-error:0.230546\tvalidation_1-auc:0.616929\tvalidation_1-error:0.228802\n",
      "[50]\tvalidation_0-auc:0.611466\tvalidation_0-error:0.230546\tvalidation_1-auc:0.616965\tvalidation_1-error:0.228802\n",
      "[51]\tvalidation_0-auc:0.611476\tvalidation_0-error:0.230546\tvalidation_1-auc:0.617006\tvalidation_1-error:0.228802\n",
      "[52]\tvalidation_0-auc:0.611501\tvalidation_0-error:0.230546\tvalidation_1-auc:0.617024\tvalidation_1-error:0.228802\n",
      "[53]\tvalidation_0-auc:0.61146\tvalidation_0-error:0.230546\tvalidation_1-auc:0.617105\tvalidation_1-error:0.228802\n",
      "[54]\tvalidation_0-auc:0.611487\tvalidation_0-error:0.230546\tvalidation_1-auc:0.617019\tvalidation_1-error:0.228802\n",
      "[55]\tvalidation_0-auc:0.611492\tvalidation_0-error:0.230546\tvalidation_1-auc:0.617021\tvalidation_1-error:0.228802\n",
      "[56]\tvalidation_0-auc:0.611423\tvalidation_0-error:0.230546\tvalidation_1-auc:0.616969\tvalidation_1-error:0.228802\n",
      "[57]\tvalidation_0-auc:0.611779\tvalidation_0-error:0.230546\tvalidation_1-auc:0.617306\tvalidation_1-error:0.228802\n",
      "[58]\tvalidation_0-auc:0.611772\tvalidation_0-error:0.230546\tvalidation_1-auc:0.617371\tvalidation_1-error:0.228802\n",
      "[59]\tvalidation_0-auc:0.611753\tvalidation_0-error:0.230546\tvalidation_1-auc:0.617287\tvalidation_1-error:0.228802\n",
      "[60]\tvalidation_0-auc:0.611888\tvalidation_0-error:0.230546\tvalidation_1-auc:0.617438\tvalidation_1-error:0.228802\n",
      "[61]\tvalidation_0-auc:0.611885\tvalidation_0-error:0.230546\tvalidation_1-auc:0.617506\tvalidation_1-error:0.228802\n",
      "[62]\tvalidation_0-auc:0.611945\tvalidation_0-error:0.230546\tvalidation_1-auc:0.617563\tvalidation_1-error:0.228802\n",
      "[63]\tvalidation_0-auc:0.61206\tvalidation_0-error:0.230546\tvalidation_1-auc:0.617671\tvalidation_1-error:0.228802\n",
      "[64]\tvalidation_0-auc:0.612018\tvalidation_0-error:0.230546\tvalidation_1-auc:0.617548\tvalidation_1-error:0.228802\n",
      "[65]\tvalidation_0-auc:0.61213\tvalidation_0-error:0.230546\tvalidation_1-auc:0.617705\tvalidation_1-error:0.228802\n",
      "[66]\tvalidation_0-auc:0.612352\tvalidation_0-error:0.230546\tvalidation_1-auc:0.617921\tvalidation_1-error:0.228802\n",
      "[67]\tvalidation_0-auc:0.612284\tvalidation_0-error:0.230546\tvalidation_1-auc:0.617818\tvalidation_1-error:0.228802\n",
      "[68]\tvalidation_0-auc:0.612401\tvalidation_0-error:0.230546\tvalidation_1-auc:0.618044\tvalidation_1-error:0.228802\n",
      "[69]\tvalidation_0-auc:0.612535\tvalidation_0-error:0.230546\tvalidation_1-auc:0.618159\tvalidation_1-error:0.228802\n",
      "[70]\tvalidation_0-auc:0.612608\tvalidation_0-error:0.230546\tvalidation_1-auc:0.618243\tvalidation_1-error:0.228802\n",
      "[71]\tvalidation_0-auc:0.612588\tvalidation_0-error:0.230546\tvalidation_1-auc:0.618285\tvalidation_1-error:0.228802\n",
      "[72]\tvalidation_0-auc:0.612728\tvalidation_0-error:0.230546\tvalidation_1-auc:0.618346\tvalidation_1-error:0.228802\n"
     ]
    },
    {
     "name": "stdout",
     "output_type": "stream",
     "text": [
      "[73]\tvalidation_0-auc:0.612686\tvalidation_0-error:0.230546\tvalidation_1-auc:0.618395\tvalidation_1-error:0.228802\n",
      "[74]\tvalidation_0-auc:0.612674\tvalidation_0-error:0.230546\tvalidation_1-auc:0.618359\tvalidation_1-error:0.228802\n",
      "[75]\tvalidation_0-auc:0.612688\tvalidation_0-error:0.230546\tvalidation_1-auc:0.618417\tvalidation_1-error:0.228802\n",
      "[76]\tvalidation_0-auc:0.612776\tvalidation_0-error:0.230546\tvalidation_1-auc:0.618489\tvalidation_1-error:0.228802\n",
      "[77]\tvalidation_0-auc:0.612828\tvalidation_0-error:0.230546\tvalidation_1-auc:0.618467\tvalidation_1-error:0.228802\n",
      "[78]\tvalidation_0-auc:0.612842\tvalidation_0-error:0.230546\tvalidation_1-auc:0.61845\tvalidation_1-error:0.228802\n",
      "[79]\tvalidation_0-auc:0.612878\tvalidation_0-error:0.230546\tvalidation_1-auc:0.618523\tvalidation_1-error:0.228802\n",
      "[80]\tvalidation_0-auc:0.612998\tvalidation_0-error:0.230546\tvalidation_1-auc:0.618571\tvalidation_1-error:0.228802\n",
      "[81]\tvalidation_0-auc:0.613158\tvalidation_0-error:0.230546\tvalidation_1-auc:0.618697\tvalidation_1-error:0.228802\n",
      "[82]\tvalidation_0-auc:0.613432\tvalidation_0-error:0.230546\tvalidation_1-auc:0.618892\tvalidation_1-error:0.228802\n",
      "[83]\tvalidation_0-auc:0.613486\tvalidation_0-error:0.230546\tvalidation_1-auc:0.618999\tvalidation_1-error:0.228802\n",
      "[84]\tvalidation_0-auc:0.613486\tvalidation_0-error:0.230546\tvalidation_1-auc:0.619043\tvalidation_1-error:0.228802\n",
      "[85]\tvalidation_0-auc:0.613616\tvalidation_0-error:0.230546\tvalidation_1-auc:0.619229\tvalidation_1-error:0.228802\n",
      "[86]\tvalidation_0-auc:0.613672\tvalidation_0-error:0.230546\tvalidation_1-auc:0.619263\tvalidation_1-error:0.228802\n",
      "[87]\tvalidation_0-auc:0.613811\tvalidation_0-error:0.230546\tvalidation_1-auc:0.619384\tvalidation_1-error:0.228802\n",
      "[88]\tvalidation_0-auc:0.613785\tvalidation_0-error:0.230546\tvalidation_1-auc:0.619515\tvalidation_1-error:0.228802\n",
      "[89]\tvalidation_0-auc:0.613797\tvalidation_0-error:0.230546\tvalidation_1-auc:0.619621\tvalidation_1-error:0.228802\n",
      "[90]\tvalidation_0-auc:0.61379\tvalidation_0-error:0.230546\tvalidation_1-auc:0.619652\tvalidation_1-error:0.228802\n",
      "[91]\tvalidation_0-auc:0.613805\tvalidation_0-error:0.230546\tvalidation_1-auc:0.619693\tvalidation_1-error:0.228802\n",
      "[92]\tvalidation_0-auc:0.614002\tvalidation_0-error:0.230546\tvalidation_1-auc:0.619865\tvalidation_1-error:0.228802\n",
      "[93]\tvalidation_0-auc:0.614034\tvalidation_0-error:0.230546\tvalidation_1-auc:0.619834\tvalidation_1-error:0.228802\n",
      "[94]\tvalidation_0-auc:0.61407\tvalidation_0-error:0.230546\tvalidation_1-auc:0.619842\tvalidation_1-error:0.228802\n",
      "[95]\tvalidation_0-auc:0.614148\tvalidation_0-error:0.230546\tvalidation_1-auc:0.619839\tvalidation_1-error:0.228802\n",
      "[96]\tvalidation_0-auc:0.614123\tvalidation_0-error:0.230546\tvalidation_1-auc:0.619872\tvalidation_1-error:0.228802\n",
      "[97]\tvalidation_0-auc:0.614174\tvalidation_0-error:0.230546\tvalidation_1-auc:0.619896\tvalidation_1-error:0.228802\n",
      "[98]\tvalidation_0-auc:0.614155\tvalidation_0-error:0.230546\tvalidation_1-auc:0.619947\tvalidation_1-error:0.228802\n",
      "[99]\tvalidation_0-auc:0.614224\tvalidation_0-error:0.230546\tvalidation_1-auc:0.619906\tvalidation_1-error:0.228802\n",
      "[100]\tvalidation_0-auc:0.61421\tvalidation_0-error:0.230546\tvalidation_1-auc:0.61991\tvalidation_1-error:0.228802\n",
      "[101]\tvalidation_0-auc:0.614354\tvalidation_0-error:0.230546\tvalidation_1-auc:0.619948\tvalidation_1-error:0.228802\n",
      "[102]\tvalidation_0-auc:0.614536\tvalidation_0-error:0.230546\tvalidation_1-auc:0.620066\tvalidation_1-error:0.228802\n",
      "[103]\tvalidation_0-auc:0.614583\tvalidation_0-error:0.230546\tvalidation_1-auc:0.620086\tvalidation_1-error:0.228802\n",
      "[104]\tvalidation_0-auc:0.614638\tvalidation_0-error:0.230546\tvalidation_1-auc:0.620133\tvalidation_1-error:0.228802\n",
      "[105]\tvalidation_0-auc:0.614711\tvalidation_0-error:0.230546\tvalidation_1-auc:0.620188\tvalidation_1-error:0.228802\n",
      "[106]\tvalidation_0-auc:0.614831\tvalidation_0-error:0.230546\tvalidation_1-auc:0.620279\tvalidation_1-error:0.228802\n",
      "[107]\tvalidation_0-auc:0.614869\tvalidation_0-error:0.230546\tvalidation_1-auc:0.620312\tvalidation_1-error:0.228802\n",
      "[108]\tvalidation_0-auc:0.614909\tvalidation_0-error:0.230546\tvalidation_1-auc:0.62034\tvalidation_1-error:0.228802\n",
      "[109]\tvalidation_0-auc:0.615052\tvalidation_0-error:0.230546\tvalidation_1-auc:0.62045\tvalidation_1-error:0.228802\n",
      "[110]\tvalidation_0-auc:0.615094\tvalidation_0-error:0.230546\tvalidation_1-auc:0.620453\tvalidation_1-error:0.228802\n",
      "[111]\tvalidation_0-auc:0.615214\tvalidation_0-error:0.230546\tvalidation_1-auc:0.620492\tvalidation_1-error:0.228802\n",
      "[112]\tvalidation_0-auc:0.615225\tvalidation_0-error:0.230546\tvalidation_1-auc:0.620534\tvalidation_1-error:0.228802\n",
      "[113]\tvalidation_0-auc:0.615448\tvalidation_0-error:0.230546\tvalidation_1-auc:0.620721\tvalidation_1-error:0.228802\n",
      "[114]\tvalidation_0-auc:0.61545\tvalidation_0-error:0.230546\tvalidation_1-auc:0.620719\tvalidation_1-error:0.228802\n",
      "[115]\tvalidation_0-auc:0.615588\tvalidation_0-error:0.230546\tvalidation_1-auc:0.620852\tvalidation_1-error:0.228802\n",
      "[116]\tvalidation_0-auc:0.615756\tvalidation_0-error:0.230546\tvalidation_1-auc:0.621012\tvalidation_1-error:0.228802\n",
      "[117]\tvalidation_0-auc:0.615759\tvalidation_0-error:0.230546\tvalidation_1-auc:0.621017\tvalidation_1-error:0.228802\n",
      "[118]\tvalidation_0-auc:0.615786\tvalidation_0-error:0.230546\tvalidation_1-auc:0.621039\tvalidation_1-error:0.228802\n",
      "[119]\tvalidation_0-auc:0.615829\tvalidation_0-error:0.230546\tvalidation_1-auc:0.621115\tvalidation_1-error:0.228802\n",
      "[120]\tvalidation_0-auc:0.61581\tvalidation_0-error:0.230546\tvalidation_1-auc:0.621105\tvalidation_1-error:0.228802\n",
      "[121]\tvalidation_0-auc:0.615885\tvalidation_0-error:0.230546\tvalidation_1-auc:0.621099\tvalidation_1-error:0.228802\n",
      "[122]\tvalidation_0-auc:0.615966\tvalidation_0-error:0.230546\tvalidation_1-auc:0.621102\tvalidation_1-error:0.228802\n",
      "[123]\tvalidation_0-auc:0.615983\tvalidation_0-error:0.230546\tvalidation_1-auc:0.621128\tvalidation_1-error:0.228802\n",
      "[124]\tvalidation_0-auc:0.616142\tvalidation_0-error:0.230546\tvalidation_1-auc:0.621297\tvalidation_1-error:0.228802\n",
      "[125]\tvalidation_0-auc:0.616264\tvalidation_0-error:0.230546\tvalidation_1-auc:0.621382\tvalidation_1-error:0.228802\n",
      "[126]\tvalidation_0-auc:0.616376\tvalidation_0-error:0.230546\tvalidation_1-auc:0.621389\tvalidation_1-error:0.228802\n",
      "[127]\tvalidation_0-auc:0.616504\tvalidation_0-error:0.230546\tvalidation_1-auc:0.621524\tvalidation_1-error:0.228802\n",
      "[128]\tvalidation_0-auc:0.616612\tvalidation_0-error:0.230546\tvalidation_1-auc:0.621629\tvalidation_1-error:0.228802\n",
      "[129]\tvalidation_0-auc:0.616659\tvalidation_0-error:0.230546\tvalidation_1-auc:0.621658\tvalidation_1-error:0.228802\n",
      "[130]\tvalidation_0-auc:0.616823\tvalidation_0-error:0.230546\tvalidation_1-auc:0.62178\tvalidation_1-error:0.228802\n",
      "[131]\tvalidation_0-auc:0.616838\tvalidation_0-error:0.230546\tvalidation_1-auc:0.621783\tvalidation_1-error:0.228802\n",
      "[132]\tvalidation_0-auc:0.616915\tvalidation_0-error:0.230546\tvalidation_1-auc:0.621874\tvalidation_1-error:0.228802\n",
      "[133]\tvalidation_0-auc:0.616909\tvalidation_0-error:0.230546\tvalidation_1-auc:0.62186\tvalidation_1-error:0.228802\n",
      "[134]\tvalidation_0-auc:0.616874\tvalidation_0-error:0.230546\tvalidation_1-auc:0.621864\tvalidation_1-error:0.228802\n",
      "[135]\tvalidation_0-auc:0.616889\tvalidation_0-error:0.230546\tvalidation_1-auc:0.621889\tvalidation_1-error:0.228802\n",
      "[136]\tvalidation_0-auc:0.616999\tvalidation_0-error:0.230546\tvalidation_1-auc:0.621957\tvalidation_1-error:0.228802\n",
      "[137]\tvalidation_0-auc:0.617102\tvalidation_0-error:0.230546\tvalidation_1-auc:0.622027\tvalidation_1-error:0.228802\n",
      "[138]\tvalidation_0-auc:0.617208\tvalidation_0-error:0.230546\tvalidation_1-auc:0.622144\tvalidation_1-error:0.228802\n",
      "[139]\tvalidation_0-auc:0.617307\tvalidation_0-error:0.230546\tvalidation_1-auc:0.622211\tvalidation_1-error:0.228802\n",
      "[140]\tvalidation_0-auc:0.61744\tvalidation_0-error:0.230546\tvalidation_1-auc:0.622342\tvalidation_1-error:0.228802\n",
      "[141]\tvalidation_0-auc:0.617451\tvalidation_0-error:0.230546\tvalidation_1-auc:0.622417\tvalidation_1-error:0.228802\n",
      "[142]\tvalidation_0-auc:0.617563\tvalidation_0-error:0.230546\tvalidation_1-auc:0.622471\tvalidation_1-error:0.228802\n",
      "[143]\tvalidation_0-auc:0.6176\tvalidation_0-error:0.230546\tvalidation_1-auc:0.622457\tvalidation_1-error:0.228802\n",
      "[144]\tvalidation_0-auc:0.617664\tvalidation_0-error:0.230546\tvalidation_1-auc:0.622475\tvalidation_1-error:0.228802\n",
      "[145]\tvalidation_0-auc:0.617672\tvalidation_0-error:0.230546\tvalidation_1-auc:0.622488\tvalidation_1-error:0.228802\n"
     ]
    },
    {
     "name": "stdout",
     "output_type": "stream",
     "text": [
      "[146]\tvalidation_0-auc:0.617736\tvalidation_0-error:0.230546\tvalidation_1-auc:0.622553\tvalidation_1-error:0.228802\n",
      "[147]\tvalidation_0-auc:0.617826\tvalidation_0-error:0.230546\tvalidation_1-auc:0.622674\tvalidation_1-error:0.228802\n",
      "[148]\tvalidation_0-auc:0.617824\tvalidation_0-error:0.230546\tvalidation_1-auc:0.622671\tvalidation_1-error:0.228802\n",
      "[149]\tvalidation_0-auc:0.61794\tvalidation_0-error:0.230546\tvalidation_1-auc:0.622741\tvalidation_1-error:0.228802\n",
      "[150]\tvalidation_0-auc:0.618054\tvalidation_0-error:0.230546\tvalidation_1-auc:0.622788\tvalidation_1-error:0.228802\n",
      "[151]\tvalidation_0-auc:0.618073\tvalidation_0-error:0.230546\tvalidation_1-auc:0.622804\tvalidation_1-error:0.228802\n",
      "[152]\tvalidation_0-auc:0.618129\tvalidation_0-error:0.230546\tvalidation_1-auc:0.622899\tvalidation_1-error:0.228802\n",
      "[153]\tvalidation_0-auc:0.618232\tvalidation_0-error:0.230546\tvalidation_1-auc:0.622979\tvalidation_1-error:0.228802\n",
      "[154]\tvalidation_0-auc:0.618243\tvalidation_0-error:0.230546\tvalidation_1-auc:0.62299\tvalidation_1-error:0.228802\n",
      "[155]\tvalidation_0-auc:0.618352\tvalidation_0-error:0.230546\tvalidation_1-auc:0.623096\tvalidation_1-error:0.228802\n",
      "[156]\tvalidation_0-auc:0.618427\tvalidation_0-error:0.230546\tvalidation_1-auc:0.62314\tvalidation_1-error:0.228802\n",
      "[157]\tvalidation_0-auc:0.618499\tvalidation_0-error:0.230546\tvalidation_1-auc:0.623198\tvalidation_1-error:0.228802\n",
      "[158]\tvalidation_0-auc:0.618505\tvalidation_0-error:0.230546\tvalidation_1-auc:0.623214\tvalidation_1-error:0.228802\n",
      "[159]\tvalidation_0-auc:0.618553\tvalidation_0-error:0.230546\tvalidation_1-auc:0.623228\tvalidation_1-error:0.228802\n",
      "[160]\tvalidation_0-auc:0.618604\tvalidation_0-error:0.230546\tvalidation_1-auc:0.623296\tvalidation_1-error:0.228802\n",
      "[161]\tvalidation_0-auc:0.618654\tvalidation_0-error:0.230546\tvalidation_1-auc:0.623344\tvalidation_1-error:0.228802\n",
      "[162]\tvalidation_0-auc:0.618735\tvalidation_0-error:0.230546\tvalidation_1-auc:0.623403\tvalidation_1-error:0.228802\n",
      "[163]\tvalidation_0-auc:0.61878\tvalidation_0-error:0.230546\tvalidation_1-auc:0.623468\tvalidation_1-error:0.228802\n",
      "[164]\tvalidation_0-auc:0.618866\tvalidation_0-error:0.230546\tvalidation_1-auc:0.623546\tvalidation_1-error:0.228802\n",
      "[165]\tvalidation_0-auc:0.618887\tvalidation_0-error:0.230546\tvalidation_1-auc:0.623537\tvalidation_1-error:0.228802\n",
      "[166]\tvalidation_0-auc:0.61902\tvalidation_0-error:0.230546\tvalidation_1-auc:0.623639\tvalidation_1-error:0.228802\n",
      "[167]\tvalidation_0-auc:0.619063\tvalidation_0-error:0.230546\tvalidation_1-auc:0.623641\tvalidation_1-error:0.228802\n",
      "[168]\tvalidation_0-auc:0.619105\tvalidation_0-error:0.230546\tvalidation_1-auc:0.623644\tvalidation_1-error:0.228802\n",
      "[169]\tvalidation_0-auc:0.619216\tvalidation_0-error:0.230546\tvalidation_1-auc:0.623748\tvalidation_1-error:0.228802\n",
      "[170]\tvalidation_0-auc:0.619318\tvalidation_0-error:0.230546\tvalidation_1-auc:0.623844\tvalidation_1-error:0.228802\n",
      "[171]\tvalidation_0-auc:0.619322\tvalidation_0-error:0.230546\tvalidation_1-auc:0.623889\tvalidation_1-error:0.228802\n",
      "[172]\tvalidation_0-auc:0.61942\tvalidation_0-error:0.230546\tvalidation_1-auc:0.623927\tvalidation_1-error:0.228802\n",
      "[173]\tvalidation_0-auc:0.61944\tvalidation_0-error:0.230546\tvalidation_1-auc:0.623917\tvalidation_1-error:0.228802\n",
      "[174]\tvalidation_0-auc:0.619506\tvalidation_0-error:0.230546\tvalidation_1-auc:0.623993\tvalidation_1-error:0.228802\n",
      "[175]\tvalidation_0-auc:0.619559\tvalidation_0-error:0.230546\tvalidation_1-auc:0.624052\tvalidation_1-error:0.228802\n",
      "[176]\tvalidation_0-auc:0.619635\tvalidation_0-error:0.230546\tvalidation_1-auc:0.624069\tvalidation_1-error:0.228802\n",
      "[177]\tvalidation_0-auc:0.619697\tvalidation_0-error:0.230546\tvalidation_1-auc:0.624134\tvalidation_1-error:0.228802\n",
      "[178]\tvalidation_0-auc:0.619785\tvalidation_0-error:0.230546\tvalidation_1-auc:0.624228\tvalidation_1-error:0.228802\n",
      "[179]\tvalidation_0-auc:0.619769\tvalidation_0-error:0.230546\tvalidation_1-auc:0.624244\tvalidation_1-error:0.228802\n",
      "[180]\tvalidation_0-auc:0.61978\tvalidation_0-error:0.230546\tvalidation_1-auc:0.624198\tvalidation_1-error:0.228802\n",
      "[181]\tvalidation_0-auc:0.619826\tvalidation_0-error:0.230546\tvalidation_1-auc:0.624209\tvalidation_1-error:0.228802\n",
      "[182]\tvalidation_0-auc:0.619837\tvalidation_0-error:0.230546\tvalidation_1-auc:0.6242\tvalidation_1-error:0.228802\n",
      "[183]\tvalidation_0-auc:0.619894\tvalidation_0-error:0.230546\tvalidation_1-auc:0.624269\tvalidation_1-error:0.228802\n",
      "[184]\tvalidation_0-auc:0.619962\tvalidation_0-error:0.230546\tvalidation_1-auc:0.624355\tvalidation_1-error:0.228802\n",
      "[185]\tvalidation_0-auc:0.620031\tvalidation_0-error:0.230546\tvalidation_1-auc:0.624433\tvalidation_1-error:0.228802\n",
      "[186]\tvalidation_0-auc:0.620145\tvalidation_0-error:0.230546\tvalidation_1-auc:0.624438\tvalidation_1-error:0.228802\n",
      "[187]\tvalidation_0-auc:0.620219\tvalidation_0-error:0.230546\tvalidation_1-auc:0.624456\tvalidation_1-error:0.228802\n",
      "[188]\tvalidation_0-auc:0.620242\tvalidation_0-error:0.230546\tvalidation_1-auc:0.624453\tvalidation_1-error:0.228802\n",
      "[189]\tvalidation_0-auc:0.620286\tvalidation_0-error:0.230546\tvalidation_1-auc:0.624488\tvalidation_1-error:0.228802\n",
      "[190]\tvalidation_0-auc:0.620395\tvalidation_0-error:0.230546\tvalidation_1-auc:0.624531\tvalidation_1-error:0.228802\n",
      "[191]\tvalidation_0-auc:0.620435\tvalidation_0-error:0.230546\tvalidation_1-auc:0.624576\tvalidation_1-error:0.228802\n",
      "[192]\tvalidation_0-auc:0.620489\tvalidation_0-error:0.230546\tvalidation_1-auc:0.624616\tvalidation_1-error:0.228802\n",
      "[193]\tvalidation_0-auc:0.620504\tvalidation_0-error:0.230546\tvalidation_1-auc:0.624614\tvalidation_1-error:0.228802\n",
      "[194]\tvalidation_0-auc:0.620532\tvalidation_0-error:0.230546\tvalidation_1-auc:0.624606\tvalidation_1-error:0.228802\n",
      "[195]\tvalidation_0-auc:0.620543\tvalidation_0-error:0.230546\tvalidation_1-auc:0.624601\tvalidation_1-error:0.228802\n",
      "[196]\tvalidation_0-auc:0.620543\tvalidation_0-error:0.230546\tvalidation_1-auc:0.624594\tvalidation_1-error:0.228802\n",
      "[197]\tvalidation_0-auc:0.620579\tvalidation_0-error:0.230546\tvalidation_1-auc:0.624624\tvalidation_1-error:0.228802\n",
      "[198]\tvalidation_0-auc:0.62063\tvalidation_0-error:0.230546\tvalidation_1-auc:0.624652\tvalidation_1-error:0.228802\n",
      "[199]\tvalidation_0-auc:0.62068\tvalidation_0-error:0.230546\tvalidation_1-auc:0.624697\tvalidation_1-error:0.228802\n",
      "[200]\tvalidation_0-auc:0.620744\tvalidation_0-error:0.230546\tvalidation_1-auc:0.62476\tvalidation_1-error:0.228802\n",
      "[201]\tvalidation_0-auc:0.620747\tvalidation_0-error:0.230546\tvalidation_1-auc:0.624754\tvalidation_1-error:0.228802\n",
      "[202]\tvalidation_0-auc:0.620826\tvalidation_0-error:0.230546\tvalidation_1-auc:0.624782\tvalidation_1-error:0.228802\n",
      "[203]\tvalidation_0-auc:0.620831\tvalidation_0-error:0.230546\tvalidation_1-auc:0.624781\tvalidation_1-error:0.228802\n",
      "[204]\tvalidation_0-auc:0.620878\tvalidation_0-error:0.230546\tvalidation_1-auc:0.624808\tvalidation_1-error:0.228802\n",
      "[205]\tvalidation_0-auc:0.620923\tvalidation_0-error:0.230546\tvalidation_1-auc:0.624856\tvalidation_1-error:0.228802\n",
      "[206]\tvalidation_0-auc:0.620948\tvalidation_0-error:0.230546\tvalidation_1-auc:0.624827\tvalidation_1-error:0.228802\n",
      "[207]\tvalidation_0-auc:0.621\tvalidation_0-error:0.230546\tvalidation_1-auc:0.624888\tvalidation_1-error:0.228802\n",
      "[208]\tvalidation_0-auc:0.621072\tvalidation_0-error:0.230546\tvalidation_1-auc:0.624925\tvalidation_1-error:0.228802\n",
      "[209]\tvalidation_0-auc:0.621126\tvalidation_0-error:0.230546\tvalidation_1-auc:0.624945\tvalidation_1-error:0.228802\n",
      "[210]\tvalidation_0-auc:0.621123\tvalidation_0-error:0.230546\tvalidation_1-auc:0.624942\tvalidation_1-error:0.228802\n",
      "[211]\tvalidation_0-auc:0.621188\tvalidation_0-error:0.230546\tvalidation_1-auc:0.625009\tvalidation_1-error:0.228802\n",
      "[212]\tvalidation_0-auc:0.621278\tvalidation_0-error:0.230546\tvalidation_1-auc:0.62506\tvalidation_1-error:0.228802\n",
      "[213]\tvalidation_0-auc:0.621308\tvalidation_0-error:0.230546\tvalidation_1-auc:0.625108\tvalidation_1-error:0.228802\n",
      "[214]\tvalidation_0-auc:0.621338\tvalidation_0-error:0.230546\tvalidation_1-auc:0.62513\tvalidation_1-error:0.228802\n",
      "[215]\tvalidation_0-auc:0.621407\tvalidation_0-error:0.230546\tvalidation_1-auc:0.625184\tvalidation_1-error:0.228802\n",
      "[216]\tvalidation_0-auc:0.621463\tvalidation_0-error:0.230546\tvalidation_1-auc:0.625238\tvalidation_1-error:0.228802\n",
      "[217]\tvalidation_0-auc:0.621504\tvalidation_0-error:0.230546\tvalidation_1-auc:0.625264\tvalidation_1-error:0.228802\n",
      "[218]\tvalidation_0-auc:0.621592\tvalidation_0-error:0.230546\tvalidation_1-auc:0.625248\tvalidation_1-error:0.228802\n"
     ]
    },
    {
     "name": "stdout",
     "output_type": "stream",
     "text": [
      "[219]\tvalidation_0-auc:0.621613\tvalidation_0-error:0.230546\tvalidation_1-auc:0.625243\tvalidation_1-error:0.228802\n",
      "[220]\tvalidation_0-auc:0.621649\tvalidation_0-error:0.230546\tvalidation_1-auc:0.625287\tvalidation_1-error:0.228802\n",
      "[221]\tvalidation_0-auc:0.621698\tvalidation_0-error:0.230546\tvalidation_1-auc:0.625321\tvalidation_1-error:0.228802\n",
      "[222]\tvalidation_0-auc:0.621739\tvalidation_0-error:0.230546\tvalidation_1-auc:0.625324\tvalidation_1-error:0.228802\n",
      "[223]\tvalidation_0-auc:0.621773\tvalidation_0-error:0.230546\tvalidation_1-auc:0.625351\tvalidation_1-error:0.228802\n",
      "[224]\tvalidation_0-auc:0.621823\tvalidation_0-error:0.230546\tvalidation_1-auc:0.62536\tvalidation_1-error:0.228802\n",
      "[225]\tvalidation_0-auc:0.621886\tvalidation_0-error:0.230546\tvalidation_1-auc:0.625426\tvalidation_1-error:0.228802\n",
      "[226]\tvalidation_0-auc:0.621936\tvalidation_0-error:0.230546\tvalidation_1-auc:0.625489\tvalidation_1-error:0.228802\n",
      "[227]\tvalidation_0-auc:0.621976\tvalidation_0-error:0.230546\tvalidation_1-auc:0.625491\tvalidation_1-error:0.228802\n",
      "[228]\tvalidation_0-auc:0.622018\tvalidation_0-error:0.230546\tvalidation_1-auc:0.625514\tvalidation_1-error:0.228802\n",
      "[229]\tvalidation_0-auc:0.62207\tvalidation_0-error:0.230546\tvalidation_1-auc:0.625554\tvalidation_1-error:0.228802\n",
      "[230]\tvalidation_0-auc:0.622115\tvalidation_0-error:0.230546\tvalidation_1-auc:0.62562\tvalidation_1-error:0.228802\n",
      "[231]\tvalidation_0-auc:0.62214\tvalidation_0-error:0.230546\tvalidation_1-auc:0.625612\tvalidation_1-error:0.228802\n",
      "[232]\tvalidation_0-auc:0.622212\tvalidation_0-error:0.230546\tvalidation_1-auc:0.62568\tvalidation_1-error:0.228802\n",
      "[233]\tvalidation_0-auc:0.622228\tvalidation_0-error:0.230546\tvalidation_1-auc:0.625709\tvalidation_1-error:0.228802\n",
      "[234]\tvalidation_0-auc:0.622291\tvalidation_0-error:0.230546\tvalidation_1-auc:0.625725\tvalidation_1-error:0.228802\n",
      "[235]\tvalidation_0-auc:0.622329\tvalidation_0-error:0.230546\tvalidation_1-auc:0.625752\tvalidation_1-error:0.228802\n",
      "[236]\tvalidation_0-auc:0.622362\tvalidation_0-error:0.230546\tvalidation_1-auc:0.625796\tvalidation_1-error:0.228802\n",
      "[237]\tvalidation_0-auc:0.622412\tvalidation_0-error:0.230546\tvalidation_1-auc:0.62587\tvalidation_1-error:0.228802\n",
      "[238]\tvalidation_0-auc:0.622429\tvalidation_0-error:0.230546\tvalidation_1-auc:0.625875\tvalidation_1-error:0.228802\n",
      "[239]\tvalidation_0-auc:0.622486\tvalidation_0-error:0.230546\tvalidation_1-auc:0.62593\tvalidation_1-error:0.228802\n",
      "[240]\tvalidation_0-auc:0.622531\tvalidation_0-error:0.230546\tvalidation_1-auc:0.625976\tvalidation_1-error:0.228802\n",
      "[241]\tvalidation_0-auc:0.622546\tvalidation_0-error:0.230546\tvalidation_1-auc:0.625992\tvalidation_1-error:0.228802\n",
      "[242]\tvalidation_0-auc:0.622574\tvalidation_0-error:0.230546\tvalidation_1-auc:0.626041\tvalidation_1-error:0.228802\n",
      "[243]\tvalidation_0-auc:0.622637\tvalidation_0-error:0.230546\tvalidation_1-auc:0.626058\tvalidation_1-error:0.228802\n",
      "[244]\tvalidation_0-auc:0.622684\tvalidation_0-error:0.230546\tvalidation_1-auc:0.626109\tvalidation_1-error:0.228802\n",
      "[245]\tvalidation_0-auc:0.622728\tvalidation_0-error:0.230546\tvalidation_1-auc:0.626116\tvalidation_1-error:0.228802\n",
      "[246]\tvalidation_0-auc:0.62277\tvalidation_0-error:0.230546\tvalidation_1-auc:0.626154\tvalidation_1-error:0.228802\n",
      "[247]\tvalidation_0-auc:0.622789\tvalidation_0-error:0.230546\tvalidation_1-auc:0.626173\tvalidation_1-error:0.228802\n",
      "[248]\tvalidation_0-auc:0.62282\tvalidation_0-error:0.230546\tvalidation_1-auc:0.626171\tvalidation_1-error:0.228802\n",
      "[249]\tvalidation_0-auc:0.622859\tvalidation_0-error:0.230546\tvalidation_1-auc:0.626231\tvalidation_1-error:0.228802\n",
      "[250]\tvalidation_0-auc:0.622904\tvalidation_0-error:0.230546\tvalidation_1-auc:0.626231\tvalidation_1-error:0.228802\n",
      "[251]\tvalidation_0-auc:0.622933\tvalidation_0-error:0.230546\tvalidation_1-auc:0.626236\tvalidation_1-error:0.228802\n",
      "[252]\tvalidation_0-auc:0.622962\tvalidation_0-error:0.230546\tvalidation_1-auc:0.626263\tvalidation_1-error:0.228802\n",
      "[253]\tvalidation_0-auc:0.623001\tvalidation_0-error:0.230546\tvalidation_1-auc:0.626304\tvalidation_1-error:0.228802\n",
      "[254]\tvalidation_0-auc:0.623037\tvalidation_0-error:0.230546\tvalidation_1-auc:0.626329\tvalidation_1-error:0.228802\n",
      "[255]\tvalidation_0-auc:0.62306\tvalidation_0-error:0.230546\tvalidation_1-auc:0.626338\tvalidation_1-error:0.228802\n",
      "[256]\tvalidation_0-auc:0.623101\tvalidation_0-error:0.230546\tvalidation_1-auc:0.626385\tvalidation_1-error:0.228802\n",
      "[257]\tvalidation_0-auc:0.623152\tvalidation_0-error:0.230546\tvalidation_1-auc:0.626401\tvalidation_1-error:0.228802\n",
      "[258]\tvalidation_0-auc:0.623189\tvalidation_0-error:0.230546\tvalidation_1-auc:0.626408\tvalidation_1-error:0.228802\n",
      "[259]\tvalidation_0-auc:0.623247\tvalidation_0-error:0.230546\tvalidation_1-auc:0.62644\tvalidation_1-error:0.228802\n",
      "[260]\tvalidation_0-auc:0.623279\tvalidation_0-error:0.230546\tvalidation_1-auc:0.626472\tvalidation_1-error:0.228802\n",
      "[261]\tvalidation_0-auc:0.623304\tvalidation_0-error:0.230546\tvalidation_1-auc:0.626504\tvalidation_1-error:0.228802\n",
      "[262]\tvalidation_0-auc:0.623328\tvalidation_0-error:0.230546\tvalidation_1-auc:0.626516\tvalidation_1-error:0.228802\n",
      "[263]\tvalidation_0-auc:0.62335\tvalidation_0-error:0.230546\tvalidation_1-auc:0.62656\tvalidation_1-error:0.228802\n",
      "[264]\tvalidation_0-auc:0.623375\tvalidation_0-error:0.230546\tvalidation_1-auc:0.62652\tvalidation_1-error:0.228802\n",
      "[265]\tvalidation_0-auc:0.623401\tvalidation_0-error:0.230546\tvalidation_1-auc:0.626542\tvalidation_1-error:0.228802\n",
      "[266]\tvalidation_0-auc:0.623414\tvalidation_0-error:0.230546\tvalidation_1-auc:0.626553\tvalidation_1-error:0.228802\n",
      "[267]\tvalidation_0-auc:0.62346\tvalidation_0-error:0.230546\tvalidation_1-auc:0.626599\tvalidation_1-error:0.228802\n",
      "[268]\tvalidation_0-auc:0.623494\tvalidation_0-error:0.230546\tvalidation_1-auc:0.626603\tvalidation_1-error:0.228802\n",
      "[269]\tvalidation_0-auc:0.623542\tvalidation_0-error:0.230546\tvalidation_1-auc:0.626636\tvalidation_1-error:0.228802\n",
      "[270]\tvalidation_0-auc:0.623589\tvalidation_0-error:0.230546\tvalidation_1-auc:0.626687\tvalidation_1-error:0.228802\n",
      "[271]\tvalidation_0-auc:0.623661\tvalidation_0-error:0.230546\tvalidation_1-auc:0.626685\tvalidation_1-error:0.228802\n",
      "[272]\tvalidation_0-auc:0.623702\tvalidation_0-error:0.230546\tvalidation_1-auc:0.626707\tvalidation_1-error:0.228802\n",
      "[273]\tvalidation_0-auc:0.623763\tvalidation_0-error:0.230546\tvalidation_1-auc:0.626736\tvalidation_1-error:0.228802\n",
      "[274]\tvalidation_0-auc:0.623791\tvalidation_0-error:0.230546\tvalidation_1-auc:0.62678\tvalidation_1-error:0.228802\n",
      "[275]\tvalidation_0-auc:0.623841\tvalidation_0-error:0.230546\tvalidation_1-auc:0.626795\tvalidation_1-error:0.228802\n",
      "[276]\tvalidation_0-auc:0.623923\tvalidation_0-error:0.230546\tvalidation_1-auc:0.626855\tvalidation_1-error:0.228802\n",
      "[277]\tvalidation_0-auc:0.624\tvalidation_0-error:0.230546\tvalidation_1-auc:0.626864\tvalidation_1-error:0.228802\n",
      "[278]\tvalidation_0-auc:0.62405\tvalidation_0-error:0.230546\tvalidation_1-auc:0.626912\tvalidation_1-error:0.228802\n",
      "[279]\tvalidation_0-auc:0.624103\tvalidation_0-error:0.230546\tvalidation_1-auc:0.626976\tvalidation_1-error:0.228802\n",
      "[280]\tvalidation_0-auc:0.624146\tvalidation_0-error:0.230546\tvalidation_1-auc:0.627009\tvalidation_1-error:0.228802\n",
      "[281]\tvalidation_0-auc:0.624177\tvalidation_0-error:0.230546\tvalidation_1-auc:0.627027\tvalidation_1-error:0.228802\n",
      "[282]\tvalidation_0-auc:0.624208\tvalidation_0-error:0.230546\tvalidation_1-auc:0.62705\tvalidation_1-error:0.228802\n",
      "[283]\tvalidation_0-auc:0.624235\tvalidation_0-error:0.230546\tvalidation_1-auc:0.627093\tvalidation_1-error:0.228802\n",
      "[284]\tvalidation_0-auc:0.624272\tvalidation_0-error:0.230546\tvalidation_1-auc:0.627126\tvalidation_1-error:0.228802\n",
      "[285]\tvalidation_0-auc:0.624299\tvalidation_0-error:0.230546\tvalidation_1-auc:0.627109\tvalidation_1-error:0.228802\n",
      "[286]\tvalidation_0-auc:0.624333\tvalidation_0-error:0.230546\tvalidation_1-auc:0.627129\tvalidation_1-error:0.228802\n",
      "[287]\tvalidation_0-auc:0.624368\tvalidation_0-error:0.230546\tvalidation_1-auc:0.627157\tvalidation_1-error:0.228802\n",
      "[288]\tvalidation_0-auc:0.624415\tvalidation_0-error:0.230546\tvalidation_1-auc:0.627209\tvalidation_1-error:0.228802\n",
      "[289]\tvalidation_0-auc:0.624486\tvalidation_0-error:0.230546\tvalidation_1-auc:0.62724\tvalidation_1-error:0.228802\n",
      "[290]\tvalidation_0-auc:0.624523\tvalidation_0-error:0.230546\tvalidation_1-auc:0.627269\tvalidation_1-error:0.228802\n",
      "[291]\tvalidation_0-auc:0.624557\tvalidation_0-error:0.230546\tvalidation_1-auc:0.627295\tvalidation_1-error:0.228802\n"
     ]
    },
    {
     "name": "stdout",
     "output_type": "stream",
     "text": [
      "[292]\tvalidation_0-auc:0.624582\tvalidation_0-error:0.230546\tvalidation_1-auc:0.627312\tvalidation_1-error:0.228802\n",
      "[293]\tvalidation_0-auc:0.624618\tvalidation_0-error:0.230546\tvalidation_1-auc:0.627342\tvalidation_1-error:0.228802\n",
      "[294]\tvalidation_0-auc:0.624649\tvalidation_0-error:0.230546\tvalidation_1-auc:0.627389\tvalidation_1-error:0.228802\n",
      "[295]\tvalidation_0-auc:0.62468\tvalidation_0-error:0.230546\tvalidation_1-auc:0.627426\tvalidation_1-error:0.228802\n",
      "[296]\tvalidation_0-auc:0.6247\tvalidation_0-error:0.230546\tvalidation_1-auc:0.627454\tvalidation_1-error:0.228802\n",
      "[297]\tvalidation_0-auc:0.624727\tvalidation_0-error:0.230546\tvalidation_1-auc:0.627499\tvalidation_1-error:0.228802\n",
      "[298]\tvalidation_0-auc:0.624774\tvalidation_0-error:0.230546\tvalidation_1-auc:0.627538\tvalidation_1-error:0.228802\n",
      "[299]\tvalidation_0-auc:0.624805\tvalidation_0-error:0.230546\tvalidation_1-auc:0.627573\tvalidation_1-error:0.228802\n",
      "[300]\tvalidation_0-auc:0.624847\tvalidation_0-error:0.230546\tvalidation_1-auc:0.627579\tvalidation_1-error:0.228802\n",
      "[301]\tvalidation_0-auc:0.6249\tvalidation_0-error:0.230546\tvalidation_1-auc:0.627616\tvalidation_1-error:0.228802\n",
      "[302]\tvalidation_0-auc:0.624938\tvalidation_0-error:0.230546\tvalidation_1-auc:0.627641\tvalidation_1-error:0.228802\n",
      "[303]\tvalidation_0-auc:0.624993\tvalidation_0-error:0.230546\tvalidation_1-auc:0.627673\tvalidation_1-error:0.228802\n",
      "[304]\tvalidation_0-auc:0.62507\tvalidation_0-error:0.230546\tvalidation_1-auc:0.627716\tvalidation_1-error:0.228802\n",
      "[305]\tvalidation_0-auc:0.625107\tvalidation_0-error:0.230546\tvalidation_1-auc:0.627738\tvalidation_1-error:0.228802\n",
      "[306]\tvalidation_0-auc:0.625136\tvalidation_0-error:0.230546\tvalidation_1-auc:0.627759\tvalidation_1-error:0.228802\n",
      "[307]\tvalidation_0-auc:0.625214\tvalidation_0-error:0.230546\tvalidation_1-auc:0.627807\tvalidation_1-error:0.228802\n",
      "[308]\tvalidation_0-auc:0.625236\tvalidation_0-error:0.230546\tvalidation_1-auc:0.627814\tvalidation_1-error:0.228802\n",
      "[309]\tvalidation_0-auc:0.625308\tvalidation_0-error:0.230546\tvalidation_1-auc:0.627825\tvalidation_1-error:0.228802\n",
      "[310]\tvalidation_0-auc:0.625329\tvalidation_0-error:0.230546\tvalidation_1-auc:0.627841\tvalidation_1-error:0.228802\n",
      "[311]\tvalidation_0-auc:0.625351\tvalidation_0-error:0.230546\tvalidation_1-auc:0.627871\tvalidation_1-error:0.228802\n",
      "[312]\tvalidation_0-auc:0.62537\tvalidation_0-error:0.230546\tvalidation_1-auc:0.627887\tvalidation_1-error:0.228802\n",
      "[313]\tvalidation_0-auc:0.625399\tvalidation_0-error:0.230546\tvalidation_1-auc:0.627909\tvalidation_1-error:0.228802\n",
      "[314]\tvalidation_0-auc:0.625442\tvalidation_0-error:0.230546\tvalidation_1-auc:0.627964\tvalidation_1-error:0.228802\n",
      "[315]\tvalidation_0-auc:0.625489\tvalidation_0-error:0.230546\tvalidation_1-auc:0.627965\tvalidation_1-error:0.228802\n",
      "[316]\tvalidation_0-auc:0.625525\tvalidation_0-error:0.230546\tvalidation_1-auc:0.628008\tvalidation_1-error:0.228802\n",
      "[317]\tvalidation_0-auc:0.62553\tvalidation_0-error:0.230546\tvalidation_1-auc:0.62802\tvalidation_1-error:0.228802\n",
      "[318]\tvalidation_0-auc:0.625553\tvalidation_0-error:0.230546\tvalidation_1-auc:0.62804\tvalidation_1-error:0.228802\n",
      "[319]\tvalidation_0-auc:0.625575\tvalidation_0-error:0.230546\tvalidation_1-auc:0.62806\tvalidation_1-error:0.228802\n",
      "[320]\tvalidation_0-auc:0.625611\tvalidation_0-error:0.230546\tvalidation_1-auc:0.628105\tvalidation_1-error:0.228802\n",
      "[321]\tvalidation_0-auc:0.625625\tvalidation_0-error:0.230546\tvalidation_1-auc:0.628128\tvalidation_1-error:0.228802\n",
      "[322]\tvalidation_0-auc:0.625656\tvalidation_0-error:0.230546\tvalidation_1-auc:0.628135\tvalidation_1-error:0.228802\n",
      "[323]\tvalidation_0-auc:0.625703\tvalidation_0-error:0.230546\tvalidation_1-auc:0.628188\tvalidation_1-error:0.228802\n",
      "[324]\tvalidation_0-auc:0.625752\tvalidation_0-error:0.230546\tvalidation_1-auc:0.628215\tvalidation_1-error:0.228802\n",
      "[325]\tvalidation_0-auc:0.625814\tvalidation_0-error:0.230546\tvalidation_1-auc:0.628254\tvalidation_1-error:0.228802\n",
      "[326]\tvalidation_0-auc:0.625881\tvalidation_0-error:0.230546\tvalidation_1-auc:0.628281\tvalidation_1-error:0.228802\n",
      "[327]\tvalidation_0-auc:0.625896\tvalidation_0-error:0.230546\tvalidation_1-auc:0.628291\tvalidation_1-error:0.228802\n",
      "[328]\tvalidation_0-auc:0.625914\tvalidation_0-error:0.230546\tvalidation_1-auc:0.628316\tvalidation_1-error:0.228802\n",
      "[329]\tvalidation_0-auc:0.625943\tvalidation_0-error:0.230546\tvalidation_1-auc:0.628338\tvalidation_1-error:0.228802\n",
      "[330]\tvalidation_0-auc:0.625961\tvalidation_0-error:0.230546\tvalidation_1-auc:0.628345\tvalidation_1-error:0.228802\n",
      "[331]\tvalidation_0-auc:0.625999\tvalidation_0-error:0.230546\tvalidation_1-auc:0.628357\tvalidation_1-error:0.228802\n",
      "[332]\tvalidation_0-auc:0.626007\tvalidation_0-error:0.230546\tvalidation_1-auc:0.628368\tvalidation_1-error:0.228802\n",
      "[333]\tvalidation_0-auc:0.626022\tvalidation_0-error:0.230546\tvalidation_1-auc:0.628359\tvalidation_1-error:0.228802\n",
      "[334]\tvalidation_0-auc:0.626033\tvalidation_0-error:0.230546\tvalidation_1-auc:0.628372\tvalidation_1-error:0.228802\n",
      "[335]\tvalidation_0-auc:0.62606\tvalidation_0-error:0.230546\tvalidation_1-auc:0.628432\tvalidation_1-error:0.228802\n",
      "[336]\tvalidation_0-auc:0.626074\tvalidation_0-error:0.230546\tvalidation_1-auc:0.628423\tvalidation_1-error:0.228802\n",
      "[337]\tvalidation_0-auc:0.626115\tvalidation_0-error:0.230546\tvalidation_1-auc:0.628467\tvalidation_1-error:0.228802\n",
      "[338]\tvalidation_0-auc:0.626159\tvalidation_0-error:0.230546\tvalidation_1-auc:0.628466\tvalidation_1-error:0.228802\n",
      "[339]\tvalidation_0-auc:0.626176\tvalidation_0-error:0.230546\tvalidation_1-auc:0.628488\tvalidation_1-error:0.228802\n",
      "[340]\tvalidation_0-auc:0.626212\tvalidation_0-error:0.230546\tvalidation_1-auc:0.628514\tvalidation_1-error:0.228802\n",
      "[341]\tvalidation_0-auc:0.626246\tvalidation_0-error:0.230546\tvalidation_1-auc:0.628522\tvalidation_1-error:0.228802\n",
      "[342]\tvalidation_0-auc:0.62626\tvalidation_0-error:0.230546\tvalidation_1-auc:0.62853\tvalidation_1-error:0.228802\n",
      "[343]\tvalidation_0-auc:0.626279\tvalidation_0-error:0.230546\tvalidation_1-auc:0.628534\tvalidation_1-error:0.228802\n",
      "[344]\tvalidation_0-auc:0.626296\tvalidation_0-error:0.230546\tvalidation_1-auc:0.628536\tvalidation_1-error:0.228802\n",
      "[345]\tvalidation_0-auc:0.626325\tvalidation_0-error:0.230546\tvalidation_1-auc:0.628542\tvalidation_1-error:0.228802\n",
      "[346]\tvalidation_0-auc:0.626369\tvalidation_0-error:0.230546\tvalidation_1-auc:0.628582\tvalidation_1-error:0.228802\n",
      "[347]\tvalidation_0-auc:0.626418\tvalidation_0-error:0.230546\tvalidation_1-auc:0.628613\tvalidation_1-error:0.228802\n",
      "[348]\tvalidation_0-auc:0.626464\tvalidation_0-error:0.230546\tvalidation_1-auc:0.628626\tvalidation_1-error:0.228802\n",
      "[349]\tvalidation_0-auc:0.626505\tvalidation_0-error:0.230546\tvalidation_1-auc:0.628644\tvalidation_1-error:0.228802\n",
      "[350]\tvalidation_0-auc:0.626544\tvalidation_0-error:0.230546\tvalidation_1-auc:0.628666\tvalidation_1-error:0.228802\n",
      "[351]\tvalidation_0-auc:0.626569\tvalidation_0-error:0.230546\tvalidation_1-auc:0.628668\tvalidation_1-error:0.228802\n",
      "[352]\tvalidation_0-auc:0.626594\tvalidation_0-error:0.230546\tvalidation_1-auc:0.62869\tvalidation_1-error:0.228802\n",
      "[353]\tvalidation_0-auc:0.62662\tvalidation_0-error:0.230546\tvalidation_1-auc:0.628692\tvalidation_1-error:0.228802\n",
      "[354]\tvalidation_0-auc:0.626656\tvalidation_0-error:0.230546\tvalidation_1-auc:0.62869\tvalidation_1-error:0.228802\n",
      "[355]\tvalidation_0-auc:0.626692\tvalidation_0-error:0.230546\tvalidation_1-auc:0.628725\tvalidation_1-error:0.228802\n",
      "[356]\tvalidation_0-auc:0.626715\tvalidation_0-error:0.230546\tvalidation_1-auc:0.628732\tvalidation_1-error:0.228802\n",
      "[357]\tvalidation_0-auc:0.626749\tvalidation_0-error:0.230546\tvalidation_1-auc:0.628739\tvalidation_1-error:0.228802\n",
      "[358]\tvalidation_0-auc:0.626761\tvalidation_0-error:0.230546\tvalidation_1-auc:0.628758\tvalidation_1-error:0.228802\n",
      "[359]\tvalidation_0-auc:0.626785\tvalidation_0-error:0.230546\tvalidation_1-auc:0.628766\tvalidation_1-error:0.228802\n",
      "[360]\tvalidation_0-auc:0.626814\tvalidation_0-error:0.230546\tvalidation_1-auc:0.62878\tvalidation_1-error:0.228802\n",
      "[361]\tvalidation_0-auc:0.626847\tvalidation_0-error:0.230546\tvalidation_1-auc:0.628809\tvalidation_1-error:0.228802\n",
      "[362]\tvalidation_0-auc:0.626875\tvalidation_0-error:0.230546\tvalidation_1-auc:0.628815\tvalidation_1-error:0.228802\n",
      "[363]\tvalidation_0-auc:0.626914\tvalidation_0-error:0.230546\tvalidation_1-auc:0.628835\tvalidation_1-error:0.228802\n",
      "[364]\tvalidation_0-auc:0.626937\tvalidation_0-error:0.230546\tvalidation_1-auc:0.628825\tvalidation_1-error:0.228802\n"
     ]
    },
    {
     "name": "stdout",
     "output_type": "stream",
     "text": [
      "[365]\tvalidation_0-auc:0.626954\tvalidation_0-error:0.230546\tvalidation_1-auc:0.628847\tvalidation_1-error:0.228802\n",
      "[366]\tvalidation_0-auc:0.627012\tvalidation_0-error:0.230546\tvalidation_1-auc:0.628849\tvalidation_1-error:0.228802\n",
      "[367]\tvalidation_0-auc:0.627047\tvalidation_0-error:0.230546\tvalidation_1-auc:0.628871\tvalidation_1-error:0.228802\n",
      "[368]\tvalidation_0-auc:0.627063\tvalidation_0-error:0.230546\tvalidation_1-auc:0.628876\tvalidation_1-error:0.228802\n",
      "[369]\tvalidation_0-auc:0.627133\tvalidation_0-error:0.230546\tvalidation_1-auc:0.628881\tvalidation_1-error:0.228802\n",
      "[370]\tvalidation_0-auc:0.627164\tvalidation_0-error:0.230546\tvalidation_1-auc:0.628894\tvalidation_1-error:0.228802\n",
      "[371]\tvalidation_0-auc:0.627174\tvalidation_0-error:0.230546\tvalidation_1-auc:0.628905\tvalidation_1-error:0.228802\n",
      "[372]\tvalidation_0-auc:0.627212\tvalidation_0-error:0.230546\tvalidation_1-auc:0.628947\tvalidation_1-error:0.228802\n",
      "[373]\tvalidation_0-auc:0.627249\tvalidation_0-error:0.230546\tvalidation_1-auc:0.628974\tvalidation_1-error:0.228802\n",
      "[374]\tvalidation_0-auc:0.627272\tvalidation_0-error:0.230546\tvalidation_1-auc:0.628975\tvalidation_1-error:0.228802\n",
      "[375]\tvalidation_0-auc:0.627284\tvalidation_0-error:0.230546\tvalidation_1-auc:0.628988\tvalidation_1-error:0.228802\n",
      "[376]\tvalidation_0-auc:0.627305\tvalidation_0-error:0.230546\tvalidation_1-auc:0.629007\tvalidation_1-error:0.228802\n",
      "[377]\tvalidation_0-auc:0.627334\tvalidation_0-error:0.230546\tvalidation_1-auc:0.629055\tvalidation_1-error:0.228802\n",
      "[378]\tvalidation_0-auc:0.627368\tvalidation_0-error:0.230546\tvalidation_1-auc:0.629088\tvalidation_1-error:0.228802\n",
      "[379]\tvalidation_0-auc:0.627382\tvalidation_0-error:0.230546\tvalidation_1-auc:0.629105\tvalidation_1-error:0.228802\n",
      "[380]\tvalidation_0-auc:0.627406\tvalidation_0-error:0.230546\tvalidation_1-auc:0.629116\tvalidation_1-error:0.228802\n",
      "[381]\tvalidation_0-auc:0.627446\tvalidation_0-error:0.230546\tvalidation_1-auc:0.62916\tvalidation_1-error:0.228802\n",
      "[382]\tvalidation_0-auc:0.627461\tvalidation_0-error:0.230546\tvalidation_1-auc:0.629173\tvalidation_1-error:0.228802\n",
      "[383]\tvalidation_0-auc:0.627496\tvalidation_0-error:0.230546\tvalidation_1-auc:0.629167\tvalidation_1-error:0.228802\n",
      "[384]\tvalidation_0-auc:0.627551\tvalidation_0-error:0.230546\tvalidation_1-auc:0.629168\tvalidation_1-error:0.228802\n",
      "[385]\tvalidation_0-auc:0.627604\tvalidation_0-error:0.230546\tvalidation_1-auc:0.629185\tvalidation_1-error:0.228802\n",
      "[386]\tvalidation_0-auc:0.627619\tvalidation_0-error:0.230546\tvalidation_1-auc:0.629205\tvalidation_1-error:0.228802\n",
      "[387]\tvalidation_0-auc:0.627667\tvalidation_0-error:0.230546\tvalidation_1-auc:0.629205\tvalidation_1-error:0.228802\n",
      "[388]\tvalidation_0-auc:0.627684\tvalidation_0-error:0.230546\tvalidation_1-auc:0.629224\tvalidation_1-error:0.228802\n",
      "[389]\tvalidation_0-auc:0.627708\tvalidation_0-error:0.230546\tvalidation_1-auc:0.629223\tvalidation_1-error:0.228802\n",
      "[390]\tvalidation_0-auc:0.627731\tvalidation_0-error:0.230546\tvalidation_1-auc:0.629218\tvalidation_1-error:0.228802\n",
      "[391]\tvalidation_0-auc:0.62776\tvalidation_0-error:0.230546\tvalidation_1-auc:0.62923\tvalidation_1-error:0.228802\n",
      "[392]\tvalidation_0-auc:0.627774\tvalidation_0-error:0.230546\tvalidation_1-auc:0.629228\tvalidation_1-error:0.228802\n",
      "[393]\tvalidation_0-auc:0.627799\tvalidation_0-error:0.230546\tvalidation_1-auc:0.629254\tvalidation_1-error:0.228802\n",
      "[394]\tvalidation_0-auc:0.627814\tvalidation_0-error:0.230546\tvalidation_1-auc:0.629266\tvalidation_1-error:0.228802\n",
      "[395]\tvalidation_0-auc:0.627833\tvalidation_0-error:0.230546\tvalidation_1-auc:0.629272\tvalidation_1-error:0.228802\n",
      "[396]\tvalidation_0-auc:0.627856\tvalidation_0-error:0.230546\tvalidation_1-auc:0.629291\tvalidation_1-error:0.228802\n",
      "[397]\tvalidation_0-auc:0.62788\tvalidation_0-error:0.230546\tvalidation_1-auc:0.62927\tvalidation_1-error:0.228802\n",
      "[398]\tvalidation_0-auc:0.627903\tvalidation_0-error:0.230546\tvalidation_1-auc:0.629275\tvalidation_1-error:0.228802\n",
      "[399]\tvalidation_0-auc:0.627948\tvalidation_0-error:0.230546\tvalidation_1-auc:0.629262\tvalidation_1-error:0.228802\n",
      "[400]\tvalidation_0-auc:0.627955\tvalidation_0-error:0.230546\tvalidation_1-auc:0.629264\tvalidation_1-error:0.228802\n",
      "[401]\tvalidation_0-auc:0.627976\tvalidation_0-error:0.230546\tvalidation_1-auc:0.629271\tvalidation_1-error:0.228802\n",
      "[402]\tvalidation_0-auc:0.627989\tvalidation_0-error:0.230546\tvalidation_1-auc:0.629282\tvalidation_1-error:0.228802\n",
      "[403]\tvalidation_0-auc:0.628004\tvalidation_0-error:0.230546\tvalidation_1-auc:0.629288\tvalidation_1-error:0.228802\n",
      "[404]\tvalidation_0-auc:0.628027\tvalidation_0-error:0.230546\tvalidation_1-auc:0.629309\tvalidation_1-error:0.228802\n",
      "[405]\tvalidation_0-auc:0.628056\tvalidation_0-error:0.230546\tvalidation_1-auc:0.62929\tvalidation_1-error:0.228802\n",
      "[406]\tvalidation_0-auc:0.628075\tvalidation_0-error:0.230546\tvalidation_1-auc:0.629302\tvalidation_1-error:0.228802\n",
      "[407]\tvalidation_0-auc:0.628096\tvalidation_0-error:0.230546\tvalidation_1-auc:0.629296\tvalidation_1-error:0.228802\n",
      "[408]\tvalidation_0-auc:0.62812\tvalidation_0-error:0.230546\tvalidation_1-auc:0.629324\tvalidation_1-error:0.228802\n",
      "[409]\tvalidation_0-auc:0.628147\tvalidation_0-error:0.230546\tvalidation_1-auc:0.62933\tvalidation_1-error:0.228802\n",
      "[410]\tvalidation_0-auc:0.628179\tvalidation_0-error:0.230546\tvalidation_1-auc:0.629334\tvalidation_1-error:0.228802\n",
      "[411]\tvalidation_0-auc:0.628207\tvalidation_0-error:0.230546\tvalidation_1-auc:0.629349\tvalidation_1-error:0.228802\n",
      "[412]\tvalidation_0-auc:0.628239\tvalidation_0-error:0.230546\tvalidation_1-auc:0.629392\tvalidation_1-error:0.228802\n",
      "[413]\tvalidation_0-auc:0.628279\tvalidation_0-error:0.230546\tvalidation_1-auc:0.629376\tvalidation_1-error:0.228802\n",
      "[414]\tvalidation_0-auc:0.628288\tvalidation_0-error:0.230546\tvalidation_1-auc:0.629362\tvalidation_1-error:0.228802\n",
      "[415]\tvalidation_0-auc:0.62831\tvalidation_0-error:0.230546\tvalidation_1-auc:0.629369\tvalidation_1-error:0.228802\n",
      "[416]\tvalidation_0-auc:0.628335\tvalidation_0-error:0.230546\tvalidation_1-auc:0.629369\tvalidation_1-error:0.228802\n",
      "[417]\tvalidation_0-auc:0.628345\tvalidation_0-error:0.230546\tvalidation_1-auc:0.629383\tvalidation_1-error:0.228802\n",
      "[418]\tvalidation_0-auc:0.628356\tvalidation_0-error:0.230546\tvalidation_1-auc:0.629392\tvalidation_1-error:0.228802\n",
      "[419]\tvalidation_0-auc:0.628388\tvalidation_0-error:0.230546\tvalidation_1-auc:0.629429\tvalidation_1-error:0.228802\n",
      "[420]\tvalidation_0-auc:0.628408\tvalidation_0-error:0.230546\tvalidation_1-auc:0.629413\tvalidation_1-error:0.228802\n",
      "[421]\tvalidation_0-auc:0.628419\tvalidation_0-error:0.230546\tvalidation_1-auc:0.629416\tvalidation_1-error:0.228802\n",
      "[422]\tvalidation_0-auc:0.628467\tvalidation_0-error:0.230546\tvalidation_1-auc:0.629456\tvalidation_1-error:0.228802\n",
      "[423]\tvalidation_0-auc:0.628512\tvalidation_0-error:0.230546\tvalidation_1-auc:0.629468\tvalidation_1-error:0.228802\n",
      "[424]\tvalidation_0-auc:0.628543\tvalidation_0-error:0.230546\tvalidation_1-auc:0.629488\tvalidation_1-error:0.228802\n",
      "[425]\tvalidation_0-auc:0.628587\tvalidation_0-error:0.230546\tvalidation_1-auc:0.629476\tvalidation_1-error:0.228802\n",
      "[426]\tvalidation_0-auc:0.6286\tvalidation_0-error:0.230546\tvalidation_1-auc:0.629489\tvalidation_1-error:0.228802\n",
      "[427]\tvalidation_0-auc:0.62862\tvalidation_0-error:0.230546\tvalidation_1-auc:0.629498\tvalidation_1-error:0.228802\n",
      "[428]\tvalidation_0-auc:0.628646\tvalidation_0-error:0.230546\tvalidation_1-auc:0.629523\tvalidation_1-error:0.228802\n",
      "[429]\tvalidation_0-auc:0.628665\tvalidation_0-error:0.230546\tvalidation_1-auc:0.629536\tvalidation_1-error:0.228802\n",
      "[430]\tvalidation_0-auc:0.628703\tvalidation_0-error:0.230546\tvalidation_1-auc:0.62957\tvalidation_1-error:0.228802\n",
      "[431]\tvalidation_0-auc:0.628725\tvalidation_0-error:0.230546\tvalidation_1-auc:0.629581\tvalidation_1-error:0.228802\n",
      "[432]\tvalidation_0-auc:0.628738\tvalidation_0-error:0.230546\tvalidation_1-auc:0.629593\tvalidation_1-error:0.228802\n",
      "[433]\tvalidation_0-auc:0.628769\tvalidation_0-error:0.230546\tvalidation_1-auc:0.629609\tvalidation_1-error:0.228802\n",
      "[434]\tvalidation_0-auc:0.628789\tvalidation_0-error:0.230546\tvalidation_1-auc:0.629622\tvalidation_1-error:0.228802\n",
      "[435]\tvalidation_0-auc:0.628802\tvalidation_0-error:0.230546\tvalidation_1-auc:0.629633\tvalidation_1-error:0.228802\n",
      "[436]\tvalidation_0-auc:0.628805\tvalidation_0-error:0.230546\tvalidation_1-auc:0.629631\tvalidation_1-error:0.228802\n"
     ]
    },
    {
     "name": "stdout",
     "output_type": "stream",
     "text": [
      "[437]\tvalidation_0-auc:0.628821\tvalidation_0-error:0.230546\tvalidation_1-auc:0.629647\tvalidation_1-error:0.228802\n",
      "[438]\tvalidation_0-auc:0.628838\tvalidation_0-error:0.230546\tvalidation_1-auc:0.629648\tvalidation_1-error:0.228802\n",
      "[439]\tvalidation_0-auc:0.628865\tvalidation_0-error:0.230546\tvalidation_1-auc:0.62966\tvalidation_1-error:0.228802\n",
      "[440]\tvalidation_0-auc:0.628895\tvalidation_0-error:0.230546\tvalidation_1-auc:0.629714\tvalidation_1-error:0.228802\n",
      "[441]\tvalidation_0-auc:0.628915\tvalidation_0-error:0.230546\tvalidation_1-auc:0.629725\tvalidation_1-error:0.228802\n",
      "[442]\tvalidation_0-auc:0.628933\tvalidation_0-error:0.230546\tvalidation_1-auc:0.629717\tvalidation_1-error:0.228802\n",
      "[443]\tvalidation_0-auc:0.628959\tvalidation_0-error:0.230546\tvalidation_1-auc:0.629737\tvalidation_1-error:0.228802\n",
      "[444]\tvalidation_0-auc:0.62897\tvalidation_0-error:0.230546\tvalidation_1-auc:0.629735\tvalidation_1-error:0.228802\n",
      "[445]\tvalidation_0-auc:0.628981\tvalidation_0-error:0.230546\tvalidation_1-auc:0.629747\tvalidation_1-error:0.228802\n",
      "[446]\tvalidation_0-auc:0.628988\tvalidation_0-error:0.230546\tvalidation_1-auc:0.62976\tvalidation_1-error:0.228802\n",
      "[447]\tvalidation_0-auc:0.629004\tvalidation_0-error:0.230546\tvalidation_1-auc:0.629779\tvalidation_1-error:0.228802\n",
      "[448]\tvalidation_0-auc:0.629016\tvalidation_0-error:0.230546\tvalidation_1-auc:0.629778\tvalidation_1-error:0.228802\n",
      "[449]\tvalidation_0-auc:0.629032\tvalidation_0-error:0.230546\tvalidation_1-auc:0.629779\tvalidation_1-error:0.228802\n",
      "[450]\tvalidation_0-auc:0.629046\tvalidation_0-error:0.230546\tvalidation_1-auc:0.629774\tvalidation_1-error:0.228802\n",
      "[451]\tvalidation_0-auc:0.629073\tvalidation_0-error:0.230546\tvalidation_1-auc:0.629787\tvalidation_1-error:0.228802\n",
      "[452]\tvalidation_0-auc:0.629084\tvalidation_0-error:0.230546\tvalidation_1-auc:0.629787\tvalidation_1-error:0.228802\n",
      "[453]\tvalidation_0-auc:0.629106\tvalidation_0-error:0.230546\tvalidation_1-auc:0.629795\tvalidation_1-error:0.228802\n",
      "[454]\tvalidation_0-auc:0.629121\tvalidation_0-error:0.230546\tvalidation_1-auc:0.629797\tvalidation_1-error:0.228802\n",
      "[455]\tvalidation_0-auc:0.629146\tvalidation_0-error:0.230546\tvalidation_1-auc:0.629814\tvalidation_1-error:0.228802\n",
      "[456]\tvalidation_0-auc:0.629155\tvalidation_0-error:0.230546\tvalidation_1-auc:0.629834\tvalidation_1-error:0.228802\n",
      "[457]\tvalidation_0-auc:0.629181\tvalidation_0-error:0.230546\tvalidation_1-auc:0.629855\tvalidation_1-error:0.228802\n",
      "[458]\tvalidation_0-auc:0.629223\tvalidation_0-error:0.230546\tvalidation_1-auc:0.629874\tvalidation_1-error:0.228802\n",
      "[459]\tvalidation_0-auc:0.629237\tvalidation_0-error:0.230546\tvalidation_1-auc:0.629863\tvalidation_1-error:0.228802\n",
      "[460]\tvalidation_0-auc:0.629254\tvalidation_0-error:0.230546\tvalidation_1-auc:0.629861\tvalidation_1-error:0.228802\n",
      "[461]\tvalidation_0-auc:0.629268\tvalidation_0-error:0.230546\tvalidation_1-auc:0.62986\tvalidation_1-error:0.228802\n",
      "[462]\tvalidation_0-auc:0.629315\tvalidation_0-error:0.230546\tvalidation_1-auc:0.629861\tvalidation_1-error:0.228802\n",
      "[463]\tvalidation_0-auc:0.629336\tvalidation_0-error:0.230546\tvalidation_1-auc:0.629879\tvalidation_1-error:0.228802\n",
      "[464]\tvalidation_0-auc:0.629355\tvalidation_0-error:0.230546\tvalidation_1-auc:0.629867\tvalidation_1-error:0.228802\n",
      "[465]\tvalidation_0-auc:0.629385\tvalidation_0-error:0.230546\tvalidation_1-auc:0.629903\tvalidation_1-error:0.228802\n",
      "[466]\tvalidation_0-auc:0.629414\tvalidation_0-error:0.230546\tvalidation_1-auc:0.629907\tvalidation_1-error:0.228802\n",
      "[467]\tvalidation_0-auc:0.629443\tvalidation_0-error:0.230546\tvalidation_1-auc:0.629935\tvalidation_1-error:0.228802\n",
      "[468]\tvalidation_0-auc:0.629459\tvalidation_0-error:0.230546\tvalidation_1-auc:0.629959\tvalidation_1-error:0.228802\n",
      "[469]\tvalidation_0-auc:0.629467\tvalidation_0-error:0.230546\tvalidation_1-auc:0.629967\tvalidation_1-error:0.228802\n",
      "[470]\tvalidation_0-auc:0.629503\tvalidation_0-error:0.230546\tvalidation_1-auc:0.629988\tvalidation_1-error:0.228802\n",
      "[471]\tvalidation_0-auc:0.629515\tvalidation_0-error:0.230546\tvalidation_1-auc:0.629986\tvalidation_1-error:0.228802\n",
      "[472]\tvalidation_0-auc:0.629546\tvalidation_0-error:0.230546\tvalidation_1-auc:0.630009\tvalidation_1-error:0.228802\n",
      "[473]\tvalidation_0-auc:0.629565\tvalidation_0-error:0.230546\tvalidation_1-auc:0.630005\tvalidation_1-error:0.228802\n",
      "[474]\tvalidation_0-auc:0.629597\tvalidation_0-error:0.230546\tvalidation_1-auc:0.630037\tvalidation_1-error:0.228802\n",
      "[475]\tvalidation_0-auc:0.629609\tvalidation_0-error:0.230546\tvalidation_1-auc:0.630056\tvalidation_1-error:0.228802\n",
      "[476]\tvalidation_0-auc:0.629649\tvalidation_0-error:0.230546\tvalidation_1-auc:0.630094\tvalidation_1-error:0.228802\n",
      "[477]\tvalidation_0-auc:0.629665\tvalidation_0-error:0.230546\tvalidation_1-auc:0.630097\tvalidation_1-error:0.228802\n",
      "[478]\tvalidation_0-auc:0.629679\tvalidation_0-error:0.230546\tvalidation_1-auc:0.630099\tvalidation_1-error:0.228802\n",
      "[479]\tvalidation_0-auc:0.629692\tvalidation_0-error:0.230546\tvalidation_1-auc:0.630086\tvalidation_1-error:0.228802\n",
      "[480]\tvalidation_0-auc:0.629708\tvalidation_0-error:0.230546\tvalidation_1-auc:0.630077\tvalidation_1-error:0.228802\n",
      "[481]\tvalidation_0-auc:0.629739\tvalidation_0-error:0.230546\tvalidation_1-auc:0.630091\tvalidation_1-error:0.228802\n",
      "[482]\tvalidation_0-auc:0.629758\tvalidation_0-error:0.230546\tvalidation_1-auc:0.630097\tvalidation_1-error:0.228802\n",
      "[483]\tvalidation_0-auc:0.629776\tvalidation_0-error:0.230546\tvalidation_1-auc:0.630106\tvalidation_1-error:0.228802\n",
      "[484]\tvalidation_0-auc:0.629795\tvalidation_0-error:0.230546\tvalidation_1-auc:0.630101\tvalidation_1-error:0.228802\n",
      "[485]\tvalidation_0-auc:0.629818\tvalidation_0-error:0.230546\tvalidation_1-auc:0.630098\tvalidation_1-error:0.228802\n",
      "[486]\tvalidation_0-auc:0.629853\tvalidation_0-error:0.230546\tvalidation_1-auc:0.630143\tvalidation_1-error:0.228802\n",
      "[487]\tvalidation_0-auc:0.629866\tvalidation_0-error:0.230546\tvalidation_1-auc:0.630157\tvalidation_1-error:0.228802\n",
      "[488]\tvalidation_0-auc:0.629898\tvalidation_0-error:0.230546\tvalidation_1-auc:0.630158\tvalidation_1-error:0.228802\n",
      "[489]\tvalidation_0-auc:0.629921\tvalidation_0-error:0.230546\tvalidation_1-auc:0.630165\tvalidation_1-error:0.228802\n",
      "[490]\tvalidation_0-auc:0.62993\tvalidation_0-error:0.230546\tvalidation_1-auc:0.630172\tvalidation_1-error:0.228802\n",
      "[491]\tvalidation_0-auc:0.629962\tvalidation_0-error:0.230546\tvalidation_1-auc:0.630192\tvalidation_1-error:0.228802\n",
      "[492]\tvalidation_0-auc:0.629987\tvalidation_0-error:0.230546\tvalidation_1-auc:0.630213\tvalidation_1-error:0.228802\n",
      "[493]\tvalidation_0-auc:0.630029\tvalidation_0-error:0.230546\tvalidation_1-auc:0.630256\tvalidation_1-error:0.228802\n",
      "[494]\tvalidation_0-auc:0.630044\tvalidation_0-error:0.230546\tvalidation_1-auc:0.63026\tvalidation_1-error:0.228802\n",
      "[495]\tvalidation_0-auc:0.630081\tvalidation_0-error:0.230546\tvalidation_1-auc:0.630261\tvalidation_1-error:0.228802\n",
      "[496]\tvalidation_0-auc:0.630098\tvalidation_0-error:0.230546\tvalidation_1-auc:0.630256\tvalidation_1-error:0.228802\n",
      "[497]\tvalidation_0-auc:0.630128\tvalidation_0-error:0.230546\tvalidation_1-auc:0.630259\tvalidation_1-error:0.228802\n",
      "[498]\tvalidation_0-auc:0.630143\tvalidation_0-error:0.230546\tvalidation_1-auc:0.630257\tvalidation_1-error:0.228802\n",
      "[499]\tvalidation_0-auc:0.630154\tvalidation_0-error:0.230546\tvalidation_1-auc:0.630253\tvalidation_1-error:0.228802\n",
      "Wall time: 1min 15s\n"
     ]
    },
    {
     "data": {
      "text/plain": [
       "XGBClassifier(base_score=0.5, booster='gbtree', colsample_bylevel=1,\n",
       "       colsample_bytree=1, gamma=1, learning_rate=0.01, max_delta_step=0,\n",
       "       max_depth=3, min_child_weight=1, missing=None, n_estimators=500,\n",
       "       n_jobs=1, nthread=None, objective='binary:logistic', random_state=0,\n",
       "       reg_alpha=0, reg_lambda=1, scale_pos_weight=1, seed=None,\n",
       "       silent=True, subsample=0.8)"
      ]
     },
     "execution_count": 134,
     "metadata": {},
     "output_type": "execute_result"
    }
   ],
   "source": [
    "eval_set = [(X_train_thin, Y_train_thin), (X_test_thin, Y_test_thin)]\n",
    "eval_metric = [\"auc\",\"error\"]\n",
    "%time model_xg_thin.fit(X_train_thin, Y_train_thin, eval_metric=eval_metric, eval_set=eval_set, verbose=True)"
   ]
  },
  {
   "cell_type": "code",
   "execution_count": 135,
   "metadata": {},
   "outputs": [],
   "source": [
    "y_score = model_xg_thin.predict_proba(X_test_thin)\n",
    "y_test = Y_test_thin\n",
    "y_score = y_score[:,1]\n",
    "fpr, tpr, _ = roc_curve(y_test, y_score)\n",
    "roc_auc = auc(fpr, tpr)\n"
   ]
  },
  {
   "cell_type": "code",
   "execution_count": 136,
   "metadata": {},
   "outputs": [
    {
     "data": {
      "image/png": "[encoded data removed]",
      "text/plain": [
       "<Figure size 1440x720 with 1 Axes>"
      ]
     },
     "metadata": {
      "needs_background": "light"
     },
     "output_type": "display_data"
    }
   ],
   "source": [
    "plt.figure(figsize=(20, 10))\n",
    "plt.plot(fpr, tpr, color='darkorange', label='ROC curve (area = %0.2f)' % roc_auc)\n",
    "plt.plot([0, 1], [0, 1], color='navy', lw=2, linestyle='--')\n",
    "plt.xlim([0.0, 1.0])\n",
    "plt.ylim([0.0, 1.05])\n",
    "plt.xlabel('False Positive Rate')\n",
    "plt.ylabel('True Positive Rate')\n",
    "plt.title('Risk Prediction - ROC')\n",
    "plt.legend(loc=\"lower right\")\n",
    "plt.savefig('ROC.png')\n",
    "plt.show()"
   ]
  },
  {
   "cell_type": "code",
   "execution_count": 142,
   "metadata": {},
   "outputs": [],
   "source": [
    "sample_data = pd.read_csv(\"C:\\\\Users\\\\swati\\\\Downloads\\\\LT\\\\LT\\\\test_bqCt9Pv.csv\")"
   ]
  },
  {
   "cell_type": "code",
   "execution_count": 143,
   "metadata": {
    "scrolled": true
   },
   "outputs": [
    {
     "name": "stdout",
     "output_type": "stream",
     "text": [
      "<class 'pandas.core.frame.DataFrame'>\n",
      "RangeIndex: 112392 entries, 0 to 112391\n",
      "Data columns (total 40 columns):\n",
      "UniqueID                               112392 non-null int64\n",
      "disbursed_amount                       112392 non-null int64\n",
      "asset_cost                             112392 non-null int64\n",
      "ltv                                    112392 non-null float64\n",
      "branch_id                              112392 non-null int64\n",
      "supplier_id                            112392 non-null int64\n",
      "manufacturer_id                        112392 non-null int64\n",
      "Current_pincode_ID                     112392 non-null int64\n",
      "Date.of.Birth                          112392 non-null object\n",
      "Employment.Type                        108949 non-null object\n",
      "DisbursalDate                          112392 non-null object\n",
      "State_ID                               112392 non-null int64\n",
      "Employee_code_ID                       112392 non-null int64\n",
      "MobileNo_Avl_Flag                      112392 non-null int64\n",
      "Aadhar_flag                            112392 non-null int64\n",
      "PAN_flag                               112392 non-null int64\n",
      "VoterID_flag                           112392 non-null int64\n",
      "Driving_flag                           112392 non-null int64\n",
      "Passport_flag                          112392 non-null int64\n",
      "PERFORM_CNS.SCORE                      112392 non-null int64\n",
      "PERFORM_CNS.SCORE.DESCRIPTION          112392 non-null object\n",
      "PRI.NO.OF.ACCTS                        112392 non-null int64\n",
      "PRI.ACTIVE.ACCTS                       112392 non-null int64\n",
      "PRI.OVERDUE.ACCTS                      112392 non-null int64\n",
      "PRI.CURRENT.BALANCE                    112392 non-null int64\n",
      "PRI.SANCTIONED.AMOUNT                  112392 non-null int64\n",
      "PRI.DISBURSED.AMOUNT                   112392 non-null int64\n",
      "SEC.NO.OF.ACCTS                        112392 non-null int64\n",
      "SEC.ACTIVE.ACCTS                       112392 non-null int64\n",
      "SEC.OVERDUE.ACCTS                      112392 non-null int64\n",
      "SEC.CURRENT.BALANCE                    112392 non-null int64\n",
      "SEC.SANCTIONED.AMOUNT                  112392 non-null int64\n",
      "SEC.DISBURSED.AMOUNT                   112392 non-null int64\n",
      "PRIMARY.INSTAL.AMT                     112392 non-null int64\n",
      "SEC.INSTAL.AMT                         112392 non-null int64\n",
      "NEW.ACCTS.IN.LAST.SIX.MONTHS           112392 non-null int64\n",
      "DELINQUENT.ACCTS.IN.LAST.SIX.MONTHS    112392 non-null int64\n",
      "AVERAGE.ACCT.AGE                       112392 non-null object\n",
      "CREDIT.HISTORY.LENGTH                  112392 non-null object\n",
      "NO.OF_INQUIRIES                        112392 non-null int64\n",
      "dtypes: float64(1), int64(33), object(6)\n",
      "memory usage: 34.3+ MB\n"
     ]
    }
   ],
   "source": [
    "sample_data.info()"
   ]
  },
  {
   "cell_type": "code",
   "execution_count": 144,
   "metadata": {},
   "outputs": [],
   "source": [
    "sample_data[\"Disbusrsal_year\"] = sample_data[\"DisbursalDate\"].str[6:]\n",
    "sample_data[\"Birth_year\"]= sample_data[\"Date.of.Birth\"].str[6:]\n",
    "sample_data[\"Age\"] = 100+ (sample_data[\"Disbusrsal_year\"].astype(str).astype(int)  - sample_data[\"Birth_year\"].astype(str).astype(int))\n"
   ]
  },
  {
   "cell_type": "code",
   "execution_count": 145,
   "metadata": {},
   "outputs": [],
   "source": [
    "sample_thick =sample_data[~sample_data[\"PERFORM_CNS.SCORE.DESCRIPTION\"].isin(['No Bureau History Available','Not Scored: Sufficient History Not Available','Not Scored: Not Enough Info available on the customer','Not Scored: No Activity seen on the customer (Inactive)','Not Scored: Only a Guarantor','Not Scored: More than 50 active Accounts found' ])].reset_index()\n"
   ]
  },
  {
   "cell_type": "code",
   "execution_count": 146,
   "metadata": {},
   "outputs": [],
   "source": [
    "sample_thin = sample_data[sample_data[\"PERFORM_CNS.SCORE.DESCRIPTION\"].isin(['No Bureau History Available','Not Scored: Sufficient History Not Available','Not Scored: Not Enough Info available on the customer','Not Scored: No Activity seen on the customer (Inactive)','Not Scored: Only a Guarantor','Not Scored: More than 50 active Accounts found' ])].reset_index()\n"
   ]
  },
  {
   "cell_type": "code",
   "execution_count": 147,
   "metadata": {},
   "outputs": [],
   "source": [
    "sample_thick[\"Curr_Utilization\"] = sample_thick[\"PRI.CURRENT.BALANCE\"]/sample_thick[\"PRI.DISBURSED.AMOUNT\"]\n",
    "sample_thick[\"Curr_util_rev\"] = np.where(sample_thick[\"Curr_Utilization\"] <= 0, 0 , sample_thick[\"Curr_Utilization\"])\n",
    "sample_thick[\"Curr_util_rev1\"] = np.where(sample_thick[\"PRI.DISBURSED.AMOUNT\"]== 0 ,0,sample_thick[\"Curr_util_rev\"] )"
   ]
  },
  {
   "cell_type": "code",
   "execution_count": 148,
   "metadata": {},
   "outputs": [],
   "source": [
    "\n",
    "sample_thick.loc[(sample_thick[\"PRI.ACTIVE.ACCTS\"] == 0), \"active_accts_band\"]= \"No active accts\"\n",
    "sample_thick.loc[(sample_thick[\"PRI.ACTIVE.ACCTS\"] >0) & (sample_thick[\"PRI.ACTIVE.ACCTS\"] < 3), \"active_accts_band\"]= \"1-2 active accts\"\n",
    "sample_thick.loc[(sample_thick[\"PRI.ACTIVE.ACCTS\"] >2) & (sample_thick[\"PRI.ACTIVE.ACCTS\"] < 6), \"active_accts_band\"]= \"3-5 active accts\"\n",
    "sample_thick.loc[(sample_thick[\"PRI.ACTIVE.ACCTS\"] >5), \"active_accts_band\"]= \"Greater than 5 active accts\"\n"
   ]
  },
  {
   "cell_type": "code",
   "execution_count": 150,
   "metadata": {},
   "outputs": [],
   "source": [
    "sample_thick[\"no_of_id\"]= sample_thick[\"Aadhar_flag\"] + sample_thick[\"PAN_flag\"] + sample_thick[\"VoterID_flag\"] + sample_thick[\"Driving_flag\"] + sample_thick[\"Passport_flag\"]\n",
    "sample_thick.loc[(sample_thick[\"PRI.DISBURSED.AMOUNT\"] < sample_thick[\"PRI.CURRENT.BALANCE\"]), \"dis_gt_bl\"]= 1\n",
    "sample_thick.loc[~(sample_thick[\"PRI.DISBURSED.AMOUNT\"] < sample_thick[\"PRI.CURRENT.BALANCE\"]), \"dis_gt_bl\"]= 0\n",
    "\n",
    "sample_thick[\"Sec_Curr_Utilization\"] = sample_thick[\"SEC.CURRENT.BALANCE\"]/sample_thick[\"SEC.DISBURSED.AMOUNT\"]\n",
    "\n",
    "sample_thick[\"Sec_Curr_Utilization\"].value_counts(normalize = True)\n",
    "\n",
    "sample_thick[sample_thick[\"SEC.CURRENT.BALANCE\"]>0]\n",
    "\n",
    "sample_thick[\"Sec_Curr_util_rev\"] = np.where(sample_thick[\"Sec_Curr_Utilization\"] <= 0, 0 , sample_thick[\"Sec_Curr_Utilization\"])\n",
    "sample_thick[\"Sec_Curr_util_rev1\"] = np.where(sample_thick[\"SEC.DISBURSED.AMOUNT\"]== 0 ,0,sample_thick[\"Sec_Curr_util_rev\"] )\n",
    "\n",
    "sample_thick[\"dis_sanc_amt\"]= sample_thick[\"PRI.SANCTIONED.AMOUNT\"] - sample_thick[\"PRI.DISBURSED.AMOUNT\"] "
   ]
  },
  {
   "cell_type": "code",
   "execution_count": 151,
   "metadata": {},
   "outputs": [
    {
     "name": "stderr",
     "output_type": "stream",
     "text": [
      "C:\\Users\\swati\\AppData\\Local\\Continuum\\anaconda3\\lib\\site-packages\\ipykernel_launcher.py:9: SettingWithCopyWarning: \n",
      "A value is trying to be set on a copy of a slice from a DataFrame.\n",
      "Try using .loc[row_indexer,col_indexer] = value instead\n",
      "\n",
      "See the caveats in the documentation: http://pandas.pydata.org/pandas-docs/stable/indexing.html#indexing-view-versus-copy\n",
      "  if __name__ == '__main__':\n",
      "C:\\Users\\swati\\AppData\\Local\\Continuum\\anaconda3\\lib\\site-packages\\ipykernel_launcher.py:10: SettingWithCopyWarning: \n",
      "A value is trying to be set on a copy of a slice from a DataFrame.\n",
      "Try using .loc[row_indexer,col_indexer] = value instead\n",
      "\n",
      "See the caveats in the documentation: http://pandas.pydata.org/pandas-docs/stable/indexing.html#indexing-view-versus-copy\n",
      "  # Remove the CWD from sys.path while we load stuff.\n",
      "C:\\Users\\swati\\AppData\\Local\\Continuum\\anaconda3\\lib\\site-packages\\ipykernel_launcher.py:13: SettingWithCopyWarning: \n",
      "A value is trying to be set on a copy of a slice from a DataFrame.\n",
      "Try using .loc[row_indexer,col_indexer] = value instead\n",
      "\n",
      "See the caveats in the documentation: http://pandas.pydata.org/pandas-docs/stable/indexing.html#indexing-view-versus-copy\n",
      "  del sys.path[0]\n"
     ]
    },
    {
     "name": "stdout",
     "output_type": "stream",
     "text": [
      "<class 'pandas.core.frame.DataFrame'>\n",
      "RangeIndex: 50140 entries, 0 to 50139\n",
      "Data columns (total 2 columns):\n",
      "yrs       50140 non-null int32\n",
      "months    50140 non-null int32\n",
      "dtypes: int32(2)\n",
      "memory usage: 391.8 KB\n",
      "None\n",
      "        mob\n",
      "0  1.000000\n",
      "1  2.416667\n",
      "2  2.166667\n",
      "3  2.500000\n",
      "4  0.916667\n"
     ]
    }
   ],
   "source": [
    "new = sample_thick[\"CREDIT.HISTORY.LENGTH\"].str.split(\"yrs\", n = 1, expand = True)\n",
    "\n",
    "new_1 = new[1].str.split(\"mon\",n=1,expand=True)\n",
    "\n",
    "new_all = pd.concat([new, new_1], axis=1)\n",
    "# print(new_all)\n",
    "new_all.columns= [\"yrs\",\"text_mon\",\"months\",\"drop\"]\n",
    "new_all_2= new_all[[\"yrs\",\"months\"]]\n",
    "new_all_2[\"yrs\"] = new_all_2[\"yrs\"].astype(str).astype(int)\n",
    "new_all_2[\"months\"] = new_all_2[\"months\"].astype(str).astype(int)\n",
    "print(new_all_2.info())\n",
    "\n",
    "new_all_2[\"point_years\"] = new_all_2[\"months\"]/12\n",
    "\n",
    "new_all_2.head(5)\n",
    "\n",
    "new_all_2[\"mob\"] = new_all_2[\"yrs\"] + new_all_2[\"point_years\"]\n",
    "mob = pd.DataFrame(new_all_2[\"mob\"])\n",
    "print(mob.head(5))\n",
    "\n",
    "sample_thick = sample_thick.merge(mob,left_index = True,right_index = True)"
   ]
  },
  {
   "cell_type": "code",
   "execution_count": 152,
   "metadata": {},
   "outputs": [],
   "source": [
    "sample_thick_score = sample_thick[[\n",
    "'ltv',\n",
    "'no_of_id',\n",
    "'Employment.Type',\n",
    "'State_ID',\n",
    "'manufacturer_id',\n",
    "'PRI.ACTIVE.ACCTS',\n",
    "'PERFORM_CNS.SCORE',\n",
    "'PRIMARY.INSTAL.AMT',\n",
    "'SEC.OVERDUE.ACCTS',\n",
    "'DELINQUENT.ACCTS.IN.LAST.SIX.MONTHS',\n",
    "'NO.OF_INQUIRIES',\n",
    "'PRI.CURRENT.BALANCE',\n",
    "'PRI.SANCTIONED.AMOUNT',\n",
    "'PRI.DISBURSED.AMOUNT',\n",
    "'dis_sanc_amt',\n",
    "'dis_gt_bl',\n",
    "'Sec_Curr_util_rev1',\n",
    "'Curr_util_rev1',\n",
    "'Age',\n",
    "'mob'\n",
    "]]"
   ]
  },
  {
   "cell_type": "code",
   "execution_count": 153,
   "metadata": {},
   "outputs": [],
   "source": [
    "sample_thick_score = pd.get_dummies(sample_thick_score)"
   ]
  },
  {
   "cell_type": "code",
   "execution_count": 157,
   "metadata": {},
   "outputs": [
    {
     "name": "stdout",
     "output_type": "stream",
     "text": [
      "[[0.69348645 0.30651358]\n",
      " [0.68694174 0.31305823]\n",
      " [0.8549525  0.14504749]\n",
      " ...\n",
      " [0.7717644  0.2282356 ]\n",
      " [0.8540755  0.14592452]\n",
      " [0.78856504 0.21143498]]\n",
      "[1 1 0 ... 0 0 0]\n"
     ]
    }
   ],
   "source": [
    "y_pred = model_xg.predict_proba(sample_thick_score)\n",
    "thresh = 0.30\n",
    "\n",
    "print(y_pred)\n",
    "\n",
    "thresh_pred = (y_pred[:, 1]>thresh).astype(int)\n",
    "\n",
    "print(thresh_pred)\n",
    "\n",
    "sum(thresh_pred)\n",
    "\n",
    "sample_thick_score.shape\n",
    "\n",
    "sample_thick[\"loan_default\"] = thresh_pred"
   ]
  },
  {
   "cell_type": "code",
   "execution_count": 158,
   "metadata": {},
   "outputs": [],
   "source": [
    "sample_thin[\"no_of_id\"]= sample_thin[\"Aadhar_flag\"] + sample_thin[\"PAN_flag\"] + sample_thin[\"VoterID_flag\"] + sample_thin[\"Driving_flag\"] + sample_thin[\"Passport_flag\"]\n"
   ]
  },
  {
   "cell_type": "code",
   "execution_count": 159,
   "metadata": {},
   "outputs": [],
   "source": [
    "sample_thin_score = sample_thin[['ltv',\n",
    "'Employment.Type',\n",
    "'no_of_id',\n",
    "'State_ID',\n",
    "'manufacturer_id',\n",
    "'asset_cost',\n",
    "'disbursed_amount',\n",
    "'NO.OF_INQUIRIES',\n",
    "'Age'\n",
    "]]"
   ]
  },
  {
   "cell_type": "code",
   "execution_count": 160,
   "metadata": {},
   "outputs": [],
   "source": [
    "sample_thin_score = pd.get_dummies(sample_thin_score)"
   ]
  },
  {
   "cell_type": "code",
   "execution_count": 164,
   "metadata": {},
   "outputs": [
    {
     "name": "stdout",
     "output_type": "stream",
     "text": [
      "[[0.7316603  0.2683397 ]\n",
      " [0.7728717  0.22712831]\n",
      " [0.78622246 0.21377756]\n",
      " ...\n",
      " [0.86610675 0.13389324]\n",
      " [0.79836595 0.20163406]\n",
      " [0.88811046 0.11188954]]\n",
      "[0 0 0 ... 0 0 0]\n"
     ]
    }
   ],
   "source": [
    "y_pred_thin = model_xg_thin.predict_proba(sample_thin_score)\n",
    "thresh = 0.30\n",
    "\n",
    "print(y_pred_thin)\n",
    "\n",
    "thresh_pred = (y_pred_thin[:, 1]>thresh).astype(int)\n",
    "\n",
    "print(thresh_pred)\n",
    "\n",
    "\n",
    "sample_thin_score.shape\n",
    "\n",
    "sample_thin[\"loan_default\"] = thresh_pred"
   ]
  },
  {
   "cell_type": "code",
   "execution_count": 165,
   "metadata": {},
   "outputs": [
    {
     "data": {
      "text/plain": [
       "7715"
      ]
     },
     "execution_count": 165,
     "metadata": {},
     "output_type": "execute_result"
    }
   ],
   "source": [
    "\n",
    "sum(thresh_pred)"
   ]
  },
  {
   "cell_type": "code",
   "execution_count": 166,
   "metadata": {},
   "outputs": [
    {
     "data": {
      "text/plain": [
       "(62252, 46)"
      ]
     },
     "execution_count": 166,
     "metadata": {},
     "output_type": "execute_result"
    }
   ],
   "source": [
    "sample_thin.shape"
   ]
  },
  {
   "cell_type": "code",
   "execution_count": 168,
   "metadata": {},
   "outputs": [],
   "source": [
    "score_thick = sample_thick[[\"UniqueID\",\"loan_default\"]]"
   ]
  },
  {
   "cell_type": "code",
   "execution_count": 169,
   "metadata": {},
   "outputs": [],
   "source": [
    "score_thin= sample_thin[[\"UniqueID\",\"loan_default\"]]"
   ]
  },
  {
   "cell_type": "code",
   "execution_count": 170,
   "metadata": {},
   "outputs": [],
   "source": [
    "score= score_thick.append([score_thin])"
   ]
  },
  {
   "cell_type": "code",
   "execution_count": 171,
   "metadata": {},
   "outputs": [
    {
     "data": {
      "text/plain": [
       "(112392, 2)"
      ]
     },
     "execution_count": 171,
     "metadata": {},
     "output_type": "execute_result"
    }
   ],
   "source": [
    "score.shape"
   ]
  },
  {
   "cell_type": "code",
   "execution_count": 172,
   "metadata": {},
   "outputs": [
    {
     "data": {
      "text/plain": [
       "(112392, 43)"
      ]
     },
     "execution_count": 172,
     "metadata": {},
     "output_type": "execute_result"
    }
   ],
   "source": [
    "sample_data.shape"
   ]
  },
  {
   "cell_type": "code",
   "execution_count": 175,
   "metadata": {},
   "outputs": [],
   "source": [
    "score.to_csv(\"C:\\\\Users\\\\swati\\\\Downloads\\\\LT\\\\LT\\\\submission.csv\",index= False)"
   ]
  },
  {
   "cell_type": "code",
   "execution_count": null,
   "metadata": {},
   "outputs": [],
   "source": []
  }
 ],
 "metadata": {
  "kernelspec": {
   "display_name": "Python 3",
   "language": "python",
   "name": "python3"
  },
  "language_info": {
   "codemirror_mode": {
    "name": "ipython",
    "version": 3
   },
   "file_extension": ".py",
   "mimetype": "text/x-python",
   "name": "python",
   "nbconvert_exporter": "python",
   "pygments_lexer": "ipython3",
   "version": "3.6.4"
  }
 },
 "nbformat": 4,
 "nbformat_minor": 2
}
